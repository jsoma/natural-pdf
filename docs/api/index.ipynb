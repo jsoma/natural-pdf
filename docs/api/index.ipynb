{
 "cells": [
  {
   "cell_type": "markdown",
   "id": "9626775b",
   "metadata": {},
   "source": [
    "# API Reference\n",
    "\n",
    "This section provides detailed documentation for all the classes and methods in Natural PDF.\n",
    "\n",
    "## Core Classes\n",
    "\n",
    "### PDF Class\n",
    "\n",
    "The main entry point for working with PDFs."
   ]
  },
  {
   "cell_type": "code",
   "execution_count": 1,
   "id": "5b45dca9",
   "metadata": {
    "execution": {
     "iopub.execute_input": "2025-04-03T14:50:38.416988Z",
     "iopub.status.busy": "2025-04-03T14:50:38.416350Z",
     "iopub.status.idle": "2025-04-03T14:50:38.452181Z",
     "shell.execute_reply": "2025-04-03T14:50:38.430044Z"
    }
   },
   "outputs": [],
   "source": [
    "class PDF:\n",
    "    \"\"\"\n",
    "    The main entry point for working with PDFs.\n",
    "    \n",
    "    Parameters:\n",
    "        path (str): Path to the PDF file.\n",
    "        password (str, optional): Password for encrypted PDFs. Default: None\n",
    "        reading_order (bool, optional): Sort elements in reading order. Default: True\n",
    "        keep_spaces (bool, optional): Keep spaces in word elements. Default: True\n",
    "        font_attrs (list, optional): Font attributes to use for text grouping. \n",
    "                                    Default: ['fontname', 'size']\n",
    "        ocr (bool/dict/str, optional): OCR configuration. Default: False\n",
    "        ocr_engine (str/Engine, optional): OCR engine to use. Default: \"easyocr\"\n",
    "    \"\"\""
   ]
  },
  {
   "cell_type": "markdown",
   "id": "04467ce1",
   "metadata": {},
   "source": [
    "**Main Methods**\n",
    "\n",
    "| Method | Description | Parameters | Returns |\n",
    "|--------|-------------|------------|---------|\n",
    "| `pages` | Access pages in the document | N/A (property) | `PageCollection` |\n",
    "| `extract_text(keep_blank_chars=True, apply_exclusions=True)` | Extract text from all pages | `keep_blank_chars`: Whether to keep blank characters<br>`apply_exclusions`: Whether to apply exclusion zones | `str`: Extracted text |\n",
    "| `find(selector, case=True, regex=False, apply_exclusions=True)` | Find first element matching selector across all pages | `selector`: CSS-like selector string<br>`case`: Case-sensitive search<br>`regex`: Use regex for :contains()<br>`apply_exclusions`: Whether to apply exclusion zones | `Element` or `None` |\n",
    "| `find_all(selector, case=True, regex=False, apply_exclusions=True)` | Find all elements matching selector across all pages | `selector`: CSS-like selector string<br>`case`: Case-sensitive search<br>`regex`: Use regex for :contains()<br>`apply_exclusions`: Whether to apply exclusion zones | `ElementCollection` |\n",
    "| `add_exclusion(func, label=None)` | Add a document-wide exclusion zone | `func`: Function taking a page and returning region<br>`label`: Optional label for the exclusion | `None` |\n",
    "| `get_sections(start_elements, end_elements=None, boundary_inclusion='start')` | Get sections across all pages | `start_elements`: Elements marking section starts<br>`end_elements`: Elements marking section ends<br>`boundary_inclusion`: How to include boundaries ('start', 'end', 'both', 'none') | `list[Region]` |\n",
    "| `ask(question, min_confidence=0.0, model=None)` | Ask a question about the document content | `question`: Question to ask<br>`min_confidence`: Minimum confidence threshold<br>`model`: Optional model name or path | `dict`: Result with answer and metadata |\n",
    "\n",
    "### Page Class\n",
    "\n",
    "Represents a single page in a PDF document."
   ]
  },
  {
   "cell_type": "code",
   "execution_count": 2,
   "id": "0afb4dce",
   "metadata": {
    "execution": {
     "iopub.execute_input": "2025-04-03T14:50:38.460646Z",
     "iopub.status.busy": "2025-04-03T14:50:38.459960Z",
     "iopub.status.idle": "2025-04-03T14:50:38.467177Z",
     "shell.execute_reply": "2025-04-03T14:50:38.463696Z"
    }
   },
   "outputs": [],
   "source": [
    "class Page:\n",
    "    \"\"\"\n",
    "    Represents a single page in a PDF document.\n",
    "    \n",
    "    Properties:\n",
    "        page_number (int): 1-indexed page number\n",
    "        page_index (int): 0-indexed page position\n",
    "        width (float): Page width in points\n",
    "        height (float): Page height in points\n",
    "        pdf (PDF): Parent PDF object\n",
    "    \"\"\""
   ]
  },
  {
   "cell_type": "markdown",
   "id": "3153cef3",
   "metadata": {},
   "source": [
    "**Main Methods**\n",
    "\n",
    "| Method | Description | Parameters | Returns |\n",
    "|--------|-------------|------------|---------|\n",
    "| `extract_text(keep_blank_chars=True, apply_exclusions=True, ocr=None)` | Extract text from the page | `keep_blank_chars`: Whether to keep blank characters<br>`apply_exclusions`: Whether to apply exclusion zones<br>`ocr`: Whether to force OCR | `str`: Extracted text |\n",
    "| `find(selector, case=True, regex=False, apply_exclusions=True)` | Find the first element matching selector | `selector`: CSS-like selector string<br>`case`: Case-sensitive search<br>`regex`: Use regex for :contains()<br>`apply_exclusions`: Whether to apply exclusion zones | `Element` or `None` |\n",
    "| `find_all(selector, case=True, regex=False, apply_exclusions=True)` | Find all elements matching selector | `selector`: CSS-like selector string<br>`case`: Case-sensitive search<br>`regex`: Use regex for :contains()<br>`apply_exclusions`: Whether to apply exclusion zones | `ElementCollection` |\n",
    "| `create_region(x0, top, x1, bottom)` | Create a region at specific coordinates | `x0`: Left coordinate<br>`top`: Top coordinate<br>`x1`: Right coordinate<br>`bottom`: Bottom coordinate | `Region` |\n",
    "| `highlight(elements, color=None, label=None)` | Highlight elements on the page | `elements`: Elements to highlight<br>`color`: RGBA color tuple<br>`label`: Label for the highlight | `Page` (self) |\n",
    "| `highlight_all(include_types=None, include_text_styles=False, include_layout_regions=False)` | Highlight all elements on the page | `include_types`: Element types to include<br>`include_text_styles`: Whether to include text styles<br>`include_layout_regions`: Whether to include layout regions | `Page` (self) |\n",
    "| `save_image(path, resolution=72, labels=True)` | Save an image of the page with highlights | `path`: Path to save image<br>`resolution`: Image resolution in DPI<br>`labels`: Whether to include labels | `None` |\n",
    "| `to_image(resolution=72, labels=True)` | Get a PIL Image of the page with highlights | `resolution`: Image resolution in DPI<br>`labels`: Whether to include labels | `PIL.Image` |\n",
    "| `analyze_text_styles()` | Group text by visual style properties | None | `dict`: Mapping of style name to elements |\n",
    "| `analyze_layout(engine=\"yolo\", confidence=0.2, existing=\"replace\")` | Detect layout regions using ML models | `model`: Model to use (\"yolo\", \"tatr\")<br>`confidence`: Confidence threshold<br>`existing`: How to handle existing regions | `ElementCollection`: Detected regions |\n",
    "| `add_exclusion(region, label=None)` | Add an exclusion zone to the page | `region`: Region to exclude<br>`label`: Optional label for the exclusion | `Region`: The exclusion region |\n",
    "| `get_sections(start_elements, end_elements=None, boundary_inclusion='start')` | Get sections from the page | `start_elements`: Elements marking section starts<br>`end_elements`: Elements marking section ends<br>`boundary_inclusion`: How to include boundaries | `list[Region]` |\n",
    "| `ask(question, min_confidence=0.0, model=None, debug=False)` | Ask a question about the page content | `question`: Question to ask<br>`min_confidence`: Minimum confidence threshold<br>`model`: Optional model name or path<br>`debug`: Whether to save debug files | `dict`: Result with answer and metadata |\n",
    "| `apply_ocr(languages=None, min_confidence=0.0, **kwargs)` | Apply OCR to the page | `languages`: Languages to use<br>`min_confidence`: Minimum confidence threshold<br>`**kwargs`: Additional OCR engine parameters | `ElementCollection`: OCR text elements |\n",
    "\n",
    "### Region Class\n",
    "\n",
    "Represents a rectangular area on a page."
   ]
  },
  {
   "cell_type": "code",
   "execution_count": 3,
   "id": "bb58b687",
   "metadata": {
    "execution": {
     "iopub.execute_input": "2025-04-03T14:50:38.473230Z",
     "iopub.status.busy": "2025-04-03T14:50:38.472396Z",
     "iopub.status.idle": "2025-04-03T14:50:38.477646Z",
     "shell.execute_reply": "2025-04-03T14:50:38.476553Z"
    }
   },
   "outputs": [],
   "source": [
    "class Region:\n",
    "    \"\"\"\n",
    "    Represents a rectangular area on a page.\n",
    "    \n",
    "    Properties:\n",
    "        x0 (float): Left coordinate\n",
    "        top (float): Top coordinate\n",
    "        x1 (float): Right coordinate\n",
    "        bottom (float): Bottom coordinate\n",
    "        width (float): Width of the region\n",
    "        height (float): Height of the region\n",
    "        page (Page): Parent page object\n",
    "    \"\"\""
   ]
  },
  {
   "cell_type": "markdown",
   "id": "20da8e0f",
   "metadata": {},
   "source": [
    "**Main Methods**\n",
    "\n",
    "| Method | Description | Parameters | Returns |\n",
    "|--------|-------------|------------|---------|\n",
    "| `extract_text(keep_blank_chars=True, apply_exclusions=True, ocr=None)` | Extract text from the region | `keep_blank_chars`: Whether to keep blank characters<br>`apply_exclusions`: Whether to apply exclusion zones<br>`ocr`: Whether to force OCR | `str`: Extracted text |\n",
    "| `find(selector, case=True, regex=False, apply_exclusions=True)` | Find the first element matching selector within the region | `selector`: CSS-like selector string<br>`case`: Case-sensitive search<br>`regex`: Use regex for :contains()<br>`apply_exclusions`: Whether to apply exclusion zones | `Element` or `None` |\n",
    "| `find_all(selector, case=True, regex=False, apply_exclusions=True)` | Find all elements matching selector within the region | `selector`: CSS-like selector string<br>`case`: Case-sensitive search<br>`regex`: Use regex for :contains()<br>`apply_exclusions`: Whether to apply exclusion zones | `ElementCollection` |\n",
    "| `expand(left=0, top=0, right=0, bottom=0, width_factor=1.0, height_factor=1.0)` | Expand the region in specified directions | `left/top/right/bottom`: Points to expand in each direction<br>`width_factor/height_factor`: Scale width/height by this factor | `Region`: Expanded region |\n",
    "| `highlight(color=None, label=None, include_attrs=None)` | Highlight the region | `color`: RGBA color tuple<br>`label`: Label for the highlight<br>`include_attrs`: Region attributes to display | `Region` (self) |\n",
    "| `to_image(resolution=72, crop_only=False)` | Get a PIL Image of just the region | `resolution`: Image resolution in DPI<br>`crop_only`: Whether to exclude border | `PIL.Image` |\n",
    "| `save_image(path, resolution=72, crop_only=False)` | Save an image of just the region | `path`: Path to save image<br>`resolution`: Image resolution in DPI<br>`crop_only`: Whether to exclude border | `None` |\n",
    "| `get_sections(start_elements, end_elements=None, boundary_inclusion='start')` | Get sections within the region | `start_elements`: Elements marking section starts<br>`end_elements`: Elements marking section ends<br>`boundary_inclusion`: How to include boundaries | `list[Region]` |\n",
    "| `ask(question, min_confidence=0.0, model=None, debug=False)` | Ask a question about the region content | `question`: Question to ask<br>`min_confidence`: Minimum confidence threshold<br>`model`: Optional model name or path<br>`debug`: Whether to save debug files | `dict`: Result with answer and metadata |\n",
    "| `extract_table(method=None, table_settings=None, use_ocr=False)` | Extract table data from the region | `method`: Extraction method (\"plumber\", \"tatr\")<br>`table_settings`: Custom settings for extraction<br>`use_ocr`: Whether to use OCR text | `list`: Table data as rows and columns |\n",
    "| `intersects(other)` | Check if this region intersects with another | `other`: Another region | `bool`: True if regions intersect |\n",
    "| `contains(x, y)` | Check if a point is within the region | `x`: X coordinate<br>`y`: Y coordinate | `bool`: True if point is in region |\n",
    "\n",
    "## Element Types\n",
    "\n",
    "### Element Base Class\n",
    "\n",
    "The base class for all PDF elements."
   ]
  },
  {
   "cell_type": "code",
   "execution_count": 4,
   "id": "1474fc12",
   "metadata": {
    "execution": {
     "iopub.execute_input": "2025-04-03T14:50:38.481772Z",
     "iopub.status.busy": "2025-04-03T14:50:38.480562Z",
     "iopub.status.idle": "2025-04-03T14:50:38.485586Z",
     "shell.execute_reply": "2025-04-03T14:50:38.484801Z"
    }
   },
   "outputs": [],
   "source": [
    "class Element:\n",
    "    \"\"\"\n",
    "    Base class for all PDF elements.\n",
    "    \n",
    "    Properties:\n",
    "        x0 (float): Left coordinate\n",
    "        top (float): Top coordinate\n",
    "        x1 (float): Right coordinate\n",
    "        bottom (float): Bottom coordinate\n",
    "        width (float): Width of the element\n",
    "        height (float): Height of the element\n",
    "        page (Page): Parent page object\n",
    "    \"\"\""
   ]
  },
  {
   "cell_type": "markdown",
   "id": "8bcef44a",
   "metadata": {},
   "source": [
    "**Main Methods**\n",
    "\n",
    "| Method | Description | Parameters | Returns |\n",
    "|--------|-------------|------------|---------|\n",
    "| `above(height=None, full_width=True, until=None, include_until=True)` | Create a region above the element | `height`: Height of region<br>`full_width`: Whether to span page width<br>`until`: Selector for boundary<br>`include_until`: Whether to include boundary | `Region` |\n",
    "| `below(height=None, full_width=True, until=None, include_until=True)` | Create a region below the element | `height`: Height of region<br>`full_width`: Whether to span page width<br>`until`: Selector for boundary<br>`include_until`: Whether to include boundary | `Region` |\n",
    "| `select_until(selector, include_endpoint=True, full_width=True)` | Create a region from this element to another | `selector`: Selector for endpoint<br>`include_endpoint`: Whether to include endpoint<br>`full_width`: Whether to span page width | `Region` |\n",
    "| `highlight(color=None, label=None, include_attrs=None)` | Highlight this element | `color`: RGBA color tuple<br>`label`: Label for the highlight<br>`include_attrs`: Element attributes to display | `Element` (self) |\n",
    "| `extract_text(keep_blank_chars=True, apply_exclusions=True)` | Extract text from this element | `keep_blank_chars`: Whether to keep blank characters<br>`apply_exclusions`: Whether to apply exclusion zones | `str`: Extracted text |\n",
    "| `next(selector=None, limit=None, apply_exclusions=True)` | Get the next element in reading order | `selector`: Optional selector to filter<br>`limit`: How many elements to search<br>`apply_exclusions`: Whether to apply exclusion zones | `Element` or `None` |\n",
    "| `prev(selector=None, limit=None, apply_exclusions=True)` | Get the previous element in reading order | `selector`: Optional selector to filter<br>`limit`: How many elements to search<br>`apply_exclusions`: Whether to apply exclusion zones | `Element` or `None` |\n",
    "| `nearest(selector, max_distance=None, apply_exclusions=True)` | Get the nearest element matching selector | `selector`: Selector for elements<br>`max_distance`: Maximum distance in points<br>`apply_exclusions`: Whether to apply exclusion zones | `Element` or `None` |\n",
    "\n",
    "### TextElement\n",
    "\n",
    "Represents text elements in the PDF."
   ]
  },
  {
   "cell_type": "code",
   "execution_count": 5,
   "id": "81d28b63",
   "metadata": {
    "execution": {
     "iopub.execute_input": "2025-04-03T14:50:38.519776Z",
     "iopub.status.busy": "2025-04-03T14:50:38.519105Z",
     "iopub.status.idle": "2025-04-03T14:50:38.526581Z",
     "shell.execute_reply": "2025-04-03T14:50:38.524168Z"
    }
   },
   "outputs": [],
   "source": [
    "class TextElement(Element):\n",
    "    \"\"\"\n",
    "    Represents text elements in the PDF.\n",
    "    \n",
    "    Additional Properties:\n",
    "        text (str): The text content\n",
    "        fontname (str): The font name\n",
    "        size (float): The font size\n",
    "        bold (bool): Whether the text is bold\n",
    "        italic (bool): Whether the text is italic\n",
    "        color (tuple): The text color as RGB tuple\n",
    "        confidence (float): OCR confidence (for OCR text)\n",
    "        source (str): 'pdf' or 'ocr'\n",
    "    \"\"\""
   ]
  },
  {
   "cell_type": "markdown",
   "id": "bb54e68b",
   "metadata": {},
   "source": [
    "**Main Properties**\n",
    "\n",
    "| Property | Type | Description |\n",
    "|----------|------|-------------|\n",
    "| `text` | `str` | The text content |\n",
    "| `fontname` | `str` | The font name |\n",
    "| `size` | `float` | The font size |\n",
    "| `bold` | `bool` | Whether the text is bold |\n",
    "| `italic` | `bool` | Whether the text is italic |\n",
    "| `color` | `tuple` | The text color as RGB tuple |\n",
    "| `confidence` | `float` | OCR confidence (for OCR text) |\n",
    "| `source` | `str` | 'pdf' or 'ocr' |\n",
    "| `font_variant` | `str` | Font variant identifier (e.g., 'AAAAAB+') |\n",
    "\n",
    "**Additional Methods**\n",
    "\n",
    "| Method | Description | Parameters | Returns |\n",
    "|--------|-------------|------------|---------|\n",
    "| `font_info()` | Get detailed font information | None | `dict`: Font properties |\n",
    "\n",
    "## Collections\n",
    "\n",
    "### ElementCollection\n",
    "\n",
    "A collection of elements with batch operations."
   ]
  },
  {
   "cell_type": "code",
   "execution_count": 6,
   "id": "deee8805",
   "metadata": {
    "execution": {
     "iopub.execute_input": "2025-04-03T14:50:38.528363Z",
     "iopub.status.busy": "2025-04-03T14:50:38.528211Z",
     "iopub.status.idle": "2025-04-03T14:50:38.532324Z",
     "shell.execute_reply": "2025-04-03T14:50:38.530287Z"
    }
   },
   "outputs": [],
   "source": [
    "class ElementCollection:\n",
    "    \"\"\"\n",
    "    A collection of elements with batch operations.\n",
    "    \n",
    "    This class provides operations that can be applied to multiple elements at once.\n",
    "    \"\"\""
   ]
  },
  {
   "cell_type": "markdown",
   "id": "e60b8c43",
   "metadata": {},
   "source": [
    "**Main Methods**\n",
    "\n",
    "| Method | Description | Parameters | Returns |\n",
    "|--------|-------------|------------|---------|\n",
    "| `extract_text(keep_blank_chars=True, apply_exclusions=True)` | Extract text from all elements | `keep_blank_chars`: Whether to keep blank characters<br>`apply_exclusions`: Whether to apply exclusion zones | `str`: Extracted text |\n",
    "| `filter(selector)` | Filter elements by selector | `selector`: CSS-like selector string | `ElementCollection` |\n",
    "| `highlight(color=None, label=None, include_attrs=None)` | Highlight all elements | `color`: RGBA color tuple<br>`label`: Label for the highlight<br>`include_attrs`: Attributes to display | `ElementCollection` (self) |\n",
    "| `first` | Get the first element in the collection | N/A (property) | `Element` or `None` |\n",
    "| `last` | Get the last element in the collection | N/A (property) | `Element` or `None` |\n",
    "| `highest()` | Get the highest element on the page | None | `Element` or `None` |\n",
    "| `lowest()` | Get the lowest element on the page | None | `Element` or `None` |\n",
    "| `leftmost()` | Get the leftmost element on the page | None | `Element` or `None` |\n",
    "| `rightmost()` | Get the rightmost element on the page | None | `Element` or `None` |\n",
    "| `__len__()` | Get the number of elements | None | `int` |\n",
    "| `__getitem__(index)` | Get an element by index | `index`: Index or slice | `Element` or `ElementCollection` |\n",
    "\n",
    "### PageCollection\n",
    "\n",
    "A collection of pages with cross-page operations."
   ]
  },
  {
   "cell_type": "code",
   "execution_count": 7,
   "id": "e6aeb7c3",
   "metadata": {
    "execution": {
     "iopub.execute_input": "2025-04-03T14:50:38.538814Z",
     "iopub.status.busy": "2025-04-03T14:50:38.538045Z",
     "iopub.status.idle": "2025-04-03T14:50:38.599221Z",
     "shell.execute_reply": "2025-04-03T14:50:38.585188Z"
    }
   },
   "outputs": [],
   "source": [
    "class PageCollection:\n",
    "    \"\"\"\n",
    "    A collection of pages with cross-page operations.\n",
    "    \n",
    "    This class provides operations that can be applied across multiple pages.\n",
    "    \"\"\""
   ]
  },
  {
   "cell_type": "markdown",
   "id": "3aa3788d",
   "metadata": {},
   "source": [
    "**Main Methods**\n",
    "\n",
    "| Method | Description | Parameters | Returns |\n",
    "|--------|-------------|------------|---------|\n",
    "| `extract_text(keep_blank_chars=True, apply_exclusions=True)` | Extract text from all pages | `keep_blank_chars`: Whether to keep blank characters<br>`apply_exclusions`: Whether to apply exclusion zones | `str`: Extracted text |\n",
    "| `find(selector, case=True, regex=False, apply_exclusions=True)` | Find the first element matching selector across all pages | `selector`: CSS-like selector string<br>`case`: Case-sensitive search<br>`regex`: Use regex for :contains()<br>`apply_exclusions`: Whether to apply exclusion zones | `Element` or `None` |\n",
    "| `find_all(selector, case=True, regex=False, apply_exclusions=True)` | Find all elements matching selector across all pages | `selector`: CSS-like selector string<br>`case`: Case-sensitive search<br>`regex`: Use regex for :contains()<br>`apply_exclusions`: Whether to apply exclusion zones | `ElementCollection` |\n",
    "| `get_sections(start_elements, end_elements=None, boundary_inclusion='start', new_section_on_page_break=False)` | Get sections spanning multiple pages | `start_elements`: Elements marking section starts<br>`end_elements`: Elements marking section ends<br>`boundary_inclusion`: How to include boundaries<br>`new_section_on_page_break`: Whether to start new sections at page breaks | `list[Region]` |\n",
    "| `__len__()` | Get the number of pages | None | `int` |\n",
    "| `__getitem__(index)` | Get a page by index | `index`: Index or slice | `Page` or `PageCollection` |\n",
    "\n",
    "## OCR Classes\n",
    "\n",
    "### OCREngine\n",
    "\n",
    "Base class for OCR engines."
   ]
  },
  {
   "cell_type": "code",
   "execution_count": 8,
   "id": "7cdc77b2",
   "metadata": {
    "execution": {
     "iopub.execute_input": "2025-04-03T14:50:38.611012Z",
     "iopub.status.busy": "2025-04-03T14:50:38.610262Z",
     "iopub.status.idle": "2025-04-03T14:50:38.614926Z",
     "shell.execute_reply": "2025-04-03T14:50:38.613350Z"
    }
   },
   "outputs": [],
   "source": [
    "class OCREngine:\n",
    "    \"\"\"\n",
    "    Base class for OCR engines.\n",
    "    \n",
    "    This class provides the interface for OCR engines.\n",
    "    \"\"\""
   ]
  },
  {
   "cell_type": "markdown",
   "id": "4d5a1393",
   "metadata": {},
   "source": [
    "**Main Methods**\n",
    "\n",
    "| Method | Description | Parameters | Returns |\n",
    "|--------|-------------|------------|---------|\n",
    "| `process_image(image, languages=None, min_confidence=0.0, **kwargs)` | Process an image with OCR | `image`: PIL Image<br>`languages`: Languages to use<br>`min_confidence`: Minimum confidence threshold | `list`: OCR results |\n",
    "\n",
    "### EasyOCREngine\n",
    "\n",
    "OCR engine using EasyOCR."
   ]
  },
  {
   "cell_type": "code",
   "execution_count": 9,
   "id": "7a5975bf",
   "metadata": {
    "execution": {
     "iopub.execute_input": "2025-04-03T14:50:38.763373Z",
     "iopub.status.busy": "2025-04-03T14:50:38.762907Z",
     "iopub.status.idle": "2025-04-03T14:50:38.775660Z",
     "shell.execute_reply": "2025-04-03T14:50:38.768130Z"
    }
   },
   "outputs": [],
   "source": [
    "class EasyOCREngine(OCREngine):\n",
    "    \"\"\"\n",
    "    OCR engine using EasyOCR.\n",
    "    \n",
    "    Parameters:\n",
    "        model_dir (str, optional): Directory for models. Default: None\n",
    "    \"\"\""
   ]
  },
  {
   "cell_type": "markdown",
   "id": "79df9e48",
   "metadata": {},
   "source": [
    "### PaddleOCREngine\n",
    "\n",
    "OCR engine using PaddleOCR."
   ]
  },
  {
   "cell_type": "code",
   "execution_count": 10,
   "id": "40f6dca9",
   "metadata": {
    "execution": {
     "iopub.execute_input": "2025-04-03T14:50:38.794287Z",
     "iopub.status.busy": "2025-04-03T14:50:38.793970Z",
     "iopub.status.idle": "2025-04-03T14:50:38.802814Z",
     "shell.execute_reply": "2025-04-03T14:50:38.800862Z"
    }
   },
   "outputs": [],
   "source": [
    "class PaddleOCREngine(OCREngine):\n",
    "    \"\"\"\n",
    "    OCR engine using PaddleOCR.\n",
    "    \n",
    "    Parameters:\n",
    "        use_angle_cls (bool, optional): Use text direction classification. Default: False\n",
    "        lang (str, optional): Language code. Default: \"en\"\n",
    "        det (bool, optional): Use text detection. Default: True\n",
    "        rec (bool, optional): Use text recognition. Default: True\n",
    "        cls (bool, optional): Use text direction classification. Default: False\n",
    "        det_model_dir (str, optional): Detection model directory. Default: None\n",
    "        rec_model_dir (str, optional): Recognition model directory. Default: None\n",
    "        verbose (bool, optional): Enable verbose output. Default: False\n",
    "    \"\"\""
   ]
  },
  {
   "cell_type": "markdown",
   "id": "2d96b36b",
   "metadata": {},
   "source": [
    "## Document QA Classes\n",
    "\n",
    "### DocumentQA\n",
    "\n",
    "Class for document question answering."
   ]
  },
  {
   "cell_type": "code",
   "execution_count": 11,
   "id": "7e6bbb98",
   "metadata": {
    "execution": {
     "iopub.execute_input": "2025-04-03T14:50:38.817562Z",
     "iopub.status.busy": "2025-04-03T14:50:38.816944Z",
     "iopub.status.idle": "2025-04-03T14:50:38.836319Z",
     "shell.execute_reply": "2025-04-03T14:50:38.826504Z"
    }
   },
   "outputs": [],
   "source": [
    "class DocumentQA:\n",
    "    \"\"\"\n",
    "    Class for document question answering.\n",
    "    \n",
    "    Parameters:\n",
    "        model (str, optional): Model name or path. Default: \"microsoft/layoutlmv3-base\"\n",
    "        device (str, optional): Device to use. Default: \"cpu\"\n",
    "        verbose (bool, optional): Enable verbose output. Default: False\n",
    "    \"\"\""
   ]
  },
  {
   "cell_type": "markdown",
   "id": "e8d7ec9d",
   "metadata": {},
   "source": [
    "**Main Methods**\n",
    "\n",
    "| Method | Description | Parameters | Returns |\n",
    "|--------|-------------|------------|---------|\n",
    "| `ask(question, image, word_boxes, min_confidence=0.0, max_answer_length=None, language=None)` | Ask a question about a document | `question`: Question to ask<br>`image`: Document image<br>`word_boxes`: Text positions<br>`min_confidence`: Minimum confidence threshold<br>`max_answer_length`: Maximum answer length<br>`language`: Language code | `dict`: Result with answer and metadata |\n",
    "\n",
    "## Selector Syntax\n",
    "\n",
    "Natural PDF uses a CSS-like selector syntax to find elements in PDFs.\n",
    "\n",
    "### Basic Selectors\n",
    "\n",
    "| Selector | Description | Example |\n",
    "|----------|-------------|---------|\n",
    "| `element_type` | Match elements of this type | `text`, `rect`, `line` |\n",
    "| `[attribute=value]` | Match elements with this attribute value | `[fontname=Arial]`, `[size=12]` |\n",
    "| `[attribute>=value]` | Match elements with attribute >= value | `[size>=12]` |\n",
    "| `[attribute<=value]` | Match elements with attribute <= value | `[size<=10]` |\n",
    "| `[attribute~=value]` | Match elements with attribute approximately equal | `[color~=red]`, `[color~=(1,0,0)]` |\n",
    "| `[attribute*=value]` | Match elements with attribute containing value | `[fontname*=Arial]` |\n",
    "\n",
    "### Pseudo-Classes\n",
    "\n",
    "| Pseudo-Class | Description | Example |\n",
    "|--------------|-------------|---------|\n",
    "| `:contains(\"text\")` | Match elements containing text | `text:contains(\"Summary\")` |\n",
    "| `:starts-with(\"text\")` | Match elements starting with text | `text:starts-with(\"Summary\")` |\n",
    "| `:ends-with(\"text\")` | Match elements ending with text | `text:ends-with(\"2023\")` |\n",
    "| `:bold` | Match bold text | `text:bold` |\n",
    "| `:italic` | Match italic text | `text:italic` |\n",
    "\n",
    "### Attribute Names\n",
    "\n",
    "| Attribute | Element Types | Description |\n",
    "|-----------|--------------|-------------|\n",
    "| `fontname` | text | Font name |\n",
    "| `size` | text | Font size |\n",
    "| `color` | text, rect, line | Color |\n",
    "| `width` | rect, line | Width |\n",
    "| `height` | rect | Height |\n",
    "| `confidence` | text (OCR) | OCR confidence score |\n",
    "| `source` | text | Source ('pdf' or 'ocr') |\n",
    "| `type` | region | Region type (e.g., 'table', 'title') |\n",
    "| `model` | region | Layout model that detected the region |\n",
    "| `font-variant` | text | Font variant identifier |\n",
    "\n",
    "## Constants and Configuration\n",
    "\n",
    "### Color Names\n",
    "\n",
    "Natural PDF supports color names in selectors.\n",
    "\n",
    "| Color Name | RGB Value | Example |\n",
    "|------------|-----------|---------|\n",
    "| `red` | (1, 0, 0) | `[color~=red]` |\n",
    "| `green` | (0, 1, 0) | `[color~=green]` |\n",
    "| `blue` | (0, 0, 1) | `[color~=blue]` |\n",
    "| `black` | (0, 0, 0) | `[color~=black]` |\n",
    "| `white` | (1, 1, 1) | `[color~=white]` |\n",
    "\n",
    "### Region Types\n",
    "\n",
    "Layout analysis models detect the following region types:\n",
    "\n",
    "| Model | Region Types |\n",
    "|-------|-------------|\n",
    "| YOLO | `title`, `plain-text`, `table`, `figure`, `figure_caption`, `table_caption`, `table_footnote`, `isolate_formula`, `formula_caption`, `abandon` |\n",
    "| TATR | `table`, `table-row`, `table-column`, `table-column-header` |"
   ]
  }
 ],
 "metadata": {
  "jupytext": {
   "cell_metadata_filter": "-all",
   "main_language": "python",
   "notebook_metadata_filter": "-all",
   "text_representation": {
    "extension": ".md",
    "format_name": "markdown"
   }
  },
  "language_info": {
   "codemirror_mode": {
    "name": "ipython",
    "version": 3
   },
   "file_extension": ".py",
   "mimetype": "text/x-python",
   "name": "python",
   "nbconvert_exporter": "python",
   "pygments_lexer": "ipython3",
   "version": "3.10.13"
  }
 },
 "nbformat": 4,
 "nbformat_minor": 5
}
