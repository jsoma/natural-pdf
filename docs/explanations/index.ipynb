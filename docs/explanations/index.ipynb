{
 "cells": [
  {
   "cell_type": "markdown",
   "id": "859fcb99",
   "metadata": {},
   "source": [
    "# PDF Explanations\n",
    "\n",
    "This section goes beyond \"how-to\" guides to explain the deeper aspects of PDF processing and challenging scenarios you might encounter. These explanations help you understand why certain approaches work better than others.\n",
    "\n",
    "## Available Explanations\n",
    "\n",
    "### [PDF Extraction Challenges](pdf-extraction-challenges.md)\n",
    "Why PDFs are hard to extract from and strategies for handling common problems like jumbled text order, mixed columns, corrupted fonts, and more.\n",
    "\n",
    "### [Understanding Fonts in PDFs](pdf-fonts.md)\n",
    "A deep dive into how fonts work in PDFs, what those strange font names like \"ABCDEF+Arial\" mean, and how to handle font-related extraction issues.\n",
    "\n",
    "### [OCR Challenges and Solutions](ocr-challenges.md)\n",
    "The ins and outs of Optical Character Recognition, comparing OCR engines, and techniques for getting better results from problematic documents.\n",
    "\n",
    "## Tips for Approaching PDF Problems\n",
    "\n",
    "1. **Start simple, then add complexity**: Try the basic approaches before diving into complex solutions\n",
    "2. **Visualize, don't guess**: Use `highlight()` and `to_image()` to see what's happening\n",
    "3. **Mix and match methods**: Combine different extraction techniques for better results\n",
    "4. **Test on samples**: PDF extraction methods that work well on one document might fail on another\n",
    "5. **Know when to use OCR**: Sometimes OCR is necessary even when PDFs appear to have text\n",
    "\n",
    "## Further Reading\n",
    "\n",
    "- [Element Selection](../element-selection/index.md): How to find specific elements in PDFs\n",
    "- [Text Extraction](../text-extraction/index.md): Methods for extracting clean text\n",
    "- [Document QA](../document-qa/index.md): Ask questions directly to your documents"
   ]
  }
 ],
 "metadata": {
  "jupytext": {
   "cell_metadata_filter": "-all",
   "main_language": "python",
   "notebook_metadata_filter": "-all",
   "text_representation": {
    "extension": ".md",
    "format_name": "markdown"
   }
  },
  "language_info": {
   "codemirror_mode": {
    "name": "ipython",
    "version": 3
   },
   "file_extension": ".py",
   "mimetype": "text/x-python",
   "name": "python",
   "nbconvert_exporter": "python",
   "pygments_lexer": "ipython3",
   "version": "3.10.13"
  }
 },
 "nbformat": 4,
 "nbformat_minor": 5
}
