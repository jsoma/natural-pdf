{
 "cells": [
  {
   "cell_type": "markdown",
   "id": "409581cc",
   "metadata": {
    "lines_to_next_cell": 0
   },
   "source": [
    "# OCR Challenges and Solutions\n",
    "\n",
    "OCR (Optical Character Recognition) seems simple in concept—turn images of text into actual text—but it's full of interesting challenges. This guide covers common OCR problems and how to solve them.\n",
    "\n",
    "## When Do You Need OCR?\n",
    "\n",
    "You'll need OCR in several common scenarios:\n",
    "\n",
    "1. **Scanned documents**: The obvious case—documents that were printed and scanned.\n",
    "2. **Image-only PDFs**: PDFs created from images or scans without text layers.\n",
    "3. **Protected PDFs**: Some PDFs have security settings that prevent text extraction.\n",
    "4. **Problematic fonts**: When fonts are embedded incorrectly or have unusual encoding.\n",
    "\n",
    "## How OCR Works (The Short Version)\n",
    "\n",
    "OCR generally follows these steps:\n",
    "\n",
    "1. **Preprocessing**: Adjust the image (binarization, deskewing, noise removal)\n",
    "2. **Text detection**: Find where the text is located in the image\n",
    "3. **Character recognition**: Identify individual characters in those regions\n",
    "4. **Post-processing**: Correct errors using dictionaries or language models\n",
    "\n",
    "Different OCR engines handle these steps in different ways, which is why they perform differently on various documents.\n",
    "\n",
    "## OCR Engines Compared\n",
    "\n",
    "Natural PDF supports different OCR engines, each with strengths and weaknesses:\n",
    "\n",
    "### EasyOCR\n",
    "\n",
    "**Strengths**:\n",
    "- Simple to use and configure\n",
    "- Good support for European languages\n",
    "- Reasonable performance on clean documents\n",
    "\n",
    "**Weaknesses**:\n",
    "- Slower than PaddleOCR\n",
    "- Struggles with complex layouts\n",
    "- Less accurate on small or low-contrast text\n",
    "\n",
    "### PaddleOCR\n",
    "\n",
    "**Strengths**:\n",
    "- Fast processing\n",
    "- Excellent performance on many languages\n",
    "- Better with complex layouts and small text\n",
    "- More accurate in many real-world scenarios\n",
    "\n",
    "**Weaknesses**:\n",
    "- More complex parameter tuning\n",
    "- Larger model files\n",
    "\n",
    "## Common OCR Problems and Solutions\n",
    "\n",
    "### 1. Low Image Quality\n",
    "\n",
    "**Problem**: Blurry, low-resolution, or noisy images lead to poor OCR results.\n",
    "\n",
    "**Solution**:"
   ]
  },
  {
   "cell_type": "code",
   "execution_count": 1,
   "id": "0744b2de",
   "metadata": {
    "execution": {
     "iopub.execute_input": "2025-04-02T22:30:22.416366Z",
     "iopub.status.busy": "2025-04-02T22:30:22.416144Z",
     "iopub.status.idle": "2025-04-02T22:30:23.191613Z",
     "shell.execute_reply": "2025-04-02T22:30:23.186447Z"
    }
   },
   "outputs": [
    {
     "ename": "NameError",
     "evalue": "name 'page' is not defined",
     "output_type": "error",
     "traceback": [
      "\u001b[0;31m---------------------------------------------------------------------------\u001b[0m",
      "\u001b[0;31mNameError\u001b[0m                                 Traceback (most recent call last)",
      "Cell \u001b[0;32mIn[1], line 2\u001b[0m\n\u001b[1;32m      1\u001b[0m \u001b[38;5;66;03m# Increase resolution when generating the image for OCR\u001b[39;00m\n\u001b[0;32m----> 2\u001b[0m \u001b[43mpage\u001b[49m\u001b[38;5;241m.\u001b[39mapply_ocr(resolution\u001b[38;5;241m=\u001b[39m\u001b[38;5;241m300\u001b[39m)\n\u001b[1;32m      4\u001b[0m \u001b[38;5;66;03m# For noisy images, adjust preprocessing parameters\u001b[39;00m\n\u001b[1;32m      5\u001b[0m page\u001b[38;5;241m.\u001b[39mapply_ocr(\n\u001b[1;32m      6\u001b[0m     text_threshold\u001b[38;5;241m=\u001b[39m\u001b[38;5;241m0.6\u001b[39m,\n\u001b[1;32m      7\u001b[0m     low_text\u001b[38;5;241m=\u001b[39m\u001b[38;5;241m0.3\u001b[39m,\n\u001b[1;32m      8\u001b[0m     link_threshold\u001b[38;5;241m=\u001b[39m\u001b[38;5;241m0.3\u001b[39m\n\u001b[1;32m      9\u001b[0m )\n",
      "\u001b[0;31mNameError\u001b[0m: name 'page' is not defined"
     ]
    }
   ],
   "source": [
    "# Increase resolution when generating the image for OCR\n",
    "page.apply_ocr(resolution=300)\n",
    "\n",
    "# For noisy images, adjust preprocessing parameters\n",
    "page.apply_ocr(\n",
    "    text_threshold=0.6,\n",
    "    low_text=0.3,\n",
    "    link_threshold=0.3\n",
    ")"
   ]
  },
  {
   "cell_type": "markdown",
   "id": "b8f682e0",
   "metadata": {
    "lines_to_next_cell": 0
   },
   "source": [
    "### 2. Rotated or Skewed Text\n",
    "\n",
    "**Problem**: Text that isn't perfectly horizontal can cause OCR to fail.\n",
    "\n",
    "**Solution**:"
   ]
  },
  {
   "cell_type": "code",
   "execution_count": null,
   "id": "ab8e818b",
   "metadata": {},
   "outputs": [],
   "source": [
    "# Enable text rotation detection in PaddleOCR\n",
    "pdf = PDF('skewed_document.pdf', \n",
    "          ocr_engine='paddleocr',\n",
    "          ocr={\n",
    "              'enabled': True,\n",
    "              'use_angle_cls': True  # Detect text direction\n",
    "          })"
   ]
  },
  {
   "cell_type": "markdown",
   "id": "01506db2",
   "metadata": {
    "lines_to_next_cell": 0
   },
   "source": [
    "### 3. Mixed Languages\n",
    "\n",
    "**Problem**: Documents with multiple languages confuse single-language OCR models.\n",
    "\n",
    "**Solution**:"
   ]
  },
  {
   "cell_type": "code",
   "execution_count": null,
   "id": "f4ca6a8d",
   "metadata": {},
   "outputs": [],
   "source": [
    "# Specify multiple languages\n",
    "pdf = PDF('multilingual.pdf', ocr={\n",
    "    'enabled': True,\n",
    "    'languages': ['en', 'fr', 'de']  # English, French, German\n",
    "})\n",
    "\n",
    "# For Asian languages mixed with others, PaddleOCR often works better\n",
    "pdf = PDF('mixed_languages.pdf', \n",
    "          ocr_engine='paddleocr',\n",
    "          ocr={\n",
    "              'enabled': True,\n",
    "              'languages': ['en', 'zh', 'ja']  # English, Chinese, Japanese\n",
    "          })"
   ]
  },
  {
   "cell_type": "markdown",
   "id": "55fd15d2",
   "metadata": {
    "lines_to_next_cell": 0
   },
   "source": [
    "### 4. Small Text\n",
    "\n",
    "**Problem**: Tiny text often gets missed or misread by OCR.\n",
    "\n",
    "**Solution**:"
   ]
  },
  {
   "cell_type": "code",
   "execution_count": null,
   "id": "a8f1d1d9",
   "metadata": {},
   "outputs": [],
   "source": [
    "# Increase image resolution for OCR\n",
    "page.apply_ocr(resolution=400)  # Higher resolution for small text\n",
    "\n",
    "# Adjust magnification ratio\n",
    "page.apply_ocr(mag_ratio=2.0)  # Default is 1.5"
   ]
  },
  {
   "cell_type": "markdown",
   "id": "ff1063e0",
   "metadata": {
    "lines_to_next_cell": 0
   },
   "source": [
    "### 5. Complex Layouts\n",
    "\n",
    "**Problem**: Multi-column text, tables, and other complex layouts can confuse OCR.\n",
    "\n",
    "**Solution**:"
   ]
  },
  {
   "cell_type": "code",
   "execution_count": null,
   "id": "2c0098be",
   "metadata": {},
   "outputs": [],
   "source": [
    "# Use layout analysis first to detect regions\n",
    "page.analyze_layout()\n",
    "\n",
    "# Then apply OCR to specific regions\n",
    "text_regions = page.find_all('region[type=plain-text]')\n",
    "for region in text_regions:\n",
    "    region_text = region.extract_text(ocr=True)\n",
    "    print(region_text)"
   ]
  },
  {
   "cell_type": "markdown",
   "id": "08587ca3",
   "metadata": {
    "lines_to_next_cell": 0
   },
   "source": [
    "### 6. Low OCR Confidence\n",
    "\n",
    "**Problem**: OCR returns text but with low confidence scores.\n",
    "\n",
    "**Solution**:"
   ]
  },
  {
   "cell_type": "code",
   "execution_count": null,
   "id": "e1da59f1",
   "metadata": {},
   "outputs": [],
   "source": [
    "# Visualize confidence scores to identify problem areas\n",
    "ocr_elements = page.apply_ocr()\n",
    "for element in ocr_elements:\n",
    "    if element.confidence < 0.5:\n",
    "        element.highlight(color=\"red\", label=f\"Low conf: {element.confidence:.2f}\")\n",
    "    else:\n",
    "        element.highlight(color=\"green\", label=f\"High conf: {element.confidence:.2f}\")\n",
    "image = page.to_image(labels=True)\n",
    "image\n",
    "\n",
    "# Filter by confidence\n",
    "high_confidence = page.find_all('text[source=ocr][confidence>=0.7]')\n",
    "high_confidence_text = high_confidence.extract_text()"
   ]
  },
  {
   "cell_type": "markdown",
   "id": "0cabdd10",
   "metadata": {},
   "source": [
    "## When OCR Isn't Working\n",
    "\n",
    "If OCR is giving poor results even after tuning, try these approaches:\n",
    "\n",
    "1. **Try a different engine**: If EasyOCR isn't working well, try PaddleOCR and vice versa.\n",
    "\n",
    "   ```python\n",
    "   # Switch engines to compare results\n",
    "   pdf_easy = PDF('document.pdf', ocr_engine='easyocr')\n",
    "   pdf_paddle = PDF('document.pdf', ocr_engine='paddleocr')\n",
    "   \n",
    "   # Extract with both and compare\n",
    "   easy_text = pdf_easy.pages[0].extract_text(ocr=True)\n",
    "   paddle_text = pdf_paddle.pages[0].extract_text(ocr=True)\n",
    "   ```\n",
    "\n",
    "2. **Pre-process the PDF**: Sometimes converting the PDF to images externally and cleaning them up with tools like ImageMagick before OCRing can help.\n",
    "\n",
    "3. **Focus on regions**: Apply OCR to smaller, targeted regions rather than the whole page.\n",
    "\n",
    "   ```python\n",
    "   # Get just the important part of the page\n",
    "   important_area = page.create_region(100, 200, 500, 600)\n",
    "   important_text = important_area.extract_text(ocr=True)\n",
    "   ```\n",
    "\n",
    "4. **Combine results**: Use both native text extraction and OCR, then choose the better one.\n",
    "\n",
    "   ```python\n",
    "   # Get both and compare\n",
    "   native_text = page.extract_text(ocr=False)\n",
    "   ocr_text = page.extract_text(ocr=True)\n",
    "   \n",
    "   # Choose the longer one (often the better extraction)\n",
    "   final_text = native_text if len(native_text) > len(ocr_text) else ocr_text\n",
    "   ```\n",
    "\n",
    "## The Document QA Alternative\n",
    "\n",
    "Sometimes extracting perfect text isn't necessary. If you're looking to answer questions about a document, Document QA might work better:"
   ]
  },
  {
   "cell_type": "code",
   "execution_count": null,
   "id": "a0e8def4",
   "metadata": {},
   "outputs": [],
   "source": [
    "# Ask questions directly rather than extracting text first\n",
    "result = pdf.ask(\"What was the total revenue in 2023?\")\n",
    "if result.get(\"found\", False):\n",
    "    print(f\"Answer: {result['answer']}\")"
   ]
  },
  {
   "cell_type": "markdown",
   "id": "fac43586",
   "metadata": {},
   "source": [
    "Document QA uses the image along with text positions to understand content, so it can often handle cases where OCR alone struggles.\n",
    "\n",
    "## Why Document QA Can Be Better Than Just Using an LLM\n",
    "\n",
    "If you've thought \"why not just feed the text to ChatGPT?\", there are good reasons to use Document QA instead:\n",
    "\n",
    "1. **No hallucinations**: Document QA only returns information actually present in the document\n",
    "2. **Visual context**: It understands layout, so it can interpret tables and know when content is in headers vs body text\n",
    "3. **Shows you the source**: You can see exactly where the answer came from\n",
    "4. **Better with complex layouts**: It understands when text is arranged in columns, tables, or other structures\n",
    "\n",
    "## Further Reading\n",
    "\n",
    "- [OCR Integration in Natural PDF](../ocr/index.md)\n",
    "- [Document QA](../document-qa/index.md)\n",
    "- [Layout Analysis](../layout-analysis/index.md)"
   ]
  }
 ],
 "metadata": {
  "jupytext": {
   "cell_metadata_filter": "-all",
   "main_language": "python",
   "notebook_metadata_filter": "-all",
   "text_representation": {
    "extension": ".md",
    "format_name": "markdown"
   }
  },
  "language_info": {
   "codemirror_mode": {
    "name": "ipython",
    "version": 3
   },
   "file_extension": ".py",
   "mimetype": "text/x-python",
   "name": "python",
   "nbconvert_exporter": "python",
   "pygments_lexer": "ipython3",
   "version": "3.10.13"
  }
 },
 "nbformat": 4,
 "nbformat_minor": 5
}
