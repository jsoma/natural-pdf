{
 "cells": [
  {
   "cell_type": "markdown",
   "id": "8dd3bf93",
   "metadata": {},
   "source": [
    "# PDF Extraction Challenges\n",
    "\n",
    "If you've ever tried to extract content from PDFs, you know it can be surprisingly difficult. PDFs look simple when viewed, but under the hood, they're complex beasts. This guide explains common PDF extraction problems and how to solve them.\n",
    "\n",
    "## Why PDF Extraction Is Hard\n",
    "\n",
    "PDFs were designed for reliable printing and viewing, not for data extraction. They're essentially digital layouts of printed pages, with these complicating factors:\n",
    "\n",
    "1. **No semantic structure**: PDFs don't inherently know what's a heading, paragraph, or table\n",
    "2. **Position-based layout**: Text is placed at specific coordinates, not in a flow\n",
    "3. **No guaranteed reading order**: What looks like sequential paragraphs might be scattered in the file\n",
    "4. **Complex text encoding**: Custom fonts, character mappings, and compression schemes\n",
    "5. **Mixed content types**: Text, images, vector graphics, and forms all combined\n",
    "\n",
    "## Common Extraction Problems\n",
    "\n",
    "### Text Comes Out in the Wrong Order\n",
    "\n",
    "**Problem**: Extracted text is jumbled, with paragraphs or sentences out of sequence.\n",
    "\n",
    "**Solution**: Natural PDF sorts elements in reading order by default:"
   ]
  },
  {
   "cell_type": "code",
   "execution_count": 1,
   "id": "d386a702",
   "metadata": {
    "execution": {
     "iopub.execute_input": "2025-04-02T22:30:22.405511Z",
     "iopub.status.busy": "2025-04-02T22:30:22.404977Z",
     "iopub.status.idle": "2025-04-02T22:30:23.185290Z",
     "shell.execute_reply": "2025-04-02T22:30:23.182355Z"
    }
   },
   "outputs": [
    {
     "ename": "NameError",
     "evalue": "name 'PDF' is not defined",
     "output_type": "error",
     "traceback": [
      "\u001b[0;31m---------------------------------------------------------------------------\u001b[0m",
      "\u001b[0;31mNameError\u001b[0m                                 Traceback (most recent call last)",
      "Cell \u001b[0;32mIn[1], line 2\u001b[0m\n\u001b[1;32m      1\u001b[0m \u001b[38;5;66;03m# Reading order is enabled by default\u001b[39;00m\n\u001b[0;32m----> 2\u001b[0m pdf \u001b[38;5;241m=\u001b[39m \u001b[43mPDF\u001b[49m(\u001b[38;5;124m\"\u001b[39m\u001b[38;5;124mdocument.pdf\u001b[39m\u001b[38;5;124m\"\u001b[39m, reading_order\u001b[38;5;241m=\u001b[39m\u001b[38;5;28;01mTrue\u001b[39;00m)\n\u001b[1;32m      4\u001b[0m \u001b[38;5;66;03m# Extract text in reading order\u001b[39;00m\n\u001b[1;32m      5\u001b[0m text \u001b[38;5;241m=\u001b[39m page\u001b[38;5;241m.\u001b[39mextract_text()\n",
      "\u001b[0;31mNameError\u001b[0m: name 'PDF' is not defined"
     ]
    }
   ],
   "source": [
    "# Reading order is enabled by default\n",
    "pdf = PDF(\"document.pdf\", reading_order=True)\n",
    "\n",
    "# Extract text in reading order\n",
    "text = page.extract_text()"
   ]
  },
  {
   "cell_type": "markdown",
   "id": "260d7070",
   "metadata": {},
   "source": [
    "### Headers and Footers Mix with Content\n",
    "\n",
    "**Problem**: Page numbers, document titles, and other repeating elements appear throughout extracted text.\n",
    "\n",
    "**Solution**: Use exclusion zones to remove them:"
   ]
  },
  {
   "cell_type": "code",
   "execution_count": null,
   "id": "abf0ef1c",
   "metadata": {},
   "outputs": [],
   "source": [
    "# Exclude the header\n",
    "header = page.find('text:contains(\"CONFIDENTIAL\")').above()\n",
    "page.add_exclusion(header)\n",
    "\n",
    "# Exclude the footer\n",
    "footer = page.find('text:contains(\"Page\")').below()\n",
    "page.add_exclusion(footer)\n",
    "\n",
    "# Extract text without header/footer\n",
    "clean_text = page.extract_text()  # Exclusions applied by default"
   ]
  },
  {
   "cell_type": "markdown",
   "id": "305ff96e",
   "metadata": {},
   "source": [
    "### Columns Get Mixed Together\n",
    "\n",
    "**Problem**: Multi-column layouts (like in newspapers or academic papers) get merged into a confusing mess.\n",
    "\n",
    "**Solution**: Use layout analysis to detect and process columns separately:"
   ]
  },
  {
   "cell_type": "code",
   "execution_count": null,
   "id": "17c753d8",
   "metadata": {},
   "outputs": [],
   "source": [
    "# Detect regions including columns\n",
    "page.analyze_layout()\n",
    "\n",
    "# Find text regions (often column blocks)\n",
    "text_blocks = page.find_all('region[type=plain-text]')\n",
    "\n",
    "# Process each text block separately\n",
    "for i, block in enumerate(text_blocks):\n",
    "    block_text = block.extract_text()\n",
    "    print(f\"Text Block {i+1}:\\n{block_text}\\n\")"
   ]
  },
  {
   "cell_type": "markdown",
   "id": "93739a2b",
   "metadata": {},
   "source": [
    "### Tables Lose Their Structure\n",
    "\n",
    "**Problem**: Tables become unstructured text blocks, losing row/column relationships.\n",
    "\n",
    "**Solution**: Use table-specific extraction:"
   ]
  },
  {
   "cell_type": "code",
   "execution_count": null,
   "id": "8f031c1f",
   "metadata": {},
   "outputs": [],
   "source": [
    "# Detect tables with layout analysis\n",
    "page.analyze_layout(engine=\"tatr\")  # Table Transformer model\n",
    "\n",
    "# Find and extract tables\n",
    "tables = page.find_all('region[type=table]')\n",
    "for i, table in enumerate(tables):\n",
    "    table_data = table.extract_table()\n",
    "    print(f\"Table {i+1}:\")\n",
    "    for row in table_data:\n",
    "        print(row)"
   ]
  },
  {
   "cell_type": "markdown",
   "id": "4d153343",
   "metadata": {},
   "source": [
    "### Missing or Garbled Text\n",
    "\n",
    "**Problem**: Some text appears as gibberish or is completely missing.\n",
    "\n",
    "**Solution**: This is often a font issue - try OCR:"
   ]
  },
  {
   "cell_type": "code",
   "execution_count": null,
   "id": "e17f8a05",
   "metadata": {},
   "outputs": [],
   "source": [
    "# Try OCR instead of native extraction\n",
    "text = page.extract_text(ocr=True)\n",
    "\n",
    "# For pages with mixed issues, compare both approaches\n",
    "native_text = page.extract_text(ocr=False)\n",
    "ocr_text = page.extract_text(ocr=True)\n",
    "\n",
    "# Use the better result (often the longer one)\n",
    "final_text = native_text if len(native_text) > len(ocr_text) else ocr_text"
   ]
  },
  {
   "cell_type": "markdown",
   "id": "f7d2f529",
   "metadata": {},
   "source": [
    "### Hyphenation at Line Breaks\n",
    "\n",
    "**Problem**: Words hyphenated at line breaks appear with hyphens in the extracted text.\n",
    "\n",
    "**Solution**: Use post-processing to handle this:"
   ]
  },
  {
   "cell_type": "code",
   "execution_count": null,
   "id": "95c3986b",
   "metadata": {},
   "outputs": [],
   "source": [
    "import re\n",
    "\n",
    "# Extract text\n",
    "text = page.extract_text()\n",
    "\n",
    "# Remove hyphenation at line breaks\n",
    "clean_text = re.sub(r'(\\w+)-\\n(\\w+)', r'\\1\\2', text)"
   ]
  },
  {
   "cell_type": "markdown",
   "id": "a1c0fa3c",
   "metadata": {},
   "source": [
    "### Problematic PDFs\n",
    "\n",
    "Some PDFs are particularly challenging:\n",
    "\n",
    "1. **Scanned documents**: These are just images with no actual text\n",
    "2. **Protected PDFs**: Security settings can prevent text extraction\n",
    "3. **Corrupted PDFs**: Damaged files might not open properly\n",
    "4. **Complex layouts**: Magazines, brochures with text overlapping images\n",
    "\n",
    "**Solution**: Use a combination of approaches:"
   ]
  },
  {
   "cell_type": "code",
   "execution_count": null,
   "id": "b0939f18",
   "metadata": {},
   "outputs": [],
   "source": [
    "try:\n",
    "    # Try native extraction first\n",
    "    text = page.extract_text()\n",
    "    \n",
    "    # If too little text is found, fall back to OCR\n",
    "    if len(text.strip()) < 100:  # Arbitrary threshold\n",
    "        text = page.extract_text(ocr=True)\n",
    "        \n",
    "except Exception as e:\n",
    "    print(f\"Error processing page: {e}\")\n",
    "    # Fall back to OCR\n",
    "    text = page.extract_text(ocr=True)"
   ]
  },
  {
   "cell_type": "markdown",
   "id": "8fa781c0",
   "metadata": {},
   "source": [
    "## Region-Based Extraction: A Better Approach\n",
    "\n",
    "Instead of treating PDFs as one big blob of text, region-based extraction often works better:"
   ]
  },
  {
   "cell_type": "code",
   "execution_count": null,
   "id": "af943bfa",
   "metadata": {},
   "outputs": [],
   "source": [
    "# Get all heading-like elements\n",
    "headings = page.find_all('text[size>=12]:bold')\n",
    "\n",
    "# Extract content under each heading\n",
    "for heading in headings:\n",
    "    # Get content until the next heading\n",
    "    content_region = heading.below(until='text[size>=12]:bold', include_until=False)\n",
    "    content = content_region.extract_text()\n",
    "    \n",
    "    print(f\"Section: {heading.text}\")\n",
    "    print(content)\n",
    "    print(\"-\" * 40)"
   ]
  },
  {
   "cell_type": "markdown",
   "id": "ffd35da2",
   "metadata": {},
   "source": [
    "## Alternative: Direct Question Answering\n",
    "\n",
    "Sometimes, extracting perfect text isn't necessary if you just need specific information:"
   ]
  },
  {
   "cell_type": "code",
   "execution_count": null,
   "id": "a3595512",
   "metadata": {},
   "outputs": [],
   "source": [
    "# Ask questions directly\n",
    "result = pdf.ask(\"What was the total revenue reported for 2023?\")\n",
    "if result.get(\"found\", False):\n",
    "    print(f\"Answer: {result['answer']}\")\n",
    "    print(f\"Confidence: {result['confidence']:.2f}\")"
   ]
  },
  {
   "cell_type": "markdown",
   "id": "cff6211b",
   "metadata": {},
   "source": [
    "## Common Strategies for Better Extraction\n",
    "\n",
    "1. **Divide and conquer**: Work with small regions rather than the whole page\n",
    "2. **Use visual clues**: Find prominent visual elements (like headings) and use them to navigate\n",
    "3. **Try multiple methods**: Different approaches work better for different documents\n",
    "4. **Verify the results**: Don't assume extraction is perfect; spot-check the results\n",
    "\n",
    "## Benefits of Natural PDF vs. Raw PDFPlumber\n",
    "\n",
    "Natural PDF makes PDF extraction more intuitive by:\n",
    "\n",
    "1. **Adding reading order**: Elements are sorted into logical reading order\n",
    "2. **Providing spatial navigation**: Methods like `above()`, `below()`, and `until()`\n",
    "3. **Using CSS-like selectors**: Find elements with simple, readable queries\n",
    "4. **Integrating OCR**: Built-in OCR capabilities for scanned documents\n",
    "5. **Supporting layout analysis**: AI-powered document structure detection\n",
    "6. **Offering visualization**: Debug what's happening with visual highlights\n",
    "7. **Handling exclusions**: Easily remove headers, footers, and other unwanted content\n",
    "\n",
    "## Further Reading\n",
    "\n",
    "- [Understanding PDF Fonts](pdf-fonts.md)\n",
    "- [OCR Challenges and Solutions](ocr-challenges.md)\n",
    "- [Working with regions](../regions/index.md)\n",
    "- [Document Layout Analysis](../layout-analysis/index.md)"
   ]
  }
 ],
 "metadata": {
  "jupytext": {
   "cell_metadata_filter": "-all",
   "main_language": "python",
   "notebook_metadata_filter": "-all",
   "text_representation": {
    "extension": ".md",
    "format_name": "markdown"
   }
  },
  "language_info": {
   "codemirror_mode": {
    "name": "ipython",
    "version": 3
   },
   "file_extension": ".py",
   "mimetype": "text/x-python",
   "name": "python",
   "nbconvert_exporter": "python",
   "pygments_lexer": "ipython3",
   "version": "3.10.13"
  }
 },
 "nbformat": 4,
 "nbformat_minor": 5
}
