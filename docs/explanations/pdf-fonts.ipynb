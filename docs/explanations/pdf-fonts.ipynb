{
 "cells": [
  {
   "cell_type": "markdown",
   "id": "06388373",
   "metadata": {},
   "source": [
    "# Understanding Fonts in PDFs\n",
    "\n",
    "Fonts in PDFs can be tricky. If you've extracted text and gotten strange characters or missing content, font issues are often the culprit. This guide explains how PDF fonts work and how to handle common problems you might encounter.\n",
    "\n",
    "## How Fonts Work in PDFs\n",
    "\n",
    "PDFs can include fonts in several ways:\n",
    "\n",
    "1. **Standard Fonts**: A set of 14 standard fonts that all PDF viewers support (like Times, Helvetica, Courier)\n",
    "2. **Embedded Fonts**: Fonts included directly within the PDF file\n",
    "3. **Referenced Fonts**: Fonts referenced by name but expected to be available on the user's system\n",
    "4. **Subset Fonts**: Embedded fonts containing only the characters actually used in the document\n",
    "\n",
    "### Font Naming in PDFs\n",
    "\n",
    "One of the most confusing aspects of PDF fonts is their naming. You'll often see font names like `ABCDEF+Arial-Bold`. This strange format has two components:\n",
    "\n",
    "- **Prefix (ABCDEF+)**: A unique identifier for a font subset\n",
    "- **Base Name (Arial-Bold)**: The actual font family and style\n",
    "\n",
    "The prefix is generated during PDF creation and helps distinguish between different subsets of the same font. For example, a document might have:\n",
    "\n",
    "- `ABCDEF+Arial-Bold` containing only the characters \"Hello\"\n",
    "- `XYZPQR+Arial-Bold` containing only the characters \"World\"\n",
    "\n",
    "Both are subsets of Arial Bold, but they contain different character sets to minimize file size.\n",
    "\n",
    "## Diagnosing Font Issues with Natural PDF\n",
    "\n",
    "### Listing All Fonts in a Document\n",
    "\n",
    "Natural PDF can help you understand what fonts are used in your document:"
   ]
  },
  {
   "cell_type": "code",
   "execution_count": 1,
   "id": "92d445cc",
   "metadata": {
    "execution": {
     "iopub.execute_input": "2025-04-02T22:30:22.680736Z",
     "iopub.status.busy": "2025-04-02T22:30:22.679735Z",
     "iopub.status.idle": "2025-04-02T22:30:32.712496Z",
     "shell.execute_reply": "2025-04-02T22:30:32.711419Z"
    }
   },
   "outputs": [
    {
     "name": "stdout",
     "output_type": "stream",
     "text": [
      "Fonts used in document:\n",
      "- Helvetica: 34 occurrences\n",
      "- Helvetica-Bold: 9 occurrences\n",
      "\n",
      "Font variants:\n"
     ]
    }
   ],
   "source": [
    "from natural_pdf import PDF\n",
    "from collections import defaultdict\n",
    "\n",
    "pdf = PDF(\"https://github.com/jsoma/natural-pdf/raw/refs/heads/main/pdfs/01-practice.pdf\")\n",
    "\n",
    "# Create a dictionary to store fonts\n",
    "fonts = defaultdict(int)\n",
    "\n",
    "# Collect all fonts from all pages\n",
    "for page in pdf.pages:\n",
    "    text_elements = page.find_all('text')\n",
    "    for elem in text_elements:\n",
    "        fonts[elem.fontname] = fonts.get(elem.fontname, 0) + 1\n",
    "\n",
    "# Print the fonts and their usage count\n",
    "print(\"Fonts used in document:\")\n",
    "for font, count in sorted(fonts.items(), key=lambda x: x[1], reverse=True):\n",
    "    print(f\"- {font}: {count} occurrences\")\n",
    "\n",
    "# Analyze font variants (subsets)\n",
    "variants = defaultdict(set)\n",
    "for font in fonts.keys():\n",
    "    if '+' in font:\n",
    "        prefix, base = font.split('+', 1)\n",
    "        variants[base].add(prefix)\n",
    "\n",
    "print(\"\\nFont variants:\")\n",
    "for base, prefixes in variants.items():\n",
    "    print(f\"- {base}: {len(prefixes)} variants ({', '.join(prefixes)})\")"
   ]
  },
  {
   "cell_type": "markdown",
   "id": "add3b054",
   "metadata": {},
   "source": [
    "### Finding Elements with Specific Font Variants\n",
    "\n",
    "You can use Natural PDF's selectors to find text with specific font variants:"
   ]
  },
  {
   "cell_type": "code",
   "execution_count": 2,
   "id": "d9513c85",
   "metadata": {
    "execution": {
     "iopub.execute_input": "2025-04-02T22:30:32.720600Z",
     "iopub.status.busy": "2025-04-02T22:30:32.720204Z",
     "iopub.status.idle": "2025-04-02T22:30:32.729376Z",
     "shell.execute_reply": "2025-04-02T22:30:32.727486Z"
    }
   },
   "outputs": [],
   "source": [
    "# Find all elements using a specific font variant\n",
    "arial_bold_variant = page.find_all('text[fontname*=\"ABCDEF+Arial-Bold\"]')\n",
    "\n",
    "# Or use the font-variant attribute (which extracts the prefix)\n",
    "variant_elements = page.find_all('text[font-variant=\"ABCDEF\"]')\n",
    "\n",
    "# Find all elements using the base font, regardless of variant\n",
    "all_arial_bold = page.find_all('text[fontname*=\"Arial-Bold\"]')"
   ]
  },
  {
   "cell_type": "markdown",
   "id": "57907fd6",
   "metadata": {},
   "source": [
    "## Common Font Challenges in PDFs\n",
    "\n",
    "### 1. Font Subsets and Text Extraction\n",
    "\n",
    "When PDFs use font subsets, some characters might not be properly mapped, leading to incorrect text extraction. You might encounter:\n",
    "\n",
    "- Gibberish text (`\"Ð¡ŽŠ\"` instead of \"Hello\")\n",
    "- Missing characters (appearing as □ or ?)\n",
    "- Completely incorrect character mappings\n",
    "\n",
    "Natural PDF helps handle this:"
   ]
  },
  {
   "cell_type": "code",
   "execution_count": 3,
   "id": "56c7d69c",
   "metadata": {
    "execution": {
     "iopub.execute_input": "2025-04-02T22:30:32.736497Z",
     "iopub.status.busy": "2025-04-02T22:30:32.735997Z",
     "iopub.status.idle": "2025-04-02T22:30:33.371815Z",
     "shell.execute_reply": "2025-04-02T22:30:33.365265Z"
    }
   },
   "outputs": [
    {
     "ename": "TypeError",
     "evalue": "PDF.__init__() got an unexpected keyword argument 'ocr'",
     "output_type": "error",
     "traceback": [
      "\u001b[0;31m---------------------------------------------------------------------------\u001b[0m",
      "\u001b[0;31mTypeError\u001b[0m                                 Traceback (most recent call last)",
      "Cell \u001b[0;32mIn[3], line 2\u001b[0m\n\u001b[1;32m      1\u001b[0m \u001b[38;5;66;03m# For PDFs with font encoding issues, OCR can be more reliable\u001b[39;00m\n\u001b[0;32m----> 2\u001b[0m pdf \u001b[38;5;241m=\u001b[39m \u001b[43mPDF\u001b[49m\u001b[43m(\u001b[49m\u001b[38;5;124;43m\"\u001b[39;49m\u001b[38;5;124;43mproblematic_document.pdf\u001b[39;49m\u001b[38;5;124;43m\"\u001b[39;49m\u001b[43m,\u001b[49m\u001b[43m \u001b[49m\u001b[43mocr\u001b[49m\u001b[38;5;241;43m=\u001b[39;49m\u001b[38;5;124;43m\"\u001b[39;49m\u001b[38;5;124;43mauto\u001b[39;49m\u001b[38;5;124;43m\"\u001b[39;49m\u001b[43m)\u001b[49m\n\u001b[1;32m      4\u001b[0m \u001b[38;5;66;03m# Extract text - will use OCR if native text extraction fails\u001b[39;00m\n\u001b[1;32m      5\u001b[0m text \u001b[38;5;241m=\u001b[39m pdf\u001b[38;5;241m.\u001b[39mpages[\u001b[38;5;241m0\u001b[39m]\u001b[38;5;241m.\u001b[39mextract_text()\n",
      "\u001b[0;31mTypeError\u001b[0m: PDF.__init__() got an unexpected keyword argument 'ocr'"
     ]
    }
   ],
   "source": [
    "# For PDFs with font encoding issues, OCR can be more reliable\n",
    "pdf = PDF(\"problematic_document.pdf\", ocr=\"auto\")\n",
    "\n",
    "# Extract text - will use OCR if native text extraction fails\n",
    "text = pdf.pages[0].extract_text()"
   ]
  },
  {
   "cell_type": "markdown",
   "id": "a8c43f40",
   "metadata": {},
   "source": [
    "### 2. Identifying Text by Visual Appearance vs Font Name\n",
    "\n",
    "Sometimes you want to find text that looks visually similar, regardless of how the font is technically named:"
   ]
  },
  {
   "cell_type": "code",
   "execution_count": null,
   "id": "4b35481d",
   "metadata": {},
   "outputs": [],
   "source": [
    "# Group text by visual properties (size, weight, etc.)\n",
    "text_styles = page.analyze_text_styles()\n",
    "\n",
    "# Check the properties of each style\n",
    "for style_name, elements in text_styles.items():\n",
    "    if elements:\n",
    "        example = elements[0]\n",
    "        print(f\"{style_name}:\")\n",
    "        print(f\"  Font: {example.fontname}\")\n",
    "        print(f\"  Size: {example.size}\")\n",
    "        print(f\"  Bold: {example.bold}\")\n",
    "        print(f\"  Italic: {example.italic}\")\n",
    "        print(f\"  Example: {example.text[:20]}...\")"
   ]
  },
  {
   "cell_type": "markdown",
   "id": "68aba462",
   "metadata": {},
   "source": [
    "### 3. Font Color Handling\n",
    "\n",
    "PDFs represent colors in different ways. Natural PDF normalizes these for easy use:"
   ]
  },
  {
   "cell_type": "code",
   "execution_count": null,
   "id": "ded55655",
   "metadata": {},
   "outputs": [],
   "source": [
    "# Find text with specific colors\n",
    "red_text = page.find_all('text[color~=red]')\n",
    "blue_text = page.find_all('text[color~=blue]')\n",
    "\n",
    "# Check the color of a specific element\n",
    "element = page.find('text:contains(\"Important\")')\n",
    "if element:\n",
    "    print(f\"Color: {element.color}\")  # Returns as RGB tuple\n",
    "    \n",
    "    # Visualize the color\n",
    "    element.highlight(label=f\"Color: {element.color}\")\n",
    "    image = page.to_image()\n",
    "    image"
   ]
  },
  {
   "cell_type": "markdown",
   "id": "93265011",
   "metadata": {},
   "source": [
    "## Font Embedding and Accessibility\n",
    "\n",
    "Understanding font embedding is important for PDF accessibility and preservation:\n",
    "\n",
    "- **Fully embedded fonts**: The PDF contains all font data needed to render the text\n",
    "- **Subset embedded fonts**: Only the characters used in the document are embedded\n",
    "- **Referenced fonts**: The PDF relies on the viewing system having the font installed\n",
    "\n",
    "Natural PDF can help you determine if fonts might cause problems:"
   ]
  },
  {
   "cell_type": "code",
   "execution_count": null,
   "id": "c71ca3d8",
   "metadata": {},
   "outputs": [],
   "source": [
    "# Advanced: Check for non-embedded fonts that might cause issues\n",
    "from collections import Counter\n",
    "\n",
    "non_embedded_fonts = Counter()\n",
    "\n",
    "for page in pdf.pages:\n",
    "    text_elements = page.find_all('text')\n",
    "    for elem in text_elements:\n",
    "        # Use pdfplumber's native font info\n",
    "        font_dict = elem._obj.get('fontname', '')\n",
    "        \n",
    "        # If a font doesn't contain a '+', it might not be embedded\n",
    "        if '+' not in font_dict and font_dict not in ['Times-Roman', 'Helvetica', 'Courier']:\n",
    "            non_embedded_fonts[font_dict] += 1\n",
    "\n",
    "if non_embedded_fonts:\n",
    "    print(\"Warning: Document contains possibly non-embedded fonts:\")\n",
    "    for font, count in non_embedded_fonts.most_common():\n",
    "        print(f\"- {font}: {count} occurrences\")"
   ]
  },
  {
   "cell_type": "markdown",
   "id": "f3c8187a",
   "metadata": {},
   "source": [
    "## When to Use OCR Instead of Native Text Extraction\n",
    "\n",
    "Sometimes, even with embedded fonts, text extraction may fail due to:\n",
    "\n",
    "1. Custom encoding tables\n",
    "2. Security features in the PDF\n",
    "3. Non-standard fonts with incorrect character mappings\n",
    "4. Text rendered as vector graphics or images\n",
    "\n",
    "In these cases, OCR might yield better results:"
   ]
  },
  {
   "cell_type": "code",
   "execution_count": null,
   "id": "3ff10d5f",
   "metadata": {},
   "outputs": [],
   "source": [
    "# Compare native extraction vs OCR\n",
    "native_text = page.extract_text(ocr=False)\n",
    "ocr_text = page.extract_text(ocr=True)\n",
    "\n",
    "print(f\"Native extraction: {len(native_text)} characters\")\n",
    "print(f\"OCR extraction: {len(ocr_text)} characters\")\n",
    "\n",
    "# If lengths differ dramatically, you may have font encoding issues\n",
    "if abs(len(native_text) - len(ocr_text)) > len(native_text) * 0.5:\n",
    "    print(\"Significant difference detected - possible font encoding issues\")\n",
    "    \n",
    "    # View sample of both for comparison\n",
    "    print(\"\\nNative sample:\", native_text[:100])\n",
    "    print(\"\\nOCR sample:\", ocr_text[:100])"
   ]
  },
  {
   "cell_type": "markdown",
   "id": "a835bd21",
   "metadata": {},
   "source": [
    "## Best Practices for Font Handling\n",
    "\n",
    "1. **Check font coverage first**: Use the font analysis example above to understand what fonts your document uses\n",
    "2. **Use font-variant in selectors**: When you need to target specific variants of a font\n",
    "3. **Try OCR when text extraction fails**: If you see gibberish or missing text, OCR may give better results\n",
    "4. **Group by visual appearance**: Use `analyze_text_styles()` to find text that looks similar, regardless of technical font names\n",
    "\n",
    "Understanding font handling in PDFs will help you extract text more effectively and handle edge cases that often arise in real-world documents.\n",
    "\n",
    "## Further Reading\n",
    "\n",
    "- [Understanding Font Naming in PDFs](https://helpx.adobe.com/acrobat/using/pdf-fonts.html)\n",
    "- [PDF Specification - Font Resources](https://opensource.adobe.com/dc-acrobat-sdk-docs/pdfstandards/PDF32000_2008.pdf)\n",
    "- [OCR Integration in Natural PDF](../ocr/index.md)"
   ]
  }
 ],
 "metadata": {
  "jupytext": {
   "cell_metadata_filter": "-all",
   "main_language": "python",
   "notebook_metadata_filter": "-all",
   "text_representation": {
    "extension": ".md",
    "format_name": "markdown"
   }
  },
  "language_info": {
   "codemirror_mode": {
    "name": "ipython",
    "version": 3
   },
   "file_extension": ".py",
   "mimetype": "text/x-python",
   "name": "python",
   "nbconvert_exporter": "python",
   "pygments_lexer": "ipython3",
   "version": "3.10.13"
  }
 },
 "nbformat": 4,
 "nbformat_minor": 5
}
