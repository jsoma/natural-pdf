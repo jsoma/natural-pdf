{
 "cells": [
  {
   "cell_type": "markdown",
   "id": "d6c97dd0",
   "metadata": {},
   "source": [
    "# Natural PDF\n",
    "\n",
    "A friendly library for working with PDFs, built on top of [pdfplumber](https://github.com/jsvine/pdfplumber).\n",
    "\n",
    "Natural PDF lets you find and extract content from PDFs using simple code that makes sense.\n",
    "\n",
    "- [Live demo here](https://colab.research.google.com/github/jsoma/natural-pdf/blob/main/notebooks/Examples.ipynb)\n",
    "\n",
    "## Quick Example"
   ]
  },
  {
   "cell_type": "code",
   "execution_count": 1,
   "id": "94eaabca",
   "metadata": {
    "execution": {
     "iopub.execute_input": "2025-04-02T22:30:22.409562Z",
     "iopub.status.busy": "2025-04-02T22:30:22.409286Z",
     "iopub.status.idle": "2025-04-02T22:30:33.117436Z",
     "shell.execute_reply": "2025-04-02T22:30:33.114856Z"
    }
   },
   "outputs": [
    {
     "ename": "FileNotFoundError",
     "evalue": "[Errno 2] No such file or directory: 'document.pdf'",
     "output_type": "error",
     "traceback": [
      "\u001b[0;31m---------------------------------------------------------------------------\u001b[0m",
      "\u001b[0;31mFileNotFoundError\u001b[0m                         Traceback (most recent call last)",
      "Cell \u001b[0;32mIn[1], line 3\u001b[0m\n\u001b[1;32m      1\u001b[0m \u001b[38;5;28;01mfrom\u001b[39;00m\u001b[38;5;250m \u001b[39m\u001b[38;5;21;01mnatural_pdf\u001b[39;00m\u001b[38;5;250m \u001b[39m\u001b[38;5;28;01mimport\u001b[39;00m PDF\n\u001b[0;32m----> 3\u001b[0m pdf \u001b[38;5;241m=\u001b[39m \u001b[43mPDF\u001b[49m\u001b[43m(\u001b[49m\u001b[38;5;124;43m'\u001b[39;49m\u001b[38;5;124;43mdocument.pdf\u001b[39;49m\u001b[38;5;124;43m'\u001b[39;49m\u001b[43m)\u001b[49m\n\u001b[1;32m      4\u001b[0m page \u001b[38;5;241m=\u001b[39m pdf\u001b[38;5;241m.\u001b[39mpages[\u001b[38;5;241m0\u001b[39m]\n\u001b[1;32m      6\u001b[0m \u001b[38;5;66;03m# Find the title and get content below it\u001b[39;00m\n",
      "File \u001b[0;32m~/Development/natural-pdf/natural_pdf/core/pdf.py:84\u001b[0m, in \u001b[0;36mPDF.__init__\u001b[0;34m(self, path_or_url, reading_order, font_attrs, keep_spaces)\u001b[0m\n\u001b[1;32m     81\u001b[0m logger\u001b[38;5;241m.\u001b[39minfo(\u001b[38;5;124mf\u001b[39m\u001b[38;5;124m\"\u001b[39m\u001b[38;5;124mInitializing PDF from \u001b[39m\u001b[38;5;132;01m{\u001b[39;00mpath\u001b[38;5;132;01m}\u001b[39;00m\u001b[38;5;124m\"\u001b[39m)\n\u001b[1;32m     82\u001b[0m logger\u001b[38;5;241m.\u001b[39mdebug(\u001b[38;5;124mf\u001b[39m\u001b[38;5;124m\"\u001b[39m\u001b[38;5;124mParameters: reading_order=\u001b[39m\u001b[38;5;132;01m{\u001b[39;00mreading_order\u001b[38;5;132;01m}\u001b[39;00m\u001b[38;5;124m, font_attrs=\u001b[39m\u001b[38;5;132;01m{\u001b[39;00mfont_attrs\u001b[38;5;132;01m}\u001b[39;00m\u001b[38;5;124m, keep_spaces=\u001b[39m\u001b[38;5;132;01m{\u001b[39;00mkeep_spaces\u001b[38;5;132;01m}\u001b[39;00m\u001b[38;5;124m\"\u001b[39m)\n\u001b[0;32m---> 84\u001b[0m \u001b[38;5;28mself\u001b[39m\u001b[38;5;241m.\u001b[39m_pdf \u001b[38;5;241m=\u001b[39m \u001b[43mpdfplumber\u001b[49m\u001b[38;5;241;43m.\u001b[39;49m\u001b[43mopen\u001b[49m\u001b[43m(\u001b[49m\u001b[43mpath\u001b[49m\u001b[43m)\u001b[49m\n\u001b[1;32m     85\u001b[0m \u001b[38;5;28mself\u001b[39m\u001b[38;5;241m.\u001b[39m_path \u001b[38;5;241m=\u001b[39m path\n\u001b[1;32m     86\u001b[0m \u001b[38;5;28mself\u001b[39m\u001b[38;5;241m.\u001b[39m_reading_order \u001b[38;5;241m=\u001b[39m reading_order\n",
      "File \u001b[0;32m~/.pyenv/versions/3.10.13/lib/python3.10/site-packages/pdfplumber/pdf.py:92\u001b[0m, in \u001b[0;36mPDF.open\u001b[0;34m(cls, path_or_fp, pages, laparams, password, strict_metadata, unicode_norm, repair, gs_path, repair_setting)\u001b[0m\n\u001b[1;32m     90\u001b[0m     path \u001b[38;5;241m=\u001b[39m \u001b[38;5;28;01mNone\u001b[39;00m\n\u001b[1;32m     91\u001b[0m \u001b[38;5;28;01melif\u001b[39;00m \u001b[38;5;28misinstance\u001b[39m(path_or_fp, (\u001b[38;5;28mstr\u001b[39m, pathlib\u001b[38;5;241m.\u001b[39mPath)):\n\u001b[0;32m---> 92\u001b[0m     stream \u001b[38;5;241m=\u001b[39m \u001b[38;5;28;43mopen\u001b[39;49m\u001b[43m(\u001b[49m\u001b[43mpath_or_fp\u001b[49m\u001b[43m,\u001b[49m\u001b[43m \u001b[49m\u001b[38;5;124;43m\"\u001b[39;49m\u001b[38;5;124;43mrb\u001b[39;49m\u001b[38;5;124;43m\"\u001b[39;49m\u001b[43m)\u001b[49m\n\u001b[1;32m     93\u001b[0m     stream_is_external \u001b[38;5;241m=\u001b[39m \u001b[38;5;28;01mFalse\u001b[39;00m\n\u001b[1;32m     94\u001b[0m     path \u001b[38;5;241m=\u001b[39m pathlib\u001b[38;5;241m.\u001b[39mPath(path_or_fp)\n",
      "\u001b[0;31mFileNotFoundError\u001b[0m: [Errno 2] No such file or directory: 'document.pdf'"
     ]
    }
   ],
   "source": [
    "from natural_pdf import PDF\n",
    "\n",
    "pdf = PDF('document.pdf')\n",
    "page = pdf.pages[0]\n",
    "\n",
    "# Find the title and get content below it\n",
    "title = page.find('text:contains(\"Summary\"):bold')\n",
    "content = title.below().extract_text()\n",
    "\n",
    "# Exclude everything above 'CONFIDENTIAL' and below last line on page\n",
    "page.add_exclusion(page.find('text:contains(\"CONFIDENTIAL\")').above())\n",
    "page.add_exclusion(page.find_all('line')[-1].below())\n",
    "\n",
    "# Get the clean text without header/footer\n",
    "clean_text = page.extract_text()"
   ]
  },
  {
   "cell_type": "markdown",
   "id": "d93f5610",
   "metadata": {},
   "source": [
    "## What can you do with Natural PDF?\n",
    "\n",
    "- Find text using CSS-like selectors (like `page.find('text:contains(\"Revenue\"):bold')`)\n",
    "- Navigate spatially (like `heading.below()` to get content below a heading)\n",
    "- Extract text while automatically excluding headers and footers\n",
    "- Visualize what's happening to debug your extraction\n",
    "- Apply OCR to scanned documents\n",
    "- Detect tables, headings, and other document structures using AI models\n",
    "- Ask natural language questions to your documents\n",
    "\n",
    "## Core Features\n",
    "\n",
    "### CSS-like Selectors"
   ]
  },
  {
   "cell_type": "code",
   "execution_count": null,
   "id": "8266afb3",
   "metadata": {},
   "outputs": [],
   "source": [
    "# Find and extract text from bold elements containing \"Revenue\"\n",
    "page.find('text:contains(\"Revenue\"):bold').extract_text()\n",
    "\n",
    "# Extract all large text\n",
    "page.find_all('text[size>=12]').extract_text()\n",
    "\n",
    "# Highlight red rectangles\n",
    "page.find_all('rect[color~=red]').highlight(color=\"red\")\n",
    "\n",
    "# Find text with specific font and extract it\n",
    "page.find_all('text[fontname*=Arial]').extract_text()\n",
    "\n",
    "# Highlight high-confidence OCR text\n",
    "page.find_all('text[source=ocr][confidence>=0.8]').highlight(label=\"High Confidence OCR\")"
   ]
  },
  {
   "cell_type": "markdown",
   "id": "b200aee6",
   "metadata": {},
   "source": [
    "Selectors support attribute matching, pseudo-classes, and content searches. [Learn more about selectors →](element-selection/index.md)\n",
    "\n",
    "Curious about those weird font names like 'AAAAAB+Arial'? [Explore PDF font handling →](explanations/pdf-fonts.md)\n",
    "\n",
    "### Spatial Navigation"
   ]
  },
  {
   "cell_type": "code",
   "execution_count": null,
   "id": "b198104a",
   "metadata": {},
   "outputs": [],
   "source": [
    "# Extract text below a heading\n",
    "intro_text = page.find('text:contains(\"Introduction\")').below().extract_text()\n",
    "\n",
    "# Extract text from one heading to another\n",
    "methods_text = page.find('text:contains(\"Methods\")').below(\n",
    "    until='text:contains(\"Results\")',\n",
    "    include_until=False\n",
    ").extract_text()\n",
    "\n",
    "# Extract content above a footer\n",
    "main_text = page.find('text:contains(\"Page 1 of 10\")').above().extract_text()"
   ]
  },
  {
   "cell_type": "markdown",
   "id": "c0839287",
   "metadata": {},
   "source": [
    "Navigate PDFs spatially instead of using coordinates. [Explore more navigation methods →](pdf-navigation/index.md)\n",
    "\n",
    "Working with headers and footers? [Learn about exclusion zones →](regions/index.md#exclusion-zones)\n",
    "\n",
    "### Document Layout Analysis"
   ]
  },
  {
   "cell_type": "code",
   "execution_count": null,
   "id": "cd8f4154",
   "metadata": {},
   "outputs": [],
   "source": [
    "# Detect document structure using AI models\n",
    "page.analyze_layout()\n",
    "\n",
    "# Highlight titles and tables with different colors\n",
    "page.find_all('region[type=title]').highlight(color=\"purple\", label=\"Titles\")\n",
    "page.find_all('region[type=table]').highlight(color=\"blue\", label=\"Tables\")\n",
    "\n",
    "# Extract text from paragraphs\n",
    "paragraph_text = page.find_all('region[type=plain-text]').extract_text()\n",
    "\n",
    "# Extract data from the first table as a list of rows\n",
    "table_data = page.find('region[type=table]').extract_table()"
   ]
  },
  {
   "cell_type": "markdown",
   "id": "f7938242",
   "metadata": {},
   "source": [
    "Natural PDF supports multiple layout models including YOLO for general document analysis and Table Transformer (TATR) for detailed table structure. [Learn about layout models →](layout-analysis/index.md)\n",
    "\n",
    "Working with tables? [See specialized table extraction methods →](tables/index.md)\n",
    "\n",
    "### Document Question Answering"
   ]
  },
  {
   "cell_type": "code",
   "execution_count": null,
   "id": "44614c71",
   "metadata": {},
   "outputs": [],
   "source": [
    "# Ask questions directly to your documents\n",
    "result = pdf.ask(\"What was the company's revenue in 2022?\")\n",
    "if result.get(\"found\", False):\n",
    "    print(f\"Answer: {result['answer']}\")\n",
    "    print(f\"Confidence: {result['confidence']:.2f}\")\n",
    "    \n",
    "    # Highlight where the answer was found\n",
    "    if \"source_elements\" in result:\n",
    "        for element in result[\"source_elements\"]:\n",
    "            element.highlight(color=\"orange\")\n",
    "            \n",
    "    # Display the answer location\n",
    "    image = pdf.pages[result.get('page_num', 0) - 1].to_image()\n",
    "    image"
   ]
  },
  {
   "cell_type": "markdown",
   "id": "e18dd2b7",
   "metadata": {},
   "source": [
    "Document QA uses LayoutLM models that understand both text content and visual layout. Unlike general LLMs, the answers come directly from your document without hallucinations. [Learn about Document QA →](document-qa/index.md)\n",
    "\n",
    "Having OCR problems? [Understand OCR challenges and solutions →](explanations/ocr-challenges.md)\n",
    "\n",
    "### OCR Support\n",
    "\n",
    "Natural PDF supports multiple engines (EasyOCR, PaddleOCR, Surya) for extracting text from scanned documents."
   ]
  },
  {
   "cell_type": "code",
   "execution_count": null,
   "id": "74bf696f",
   "metadata": {},
   "outputs": [],
   "source": [
    "# Apply OCR using a specific engine\n",
    "ocr_elements = page.apply_ocr(engine='paddle')\n",
    "\n",
    "# Configure engine options\n",
    "from natural_pdf.ocr import EasyOCROptions\n",
    "opts = EasyOCROptions(languages=['en', 'fr'], min_confidence=0.4)\n",
    "ocr_elements = page.apply_ocr(engine='easyocr', options=opts)\n",
    "\n",
    "# Extract text (will use OCR results if available)\n",
    "text = page.extract_text()"
   ]
  },
  {
   "cell_type": "markdown",
   "id": "1f41a31c",
   "metadata": {},
   "source": [
    "Natural PDF supports both EasyOCR and PaddleOCR engines. PaddleOCR is often more accurate while EasyOCR is simpler to set up. [Explore OCR options →](ocr/index.md)\n",
    "\n",
    "Having OCR problems? [Understand OCR challenges and solutions →](explanations/ocr-challenges.md)\n",
    "\n",
    "## Visual Debugging & Interactive Widget\n",
    "\n",
    "Visualize element selections and analysis results. Use `.highlight()` to add persistent highlights to elements or collections. View these highlights using `.viewer()` (interactive widget in Jupyter) or `.save_image()` (static file). Use `ElementCollection.show()` to generate temporary previews of specific selections, optionally grouping them by attribute."
   ]
  },
  {
   "cell_type": "code",
   "execution_count": null,
   "id": "c63c23d9",
   "metadata": {},
   "outputs": [],
   "source": [
    "# Highlight different elements persistently\n",
    "page.find_all('text[size>=14]').highlight(color=\"red\", label=\"Headings\")\n",
    "page.find_all('rect').highlight(color=\"green\", label=\"Boxes\")\n",
    "page.find_all('line').highlight(color=\"blue\", label=\"Lines\")\n",
    "\n",
    "# Launch the interactive viewer (shows persistent highlights)\n",
    "# Requires: pip install natural-pdf[interactive]\n",
    "page.viewer()\n",
    "\n",
    "# Or save the image if needed\n",
    "# page.save_image(\"highlighted.png\", labels=True)\n",
    "\n",
    "# Show a temporary preview image of specific elements, grouped by type\n",
    "preview_image = page.find_all('region[type*=table]').show(group_by='type')\n",
    "# In Jupyter, this image will display automatically\n",
    "preview_image"
   ]
  },
  {
   "cell_type": "markdown",
   "id": "5fb6ea22",
   "metadata": {},
   "source": [
    "Visualizing elements helps debug extraction issues and understand document structure. [See more visualization options →](visual-debugging/index.md)\n",
    "\n",
    "Having trouble with PDF extraction? [Understand common PDF challenges →](explanations/pdf-extraction-challenges.md)\n",
    "\n",
    "## Page Sections\n",
    "\n",
    "Here's how to split pages into logical sections for extracting structured content:"
   ]
  },
  {
   "cell_type": "code",
   "execution_count": null,
   "id": "61c0a456",
   "metadata": {},
   "outputs": [],
   "source": [
    "# Simple approach: Get content between headings\n",
    "intro_text = page.find('text:contains(\"Introduction\")').below(\n",
    "    until='text:contains(\"Methods\")', include_until=False\n",
    ").extract_text()\n",
    "\n",
    "# Get sections based on headings\n",
    "sections = page.get_sections(start_elements='text[size>=14]:bold')\n",
    "\n",
    "# Process each section\n",
    "for section in sections:\n",
    "    # Extract text from the section\n",
    "    section_text = section.extract_text()\n",
    "    print(f\"Section text: {section_text[:50]}...\")\n",
    "    \n",
    "    # Highlight the section\n",
    "    section.highlight()\n",
    "    \n",
    "# Get sections across multiple pages\n",
    "doc_sections = pdf.pages.get_sections(\n",
    "    start_elements='text[size>=14]:bold',\n",
    "    new_section_on_page_break=True\n",
    ")"
   ]
  },
  {
   "cell_type": "markdown",
   "id": "faf8dda7",
   "metadata": {},
   "source": [
    "Sections help break down documents into logical chunks. Use them to extract structured content like chapters, articles, or report sections. [Learn more about sectioning →](regions/index.md#document-sections)\n",
    "\n",
    "Need to extract specific document components? [See layout analysis for automatic structure detection →](layout-analysis/index.md)\n",
    "\n",
    "## Advanced Example\n",
    "\n",
    "Here's a more complex example that uses multiple features:"
   ]
  },
  {
   "cell_type": "code",
   "execution_count": null,
   "id": "15959528",
   "metadata": {},
   "outputs": [],
   "source": [
    "from natural_pdf import PDF\n",
    "import os\n",
    "\n",
    "# Create output directory\n",
    "os.makedirs(\"output\", exist_ok=True)\n",
    "\n",
    "# Open a PDF\n",
    "pdf = PDF(\"annual_report.pdf\")\n",
    "\n",
    "# Add exclusion zones for header and footer\n",
    "pdf.add_exclusion(\n",
    "    lambda page: page.find('text:contains(\"CONFIDENTIAL\")').above() if page.find('text:contains(\"CONFIDENTIAL\")') else None,\n",
    "    label=\"header\"\n",
    ")\n",
    "pdf.add_exclusion(\n",
    "    lambda page: page.find('text:contains(\"Page\")').below() if page.find('text:contains(\"Page\")') else None,\n",
    "    label=\"footer\"\n",
    ")\n",
    "\n",
    "# Find financial section\n",
    "financial_heading = pdf.find('text:contains(\"Financial Results\")')\n",
    "if financial_heading:\n",
    "    page = financial_heading.page\n",
    "    \n",
    "    # Run layout analysis\n",
    "    page.analyze_layout()\n",
    "    \n",
    "    # Get the region below the heading\n",
    "    financial_section = financial_heading.below(height=300)\n",
    "    financial_section.highlight(color=\"yellow\", label=\"Financial Section\")\n",
    "    \n",
    "    # Find tables in or near this section\n",
    "    tables = page.find_all('region[type=table]')\n",
    "    tables_in_section = [table for table in tables if financial_section.intersects(table)]\n",
    "    \n",
    "    if tables_in_section:\n",
    "        # Highlight and extract tables\n",
    "        for i, table in enumerate(tables_in_section):\n",
    "            table.highlight(color=\"teal\", label=f\"Table {i+1}\")\n",
    "            \n",
    "            # Extract table data\n",
    "            data = table.extract_table()\n",
    "            print(f\"\\nTable {i+1}:\")\n",
    "            for row in data:\n",
    "                print(row)\n",
    "    \n",
    "    # Ask questions about the financial section\n",
    "    questions = [\n",
    "        \"What was the total revenue?\",\n",
    "        \"What was the net income?\",\n",
    "        \"What was the year-over-year growth?\"\n",
    "    ]\n",
    "    \n",
    "    print(\"\\nDocument QA Results:\")\n",
    "    for question in questions:\n",
    "        result = financial_section.ask(question)\n",
    "        if result.get(\"found\", False):\n",
    "            print(f\"Q: {question}\")\n",
    "            print(f\"A: {result['answer']} (confidence: {result['confidence']:.2f})\")\n",
    "            \n",
    "            # Highlight the answer\n",
    "            if \"source_elements\" in result:\n",
    "                for elem in result[\"source_elements\"]:\n",
    "                    elem.highlight(color=\"red\", label=f\"Answer: {question}\")\n",
    "    \n",
    "    # Get the highlighted page as an image\n",
    "    image = page.to_image(labels=True)\n",
    "    # Just return the image as the last line in a Jupyter cell\n",
    "    image\n",
    "    \n",
    "    # Extract text from the financial section\n",
    "    financial_text = financial_section.extract_text()\n",
    "    print(f\"\\nExtracted text from Financial Section ({len(financial_text)} characters):\")\n",
    "    print(financial_text[:200] + \"...\" if len(financial_text) > 200 else financial_text)"
   ]
  },
  {
   "cell_type": "markdown",
   "id": "fcd06708",
   "metadata": {},
   "source": [
    "## Documentation Topics\n",
    "\n",
    "Choose what you want to learn about:\n",
    "\n",
    "### Task-based Guides\n",
    "- [Getting Started](installation/index.md): Install the library and run your first extraction\n",
    "- [PDF Navigation](pdf-navigation/index.md): Open PDFs and work with pages\n",
    "- [Element Selection](element-selection/index.md): Find text and other elements using selectors\n",
    "- [Text Extraction](text-extraction/index.md): Extract clean text from documents\n",
    "- [Regions](regions/index.md): Work with specific areas of a page\n",
    "- [Visual Debugging](visual-debugging/index.md): See what you're extracting\n",
    "- [OCR](ocr/index.md): Extract text from scanned documents\n",
    "- [Layout Analysis](layout-analysis/index.md): Detect document structure\n",
    "- [Tables](tables/index.md): Extract tabular data\n",
    "- [Document QA](document-qa/index.md): Ask questions to your documents\n",
    "\n",
    "### Understanding PDFs\n",
    "- [PDF Explanations](explanations/index.md): Deep dives into PDF extraction challenges, fonts, OCR, and more\n",
    "\n",
    "### Reference\n",
    "- [API Reference](api/index.md): Complete library reference"
   ]
  }
 ],
 "metadata": {
  "jupytext": {
   "cell_metadata_filter": "-all",
   "main_language": "python",
   "notebook_metadata_filter": "-all",
   "text_representation": {
    "extension": ".md",
    "format_name": "markdown"
   }
  },
  "language_info": {
   "codemirror_mode": {
    "name": "ipython",
    "version": 3
   },
   "file_extension": ".py",
   "mimetype": "text/x-python",
   "name": "python",
   "nbconvert_exporter": "python",
   "pygments_lexer": "ipython3",
   "version": "3.10.13"
  }
 },
 "nbformat": 4,
 "nbformat_minor": 5
}
