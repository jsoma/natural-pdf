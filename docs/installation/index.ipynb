{
 "cells": [
  {
   "cell_type": "markdown",
   "id": "c9a613d8",
   "metadata": {},
   "source": [
    "# Getting Started with Natural PDF\n",
    "\n",
    "Let's get Natural PDF installed and run your first extraction.\n",
    "\n",
    "## Installation\n",
    "\n",
    "The base installation includes the core library and necessary AI dependencies (like PyTorch and Transformers):"
   ]
  },
  {
   "cell_type": "code",
   "execution_count": 1,
   "id": "43bf06bb",
   "metadata": {
    "execution": {
     "iopub.execute_input": "2025-04-02T22:30:35.445542Z",
     "iopub.status.busy": "2025-04-02T22:30:35.445403Z",
     "iopub.status.idle": "2025-04-02T22:30:38.717905Z",
     "shell.execute_reply": "2025-04-02T22:30:38.717465Z"
    }
   },
   "outputs": [
    {
     "name": "stdout",
     "output_type": "stream",
     "text": [
      "Requirement already satisfied: natural-pdf in /Users/soma/.pyenv/versions/3.10.13/lib/python3.10/site-packages (25.3.17.3.dev7+gf0c1fbd1.d20250402)\r\n",
      "Requirement already satisfied: pdfplumber>=0.7.0 in /Users/soma/.pyenv/versions/3.10.13/lib/python3.10/site-packages (from natural-pdf) (0.11.4)\r\n",
      "Requirement already satisfied: Pillow>=8.0.0 in /Users/soma/.pyenv/versions/3.10.13/lib/python3.10/site-packages (from natural-pdf) (10.4.0)\r\n",
      "Requirement already satisfied: colour>=0.1.5 in /Users/soma/.pyenv/versions/3.10.13/lib/python3.10/site-packages (from natural-pdf) (0.1.5)\r\n",
      "Requirement already satisfied: numpy>=1.20.0 in /Users/soma/.pyenv/versions/3.10.13/lib/python3.10/site-packages (from natural-pdf) (1.26.4)\r\n",
      "Requirement already satisfied: urllib3>=1.26.0 in /Users/soma/.pyenv/versions/3.10.13/lib/python3.10/site-packages (from natural-pdf) (2.3.0)\r\n",
      "Requirement already satisfied: torch>=2.0.0 in /Users/soma/.pyenv/versions/3.10.13/lib/python3.10/site-packages (from natural-pdf) (2.6.0)\r\n",
      "Requirement already satisfied: torchvision>=0.15.0 in /Users/soma/.pyenv/versions/3.10.13/lib/python3.10/site-packages (from natural-pdf) (0.21.0)\r\n",
      "Requirement already satisfied: transformers>=4.30.0 in /Users/soma/.pyenv/versions/3.10.13/lib/python3.10/site-packages (from natural-pdf) (4.50.0.dev0)\r\n",
      "Requirement already satisfied: huggingface_hub>=0.19.0 in /Users/soma/.pyenv/versions/3.10.13/lib/python3.10/site-packages (from natural-pdf) (0.29.3)\r\n",
      "Requirement already satisfied: filelock in /Users/soma/.pyenv/versions/3.10.13/lib/python3.10/site-packages (from huggingface_hub>=0.19.0->natural-pdf) (3.13.1)\r\n",
      "Requirement already satisfied: fsspec>=2023.5.0 in /Users/soma/.pyenv/versions/3.10.13/lib/python3.10/site-packages (from huggingface_hub>=0.19.0->natural-pdf) (2024.2.0)\r\n",
      "Requirement already satisfied: packaging>=20.9 in /Users/soma/.pyenv/versions/3.10.13/lib/python3.10/site-packages (from huggingface_hub>=0.19.0->natural-pdf) (24.2)\r\n",
      "Requirement already satisfied: pyyaml>=5.1 in /Users/soma/.pyenv/versions/3.10.13/lib/python3.10/site-packages (from huggingface_hub>=0.19.0->natural-pdf) (6.0.2)\r\n",
      "Requirement already satisfied: requests in /Users/soma/.pyenv/versions/3.10.13/lib/python3.10/site-packages (from huggingface_hub>=0.19.0->natural-pdf) (2.32.3)\r\n",
      "Requirement already satisfied: tqdm>=4.42.1 in /Users/soma/.pyenv/versions/3.10.13/lib/python3.10/site-packages (from huggingface_hub>=0.19.0->natural-pdf) (4.66.5)\r\n",
      "Requirement already satisfied: typing-extensions>=3.7.4.3 in /Users/soma/.pyenv/versions/3.10.13/lib/python3.10/site-packages (from huggingface_hub>=0.19.0->natural-pdf) (4.12.2)\r\n",
      "Requirement already satisfied: pdfminer.six==20231228 in /Users/soma/.pyenv/versions/3.10.13/lib/python3.10/site-packages (from pdfplumber>=0.7.0->natural-pdf) (20231228)\r\n",
      "Requirement already satisfied: pypdfium2>=4.18.0 in /Users/soma/.pyenv/versions/3.10.13/lib/python3.10/site-packages (from pdfplumber>=0.7.0->natural-pdf) (4.30.0)\r\n",
      "Requirement already satisfied: charset-normalizer>=2.0.0 in /Users/soma/.pyenv/versions/3.10.13/lib/python3.10/site-packages (from pdfminer.six==20231228->pdfplumber>=0.7.0->natural-pdf) (3.4.1)\r\n",
      "Requirement already satisfied: cryptography>=36.0.0 in /Users/soma/.pyenv/versions/3.10.13/lib/python3.10/site-packages (from pdfminer.six==20231228->pdfplumber>=0.7.0->natural-pdf) (42.0.5)\r\n",
      "Requirement already satisfied: networkx in /Users/soma/.pyenv/versions/3.10.13/lib/python3.10/site-packages (from torch>=2.0.0->natural-pdf) (3.4.2)\r\n",
      "Requirement already satisfied: jinja2 in /Users/soma/.pyenv/versions/3.10.13/lib/python3.10/site-packages (from torch>=2.0.0->natural-pdf) (3.1.5)\r\n",
      "Requirement already satisfied: sympy==1.13.1 in /Users/soma/.pyenv/versions/3.10.13/lib/python3.10/site-packages (from torch>=2.0.0->natural-pdf) (1.13.1)\r\n",
      "Requirement already satisfied: mpmath<1.4,>=1.1.0 in /Users/soma/.pyenv/versions/3.10.13/lib/python3.10/site-packages (from sympy==1.13.1->torch>=2.0.0->natural-pdf) (1.3.0)\r\n"
     ]
    },
    {
     "name": "stdout",
     "output_type": "stream",
     "text": [
      "Requirement already satisfied: regex!=2019.12.17 in /Users/soma/.pyenv/versions/3.10.13/lib/python3.10/site-packages (from transformers>=4.30.0->natural-pdf) (2024.11.6)\r\n",
      "Requirement already satisfied: tokenizers<0.22,>=0.21 in /Users/soma/.pyenv/versions/3.10.13/lib/python3.10/site-packages (from transformers>=4.30.0->natural-pdf) (0.21.0)\r\n",
      "Requirement already satisfied: safetensors>=0.4.1 in /Users/soma/.pyenv/versions/3.10.13/lib/python3.10/site-packages (from transformers>=4.30.0->natural-pdf) (0.5.2)\r\n",
      "Requirement already satisfied: MarkupSafe>=2.0 in /Users/soma/.pyenv/versions/3.10.13/lib/python3.10/site-packages (from jinja2->torch>=2.0.0->natural-pdf) (3.0.2)\r\n",
      "Requirement already satisfied: idna<4,>=2.5 in /Users/soma/.pyenv/versions/3.10.13/lib/python3.10/site-packages (from requests->huggingface_hub>=0.19.0->natural-pdf) (3.10)\r\n",
      "Requirement already satisfied: certifi>=2017.4.17 in /Users/soma/.pyenv/versions/3.10.13/lib/python3.10/site-packages (from requests->huggingface_hub>=0.19.0->natural-pdf) (2024.12.14)\r\n",
      "Requirement already satisfied: cffi>=1.12 in /Users/soma/.pyenv/versions/3.10.13/lib/python3.10/site-packages (from cryptography>=36.0.0->pdfminer.six==20231228->pdfplumber>=0.7.0->natural-pdf) (1.17.1)\r\n",
      "Requirement already satisfied: pycparser in /Users/soma/.pyenv/versions/3.10.13/lib/python3.10/site-packages (from cffi>=1.12->cryptography>=36.0.0->pdfminer.six==20231228->pdfplumber>=0.7.0->natural-pdf) (2.22)\r\n"
     ]
    },
    {
     "name": "stdout",
     "output_type": "stream",
     "text": [
      "Note: you may need to restart the kernel to use updated packages.\n"
     ]
    }
   ],
   "source": [
    "pip install natural-pdf"
   ]
  },
  {
   "cell_type": "markdown",
   "id": "e8b56ab0",
   "metadata": {},
   "source": [
    "### Optional Dependencies\n",
    "\n",
    "Natural PDF has modular dependencies for different features. Install them based on your needs:"
   ]
  },
  {
   "cell_type": "code",
   "execution_count": 2,
   "id": "3c7c025b",
   "metadata": {
    "execution": {
     "iopub.execute_input": "2025-04-02T22:30:38.719628Z",
     "iopub.status.busy": "2025-04-02T22:30:38.719461Z",
     "iopub.status.idle": "2025-04-02T22:30:38.722824Z",
     "shell.execute_reply": "2025-04-02T22:30:38.722212Z"
    }
   },
   "outputs": [
    {
     "ename": "SyntaxError",
     "evalue": "invalid syntax (2731247859.py, line 3)",
     "output_type": "error",
     "traceback": [
      "\u001b[0;36m  Cell \u001b[0;32mIn[2], line 3\u001b[0;36m\u001b[0m\n\u001b[0;31m    pip install natural-pdf[easyocr]\u001b[0m\n\u001b[0m        ^\u001b[0m\n\u001b[0;31mSyntaxError\u001b[0m\u001b[0;31m:\u001b[0m invalid syntax\n"
     ]
    }
   ],
   "source": [
    "# --- OCR Engines ---\n",
    "# Install support for EasyOCR\n",
    "pip install natural-pdf[easyocr]\n",
    "\n",
    "# Install support for PaddleOCR (requires paddlepaddle)\n",
    "pip install natural-pdf[paddle]\n",
    "\n",
    "# Install support for Surya OCR\n",
    "pip install natural-pdf[surya]\n",
    "\n",
    "# --- Layout Detection ---\n",
    "# Install support for YOLO layout model\n",
    "pip install natural-pdf[layout_yolo]\n",
    "\n",
    "# --- Interactive Widget ---\n",
    "# Install support for the interactive .viewer() widget in Jupyter\n",
    "pip install natural-pdf[interactive]\n",
    "\n",
    "# --- All Features ---\n",
    "# Install all optional dependencies\n",
    "pip install natural-pdf[all]"
   ]
  },
  {
   "cell_type": "markdown",
   "id": "6ded6a7d",
   "metadata": {},
   "source": [
    "## Your First PDF Extraction\n",
    "\n",
    "Here's a quick example to make sure everything is working:"
   ]
  },
  {
   "cell_type": "code",
   "execution_count": null,
   "id": "48fba996",
   "metadata": {},
   "outputs": [],
   "source": [
    "%%python\n",
    "from natural_pdf import PDF\n",
    "\n",
    "# Open a PDF\n",
    "pdf = PDF('your_document.pdf')\n",
    "\n",
    "# Get the first page\n",
    "page = pdf.pages[0]\n",
    "\n",
    "# Extract all text\n",
    "text = page.extract_text()\n",
    "print(text)\n",
    "\n",
    "# Find something specific\n",
    "title = page.find('text:bold')\n",
    "if title:\n",
    "    print(f\"Found title: {title.text}\")"
   ]
  },
  {
   "cell_type": "markdown",
   "id": "b55d100d",
   "metadata": {},
   "source": [
    "## What's Next?\n",
    "\n",
    "Now that you have Natural PDF installed, you can:\n",
    "\n",
    "- Learn to [navigate PDFs](../pdf-navigation/index.md)\n",
    "- Explore how to [select elements](../element-selection/index.md)\n",
    "- See how to [extract text](../text-extraction/index.md)"
   ]
  }
 ],
 "metadata": {
  "jupytext": {
   "cell_metadata_filter": "-all",
   "main_language": "bash",
   "notebook_metadata_filter": "-all",
   "text_representation": {
    "extension": ".md",
    "format_name": "markdown"
   }
  },
  "language_info": {
   "codemirror_mode": {
    "name": "ipython",
    "version": 3
   },
   "file_extension": ".py",
   "mimetype": "text/x-python",
   "name": "python",
   "nbconvert_exporter": "python",
   "pygments_lexer": "ipython3",
   "version": "3.10.13"
  }
 },
 "nbformat": 4,
 "nbformat_minor": 5
}
