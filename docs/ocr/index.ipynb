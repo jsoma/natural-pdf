{
 "cells": [
  {
   "cell_type": "markdown",
   "id": "37a98ade",
   "metadata": {},
   "source": [
    "# OCR Integration\n",
    "\n",
    "Natural PDF includes OCR (Optical Character Recognition) to extract text from scanned documents or images embedded in PDFs.\n",
    "\n",
    "## OCR Engine Comparison\n",
    "\n",
    "Natural PDF supports multiple OCR engines:\n",
    "\n",
    "| Feature              | EasyOCR                            | PaddleOCR                                | Surya OCR                             |\n",
    "|----------------------|------------------------------------|------------------------------------------|---------------------------------------|\n",
    "| **Installation**     | `natural-pdf[easyocr]`             | `natural-pdf[paddle]`                    | `natural-pdf[surya]`                  |\n",
    "| **Primary Strength** | Good general performance, simpler  | Excellent Asian language, speed        | High accuracy, multilingual lines     |\n",
    "| **Speed**            | Moderate                           | Fast                                     | Moderate (GPU recommended)            |\n",
    "| **Memory Usage**     | Higher                             | Efficient                                | Higher (GPU recommended)            |\n",
    "| **Paragraph Detect** | Yes (via option)                   | No                                       | No (focuses on lines)                 |\n",
    "| **Handwritten**      | Better support                     | Limited                                  | Limited                               |\n",
    "| **Small Text**       | Moderate                           | Good                                     | Good                                  |\n",
    "| **When to Use**      | General documents, handwritten text| Asian languages, speed-critical tasks    | Highest accuracy needed, line-level   |\n",
    "\n",
    "## Basic OCR Usage\n",
    "\n",
    "Apply OCR directly to a page or region:"
   ]
  },
  {
   "cell_type": "code",
   "execution_count": 1,
   "id": "b817e4cd",
   "metadata": {
    "execution": {
     "iopub.execute_input": "2025-04-02T22:30:24.066742Z",
     "iopub.status.busy": "2025-04-02T22:30:24.066434Z",
     "iopub.status.idle": "2025-04-02T22:30:33.986816Z",
     "shell.execute_reply": "2025-04-02T22:30:33.979924Z"
    }
   },
   "outputs": [
    {
     "ename": "NameError",
     "evalue": "name 'pdf' is not defined",
     "output_type": "error",
     "traceback": [
      "\u001b[0;31m---------------------------------------------------------------------------\u001b[0m",
      "\u001b[0;31mNameError\u001b[0m                                 Traceback (most recent call last)",
      "Cell \u001b[0;32mIn[1], line 4\u001b[0m\n\u001b[1;32m      1\u001b[0m \u001b[38;5;28;01mfrom\u001b[39;00m\u001b[38;5;250m \u001b[39m\u001b[38;5;21;01mnatural_pdf\u001b[39;00m\u001b[38;5;250m \u001b[39m\u001b[38;5;28;01mimport\u001b[39;00m PDF\n\u001b[1;32m      3\u001b[0m \u001b[38;5;66;03m# Assume 'page' is a Page object from a PDF\u001b[39;00m\n\u001b[0;32m----> 4\u001b[0m page \u001b[38;5;241m=\u001b[39m \u001b[43mpdf\u001b[49m\u001b[38;5;241m.\u001b[39mpages[\u001b[38;5;241m0\u001b[39m]\n\u001b[1;32m      6\u001b[0m \u001b[38;5;66;03m# Apply OCR using the default engine (or specify one)\u001b[39;00m\n\u001b[1;32m      7\u001b[0m ocr_elements \u001b[38;5;241m=\u001b[39m page\u001b[38;5;241m.\u001b[39mapply_ocr(languages\u001b[38;5;241m=\u001b[39m[\u001b[38;5;124m'\u001b[39m\u001b[38;5;124men\u001b[39m\u001b[38;5;124m'\u001b[39m])\n",
      "\u001b[0;31mNameError\u001b[0m: name 'pdf' is not defined"
     ]
    }
   ],
   "source": [
    "from natural_pdf import PDF\n",
    "\n",
    "# Assume 'page' is a Page object from a PDF\n",
    "page = pdf.pages[0]\n",
    "\n",
    "# Apply OCR using the default engine (or specify one)\n",
    "ocr_elements = page.apply_ocr(languages=['en'])\n",
    "\n",
    "# Extract text (will use the results from apply_ocr if run previously)\n",
    "text = page.extract_text()\n",
    "print(text)"
   ]
  },
  {
   "cell_type": "markdown",
   "id": "4d9bf139",
   "metadata": {},
   "source": [
    "## Configuring OCR\n",
    "\n",
    "Specify the engine and basic options directly:\n",
    "\n",
    "## OCR Configuration"
   ]
  },
  {
   "cell_type": "code",
   "execution_count": null,
   "id": "e66b2068",
   "metadata": {},
   "outputs": [],
   "source": [
    "# Use PaddleOCR for Chinese and English\n",
    "ocr_elements = page.apply_ocr(engine='paddle', languages=['zh-cn', 'en'])\n",
    "\n",
    "# Use EasyOCR with a lower confidence threshold\n",
    "ocr_elements = page.apply_ocr(engine='easyocr', languages=['en'], min_confidence=0.3)"
   ]
  },
  {
   "cell_type": "markdown",
   "id": "8e04bad4",
   "metadata": {},
   "source": [
    "For advanced, engine-specific settings, use the Options classes:"
   ]
  },
  {
   "cell_type": "code",
   "execution_count": null,
   "id": "76f154b7",
   "metadata": {},
   "outputs": [],
   "source": [
    "from natural_pdf.ocr import PaddleOCROptions, EasyOCROptions, SuryaOCROptions\n",
    "\n",
    "# --- Configure PaddleOCR ---\n",
    "paddle_opts = PaddleOCROptions(\n",
    "    languages=['en', 'zh-cn'],\n",
    "    use_gpu=True,         # Explicitly enable GPU if available\n",
    "    use_angle_cls=False,  # Disable text direction classification (if text is upright)\n",
    "    det_db_thresh=0.25,   # Lower detection threshold (more boxes, potentially noisy)\n",
    "    rec_batch_num=16      # Increase recognition batch size for potential speedup on GPU\n",
    "    # rec_char_dict_path='/path/to/custom_dict.txt' # Optional: Path to a custom character dictionary\n",
    "    # See PaddleOCROptions documentation or source code for all parameters\n",
    " )\n",
    "ocr_elements = page.apply_ocr(engine='paddle', options=paddle_opts)\n",
    "\n",
    "# --- Configure EasyOCR ---\n",
    "easy_opts = EasyOCROptions(\n",
    "    languages=['en', 'fr'],\n",
    "    gpu=True,            # Explicitly enable GPU if available\n",
    "    paragraph=True,      # Group results into paragraphs (if structure is clear)\n",
    "    detail=1,            # Ensure bounding boxes are returned (required)\n",
    "    text_threshold=0.6,  # Confidence threshold for text detection (adjust based on tuning table)\n",
    "    link_threshold=0.4,  # Standard EasyOCR param, uncomment if confirmed in wrapper\n",
    "    low_text=0.4,        # Standard EasyOCR param, uncomment if confirmed in wrapper\n",
    "    batch_size=8         # Processing batch size (adjust based on memory)\n",
    "    # See EasyOCROptions documentation or source code for all parameters\n",
    " )\n",
    "ocr_elements = page.apply_ocr(engine='easyocr', options=easy_opts)\n",
    "\n",
    "# --- Configure Surya OCR ---\n",
    "# Surya focuses on line detection and recognition\n",
    "surya_opts = SuryaOCROptions(\n",
    "    languages=['en', 'de'], # Specify languages for recognition\n",
    "    # device='cuda',       # Use GPU ('cuda') or CPU ('cpu') <-- Set via env var TORCH_DEVICE\n",
    "    min_confidence=0.4   # Example: Adjust minimum confidence for results\n",
    "    # Core Surya options like device, batch size, and thresholds are typically\n",
    "    # set via environment variables (see note below).\n",
    ")\n",
    "ocr_elements = page.apply_ocr(engine='surya', options=surya_opts)"
   ]
  },
  {
   "cell_type": "markdown",
   "id": "7dce326b",
   "metadata": {},
   "source": [
    "## Multiple Languages\n",
    "\n",
    "OCR supports multiple languages:"
   ]
  },
  {
   "cell_type": "code",
   "execution_count": null,
   "id": "61e1a160",
   "metadata": {},
   "outputs": [],
   "source": [
    "# Recognize English and Spanish text\n",
    "pdf = PDF('multilingual.pdf', ocr={\n",
    "    'enabled': True,\n",
    "    'languages': ['en', 'es']\n",
    "})\n",
    "\n",
    "# Multiple languages with PaddleOCR\n",
    "pdf = PDF('multilingual_document.pdf', \n",
    "          ocr_engine='paddleocr',\n",
    "          ocr={\n",
    "              'enabled': True,\n",
    "              'languages': ['zh', 'ja', 'ko', 'en']  # Chinese, Japanese, Korean, English\n",
    "          })"
   ]
  },
  {
   "cell_type": "markdown",
   "id": "8c8de853",
   "metadata": {},
   "source": [
    "## Applying OCR Directly\n",
    "\n",
    "The `page.apply_ocr(...)` and `region.apply_ocr(...)` methods are the primary way to run OCR:"
   ]
  },
  {
   "cell_type": "code",
   "execution_count": null,
   "id": "dc7b6fa7",
   "metadata": {},
   "outputs": [],
   "source": [
    "# Apply OCR to a page and get the OCR elements\n",
    "ocr_elements = page.apply_ocr(engine='easyocr')\n",
    "print(f\"Found {len(ocr_elements)} text elements via OCR\")\n",
    "\n",
    "# Apply OCR to a specific region\n",
    "title = page.find('text:contains(\"Title\")')\n",
    "content_region = title.below(height=300)\n",
    "region_ocr_elements = content_region.apply_ocr(engine='paddle', languages=['en'])"
   ]
  },
  {
   "cell_type": "markdown",
   "id": "8fce7b12",
   "metadata": {},
   "source": [
    "## OCR Engines\n",
    "\n",
    "Choose the engine best suited for your document and language requirements using the `engine` parameter in `apply_ocr`.\n",
    "\n",
    "## Finding and Working with OCR Text\n",
    "\n",
    "After applying OCR, work with the text just like regular text:"
   ]
  },
  {
   "cell_type": "code",
   "execution_count": null,
   "id": "c9edcefe",
   "metadata": {},
   "outputs": [],
   "source": [
    "# Find all OCR text elements\n",
    "ocr_text = page.find_all('text[source=ocr]')\n",
    "\n",
    "# Find high-confidence OCR text\n",
    "high_conf = page.find_all('text[source=ocr][confidence>=0.8]')\n",
    "\n",
    "# Extract text only from OCR elements\n",
    "ocr_text_content = page.find_all('text[source=ocr]').extract_text()\n",
    "\n",
    "# Filter OCR text by content\n",
    "names = page.find_all('text[source=ocr]:contains(\"Smith\")', case=False)"
   ]
  },
  {
   "cell_type": "markdown",
   "id": "2939f821",
   "metadata": {},
   "source": [
    "## Visualizing OCR Results\n",
    "\n",
    "See OCR results to help debug issues:"
   ]
  },
  {
   "cell_type": "code",
   "execution_count": null,
   "id": "7dbe76d5",
   "metadata": {},
   "outputs": [],
   "source": [
    "# Apply OCR \n",
    "ocr_elements = page.apply_ocr()\n",
    "\n",
    "# Highlight all OCR elements\n",
    "for element in ocr_elements:\n",
    "    # Color based on confidence\n",
    "    if element.confidence >= 0.8:\n",
    "        color = \"green\"  # High confidence\n",
    "    elif element.confidence >= 0.5:\n",
    "        color = \"yellow\"  # Medium confidence\n",
    "    else:\n",
    "        color = \"red\"  # Low confidence\n",
    "        \n",
    "    element.highlight(color=color, label=f\"OCR ({element.confidence:.2f})\")\n",
    "\n",
    "# Get the visualization as an image\n",
    "image = page.to_image(labels=True)\n",
    "# Just return the image in a Jupyter cell\n",
    "image\n",
    "\n",
    "# Highlight only high-confidence elements\n",
    "high_conf = page.find_all('text[source=ocr][confidence>=0.8]')\n",
    "high_conf.highlight(color=\"green\", label=\"High Confidence OCR\")"
   ]
  },
  {
   "cell_type": "markdown",
   "id": "d81aee29",
   "metadata": {},
   "source": [
    "## OCR Debugging\n",
    "\n",
    "For troubleshooting OCR problems:"
   ]
  },
  {
   "cell_type": "code",
   "execution_count": null,
   "id": "9d9bc964",
   "metadata": {},
   "outputs": [],
   "source": [
    "# Create an interactive HTML debug report\n",
    "pdf.debug_ocr(\"ocr_debug.html\")\n",
    "\n",
    "# Specify which pages to include\n",
    "pdf.debug_ocr(\"ocr_debug.html\", pages=[0, 1, 2])"
   ]
  },
  {
   "cell_type": "markdown",
   "id": "f747ab4f",
   "metadata": {},
   "source": [
    "The debug report shows:\n",
    "- The original image\n",
    "- Text found with confidence scores\n",
    "- Boxes around each detected word\n",
    "- Options to sort and filter results\n",
    "\n",
    "## Troubleshooting OCR\n",
    "\n",
    "Having problems with OCR? Our [OCR Challenges and Solutions](../explanations/ocr-challenges.md) guide provides detailed information about:\n",
    "\n",
    "- Comparing EasyOCR and PaddleOCR engines\n",
    "- Fixing issues with low-quality scans\n",
    "- Handling mixed languages and complex layouts\n",
    "- Optimizing OCR parameters for better results\n",
    "\n",
    "## OCR Parameter Tuning\n",
    "\n",
    "### Parameter Recommendation Table\n",
    "\n",
    "| Issue | Engine | Parameter | Recommended Value | Effect |\n",
    "|-------|--------|-----------|-------------------|--------|\n",
    "| Missing text | EasyOCR | `text_threshold` | 0.1 - 0.3 (default: 0.7) | Lower values detect more text but may increase false positives |\n",
    "| Missing text | PaddleOCR | `det_db_thresh` | 0.1 - 0.3 (default: 0.3) | Lower values detect more text areas |\n",
    "| Low quality scan | EasyOCR | `contrast_ths` | 0.05 - 0.1 (default: 0.1) | Lower values help with low contrast documents |\n",
    "| Low quality scan | PaddleOCR | `det_limit_side_len` | 1280 - 2560 (default: 960) | Higher values improve detail detection |\n",
    "| Accuracy vs. speed | EasyOCR | `decoder` | \"wordbeamsearch\" (accuracy)<br>\"greedy\" (speed) | Word beam search is more accurate but slower |\n",
    "| Accuracy vs. speed | PaddleOCR | `rec_batch_num` | 1 (accuracy)<br>8+ (speed) | Larger batches process faster but use more memory |\n",
    "| Small text | Both | `min_confidence` | 0.3 - 0.4 (default: 0.5) | Lower confidence threshold to capture small/blurry text |\n",
    "| Text orientation | PaddleOCR | `use_angle_cls` | `True` | Enable angle classification for rotated text |\n",
    "| Asian languages | PaddleOCR | `lang` | \"ch\", \"japan\", \"korea\" | Use PaddleOCR for Asian languages |\n",
    "\n",
    "## Next Steps\n",
    "\n",
    "With OCR capabilities, you can explore:\n",
    "\n",
    "- [Layout Analysis](../layout-analysis/index.md) for automatically detecting document structure\n",
    "- [Document QA](../document-qa/index.md) for asking questions about your documents\n",
    "- [Understanding PDF Fonts](../explanations/pdf-fonts.md) for font-related text extraction issues\n",
    "- [Visual Debugging](../visual-debugging/index.md) for visualizing OCR results"
   ]
  }
 ],
 "metadata": {
  "jupytext": {
   "cell_metadata_filter": "-all",
   "main_language": "python",
   "notebook_metadata_filter": "-all",
   "text_representation": {
    "extension": ".md",
    "format_name": "markdown"
   }
  },
  "language_info": {
   "codemirror_mode": {
    "name": "ipython",
    "version": 3
   },
   "file_extension": ".py",
   "mimetype": "text/x-python",
   "name": "python",
   "nbconvert_exporter": "python",
   "pygments_lexer": "ipython3",
   "version": "3.10.13"
  }
 },
 "nbformat": 4,
 "nbformat_minor": 5
}
