{
 "cells": [
  {
   "cell_type": "markdown",
   "id": "c5b9d462",
   "metadata": {},
   "source": [
    "# PDF Navigation\n",
    "\n",
    "This guide covers the basics of working with PDFs in Natural PDF - opening documents, accessing pages, and navigating through content.\n",
    "\n",
    "## Opening a PDF\n",
    "\n",
    "The main entry point to Natural PDF is the `PDF` class:"
   ]
  },
  {
   "cell_type": "code",
   "execution_count": 1,
   "id": "330821c1",
   "metadata": {
    "execution": {
     "iopub.execute_input": "2025-04-02T22:30:22.416700Z",
     "iopub.status.busy": "2025-04-02T22:30:22.416504Z",
     "iopub.status.idle": "2025-04-02T22:30:33.415962Z",
     "shell.execute_reply": "2025-04-02T22:30:33.412079Z"
    }
   },
   "outputs": [
    {
     "ename": "FileNotFoundError",
     "evalue": "[Errno 2] No such file or directory: 'document.pdf'",
     "output_type": "error",
     "traceback": [
      "\u001b[0;31m---------------------------------------------------------------------------\u001b[0m",
      "\u001b[0;31mFileNotFoundError\u001b[0m                         Traceback (most recent call last)",
      "Cell \u001b[0;32mIn[1], line 4\u001b[0m\n\u001b[1;32m      1\u001b[0m \u001b[38;5;28;01mfrom\u001b[39;00m\u001b[38;5;250m \u001b[39m\u001b[38;5;21;01mnatural_pdf\u001b[39;00m\u001b[38;5;250m \u001b[39m\u001b[38;5;28;01mimport\u001b[39;00m PDF\n\u001b[1;32m      3\u001b[0m \u001b[38;5;66;03m# Open a PDF file\u001b[39;00m\n\u001b[0;32m----> 4\u001b[0m pdf \u001b[38;5;241m=\u001b[39m \u001b[43mPDF\u001b[49m\u001b[43m(\u001b[49m\u001b[38;5;124;43m'\u001b[39;49m\u001b[38;5;124;43mdocument.pdf\u001b[39;49m\u001b[38;5;124;43m'\u001b[39;49m\u001b[43m)\u001b[49m\n\u001b[1;32m      6\u001b[0m \u001b[38;5;66;03m# Use a context manager to automatically close the file\u001b[39;00m\n\u001b[1;32m      7\u001b[0m \u001b[38;5;28;01mwith\u001b[39;00m PDF(\u001b[38;5;124m'\u001b[39m\u001b[38;5;124mdocument.pdf\u001b[39m\u001b[38;5;124m'\u001b[39m) \u001b[38;5;28;01mas\u001b[39;00m pdf:\n\u001b[1;32m      8\u001b[0m     \u001b[38;5;66;03m# Work with the PDF here\u001b[39;00m\n",
      "File \u001b[0;32m~/Development/natural-pdf/natural_pdf/core/pdf.py:84\u001b[0m, in \u001b[0;36mPDF.__init__\u001b[0;34m(self, path_or_url, reading_order, font_attrs, keep_spaces)\u001b[0m\n\u001b[1;32m     81\u001b[0m logger\u001b[38;5;241m.\u001b[39minfo(\u001b[38;5;124mf\u001b[39m\u001b[38;5;124m\"\u001b[39m\u001b[38;5;124mInitializing PDF from \u001b[39m\u001b[38;5;132;01m{\u001b[39;00mpath\u001b[38;5;132;01m}\u001b[39;00m\u001b[38;5;124m\"\u001b[39m)\n\u001b[1;32m     82\u001b[0m logger\u001b[38;5;241m.\u001b[39mdebug(\u001b[38;5;124mf\u001b[39m\u001b[38;5;124m\"\u001b[39m\u001b[38;5;124mParameters: reading_order=\u001b[39m\u001b[38;5;132;01m{\u001b[39;00mreading_order\u001b[38;5;132;01m}\u001b[39;00m\u001b[38;5;124m, font_attrs=\u001b[39m\u001b[38;5;132;01m{\u001b[39;00mfont_attrs\u001b[38;5;132;01m}\u001b[39;00m\u001b[38;5;124m, keep_spaces=\u001b[39m\u001b[38;5;132;01m{\u001b[39;00mkeep_spaces\u001b[38;5;132;01m}\u001b[39;00m\u001b[38;5;124m\"\u001b[39m)\n\u001b[0;32m---> 84\u001b[0m \u001b[38;5;28mself\u001b[39m\u001b[38;5;241m.\u001b[39m_pdf \u001b[38;5;241m=\u001b[39m \u001b[43mpdfplumber\u001b[49m\u001b[38;5;241;43m.\u001b[39;49m\u001b[43mopen\u001b[49m\u001b[43m(\u001b[49m\u001b[43mpath\u001b[49m\u001b[43m)\u001b[49m\n\u001b[1;32m     85\u001b[0m \u001b[38;5;28mself\u001b[39m\u001b[38;5;241m.\u001b[39m_path \u001b[38;5;241m=\u001b[39m path\n\u001b[1;32m     86\u001b[0m \u001b[38;5;28mself\u001b[39m\u001b[38;5;241m.\u001b[39m_reading_order \u001b[38;5;241m=\u001b[39m reading_order\n",
      "File \u001b[0;32m~/.pyenv/versions/3.10.13/lib/python3.10/site-packages/pdfplumber/pdf.py:92\u001b[0m, in \u001b[0;36mPDF.open\u001b[0;34m(cls, path_or_fp, pages, laparams, password, strict_metadata, unicode_norm, repair, gs_path, repair_setting)\u001b[0m\n\u001b[1;32m     90\u001b[0m     path \u001b[38;5;241m=\u001b[39m \u001b[38;5;28;01mNone\u001b[39;00m\n\u001b[1;32m     91\u001b[0m \u001b[38;5;28;01melif\u001b[39;00m \u001b[38;5;28misinstance\u001b[39m(path_or_fp, (\u001b[38;5;28mstr\u001b[39m, pathlib\u001b[38;5;241m.\u001b[39mPath)):\n\u001b[0;32m---> 92\u001b[0m     stream \u001b[38;5;241m=\u001b[39m \u001b[38;5;28;43mopen\u001b[39;49m\u001b[43m(\u001b[49m\u001b[43mpath_or_fp\u001b[49m\u001b[43m,\u001b[49m\u001b[43m \u001b[49m\u001b[38;5;124;43m\"\u001b[39;49m\u001b[38;5;124;43mrb\u001b[39;49m\u001b[38;5;124;43m\"\u001b[39;49m\u001b[43m)\u001b[49m\n\u001b[1;32m     93\u001b[0m     stream_is_external \u001b[38;5;241m=\u001b[39m \u001b[38;5;28;01mFalse\u001b[39;00m\n\u001b[1;32m     94\u001b[0m     path \u001b[38;5;241m=\u001b[39m pathlib\u001b[38;5;241m.\u001b[39mPath(path_or_fp)\n",
      "\u001b[0;31mFileNotFoundError\u001b[0m: [Errno 2] No such file or directory: 'document.pdf'"
     ]
    }
   ],
   "source": [
    "from natural_pdf import PDF\n",
    "\n",
    "# Open a PDF file\n",
    "pdf = PDF('document.pdf')\n",
    "\n",
    "# Use a context manager to automatically close the file\n",
    "with PDF('document.pdf') as pdf:\n",
    "    # Work with the PDF here\n",
    "    pass  # File closes automatically when the block exits\n",
    "    \n",
    "# Customize with non-default options when needed\n",
    "pdf = PDF(\n",
    "    'document.pdf',\n",
    "    keep_spaces=False,  # Don't preserve spaces in text elements\n",
    "    font_attrs=['fontname', 'size', 'color']  # Include color in font grouping\n",
    ")"
   ]
  },
  {
   "cell_type": "markdown",
   "id": "661779ed",
   "metadata": {},
   "source": [
    "## Accessing Pages\n",
    "\n",
    "Once you have a PDF object, you can access its pages:"
   ]
  },
  {
   "cell_type": "code",
   "execution_count": null,
   "id": "bad9434c",
   "metadata": {},
   "outputs": [],
   "source": [
    "# Get the total number of pages\n",
    "num_pages = len(pdf)\n",
    "print(f\"This PDF has {num_pages} pages\")\n",
    "\n",
    "# Get a specific page (0-indexed)\n",
    "first_page = pdf.pages[0]\n",
    "last_page = pdf.pages[-1]\n",
    "\n",
    "# Iterate through all pages\n",
    "for page in pdf.pages:\n",
    "    print(f\"Page {page.page_number} has dimensions {page.width} x {page.height}\")"
   ]
  },
  {
   "cell_type": "markdown",
   "id": "1b7a9698",
   "metadata": {},
   "source": [
    "## Page Properties\n",
    "\n",
    "Each `Page` object has useful properties:"
   ]
  },
  {
   "cell_type": "code",
   "execution_count": null,
   "id": "b1d824de",
   "metadata": {},
   "outputs": [],
   "source": [
    "# Page dimensions in points (1/72 inch)\n",
    "width = page.width\n",
    "height = page.height\n",
    "\n",
    "# Page number (1-indexed as shown in PDF viewers)\n",
    "page_number = page.page_number\n",
    "\n",
    "# Page index (0-indexed position in the PDF)\n",
    "page_index = page.page_index"
   ]
  },
  {
   "cell_type": "markdown",
   "id": "77cfc8e5",
   "metadata": {},
   "source": [
    "## PDF Configuration Options\n",
    "\n",
    "When opening a PDF, you can configure various behaviors:"
   ]
  },
  {
   "cell_type": "code",
   "execution_count": null,
   "id": "a1290485",
   "metadata": {},
   "outputs": [],
   "source": [
    "# Configure text handling\n",
    "pdf = PDF(\n",
    "    'document.pdf',\n",
    "    \n",
    "    # Reading order options\n",
    "    reading_order=True,  # Sort elements in reading order (default: True)\n",
    "    \n",
    "    # Text preservation options\n",
    "    keep_spaces=True,    # Keep spaces in word elements (default: True)\n",
    "    \n",
    "    # Font handling\n",
    "    font_attrs=['fontname', 'size', 'bold'],  # Group text by these font attributes\n",
    "    \n",
    "    # OCR configuration\n",
    "    ocr={\n",
    "        \"enabled\": \"auto\",  # Automatically use OCR when needed\n",
    "        \"languages\": [\"en\"],  # Languages to use for OCR\n",
    "        \"min_confidence\": 0.5  # Confidence threshold for OCR\n",
    "    },\n",
    "    \n",
    "    # OCR engine selection\n",
    "    ocr_engine=\"easyocr\"  # Use EasyOCR engine (default)\n",
    ")"
   ]
  },
  {
   "cell_type": "markdown",
   "id": "fd50b4a9",
   "metadata": {},
   "source": [
    "## Working Across Pages\n",
    "\n",
    "Natural PDF makes it easy to work with content across multiple pages:"
   ]
  },
  {
   "cell_type": "code",
   "execution_count": null,
   "id": "b2fb67ca",
   "metadata": {},
   "outputs": [],
   "source": [
    "# Extract text from all pages\n",
    "all_text = pdf.extract_text()\n",
    "\n",
    "# Find elements across all pages\n",
    "all_headings = pdf.find_all('text[size>=14]:bold')\n",
    "\n",
    "# Add exclusion zones to all pages (like headers/footers)\n",
    "pdf.add_exclusion(\n",
    "    lambda page: page.find('text:contains(\"CONFIDENTIAL\")').above() if page.find('text:contains(\"CONFIDENTIAL\")') else None,\n",
    "    label=\"header\"\n",
    ")"
   ]
  },
  {
   "cell_type": "markdown",
   "id": "613a04f8",
   "metadata": {},
   "source": [
    "## The Page Collection\n",
    "\n",
    "The `pdf.pages` object is a `PageCollection` that allows batch operations on pages:"
   ]
  },
  {
   "cell_type": "code",
   "execution_count": null,
   "id": "183056c8",
   "metadata": {},
   "outputs": [],
   "source": [
    "# Get sections across all pages\n",
    "sections = pdf.pages.get_sections(\n",
    "    start_elements='text[size>=14]:bold',\n",
    "    new_section_on_page_break=True  # Start a new section on page boundaries\n",
    ")\n",
    "\n",
    "# Extract text from specific pages\n",
    "text = pdf.pages[2:5].extract_text()\n",
    "\n",
    "# Find elements across specific pages\n",
    "elements = pdf.pages[2:5].find_all('text:contains(\"Annual Report\")')"
   ]
  },
  {
   "cell_type": "markdown",
   "id": "34e611f0",
   "metadata": {},
   "source": [
    "## Working with Multiple Pages\n",
    "\n",
    "Here are some ways to handle content that spans across multiple pages:"
   ]
  },
  {
   "cell_type": "code",
   "execution_count": null,
   "id": "0cd5ccbb",
   "metadata": {},
   "outputs": [],
   "source": [
    "# Extract text from all pages with a consistent format\n",
    "all_text = pdf.extract_text()\n",
    "\n",
    "# Find all instances of a phrase across all pages\n",
    "all_occurrences = pdf.find_all('text:contains(\"Revenue\")')\n",
    "print(f\"Found {len(all_occurrences)} occurrences across the document\")\n",
    "\n",
    "# Group by page number\n",
    "by_page = {}\n",
    "for element in all_occurrences:\n",
    "    page_num = element.page.page_number\n",
    "    if page_num not in by_page:\n",
    "        by_page[page_num] = []\n",
    "    by_page[page_num].append(element)\n",
    "\n",
    "# Print occurrences by page\n",
    "for page_num, elements in by_page.items():\n",
    "    print(f\"Page {page_num}: {len(elements)} occurrences\")"
   ]
  },
  {
   "cell_type": "markdown",
   "id": "a4693b6b",
   "metadata": {},
   "source": [
    "## Document Sections Across Pages\n",
    "\n",
    "You can extract sections that span across multiple pages:"
   ]
  },
  {
   "cell_type": "code",
   "execution_count": null,
   "id": "849cf9fc",
   "metadata": {},
   "outputs": [],
   "source": [
    "# Get sections with headings as section starts\n",
    "sections = pdf.pages.get_sections(\n",
    "    start_elements='text[size>=14]:bold',\n",
    "    new_section_on_page_break=True  # Optional: Create new sections at page boundaries\n",
    ")\n",
    "\n",
    "# Process each section\n",
    "for i, section in enumerate(sections):\n",
    "    print(f\"Section {i+1}:\")\n",
    "    if hasattr(section, 'start_element') and section.start_element:\n",
    "        print(f\"  Starts with: {section.start_element.text}\")\n",
    "    print(f\"  Content: {section.extract_text()[:50]}...\")\n",
    "    print(f\"  Spans pages: {section.page.page_number}\")"
   ]
  },
  {
   "cell_type": "markdown",
   "id": "ca53ae9b",
   "metadata": {},
   "source": [
    "## Using OCR Across Pages\n",
    "\n",
    "For scanned documents, you can apply OCR across multiple pages:"
   ]
  },
  {
   "cell_type": "code",
   "execution_count": null,
   "id": "f5663c83",
   "metadata": {},
   "outputs": [],
   "source": [
    "# Enable OCR for the document\n",
    "pdf = PDF('scanned_document.pdf', ocr=True)\n",
    "\n",
    "# Apply OCR to all pages\n",
    "for page in pdf.pages:\n",
    "    page.apply_ocr()\n",
    "    \n",
    "# Extract text from the entire document\n",
    "all_text = pdf.extract_text()\n",
    "\n",
    "# Find OCR text elements across all pages\n",
    "ocr_elements = pdf.find_all('text[source=ocr]')"
   ]
  },
  {
   "cell_type": "markdown",
   "id": "919eab27",
   "metadata": {},
   "source": [
    "## Complete Multi-page Navigation Example\n",
    "\n",
    "Here's a complete example of working with a multi-page document:"
   ]
  },
  {
   "cell_type": "code",
   "execution_count": null,
   "id": "2a4419fb",
   "metadata": {},
   "outputs": [],
   "source": [
    "from natural_pdf import PDF\n",
    "\n",
    "# Open a PDF\n",
    "pdf = PDF('annual_report.pdf')\n",
    "print(f\"Document has {len(pdf)} pages\")\n",
    "\n",
    "# Find all headings across the document\n",
    "headings = pdf.find_all('text[size>=14]:bold')\n",
    "print(f\"Found {len(headings)} headings across all pages\")\n",
    "\n",
    "# Group headings by page\n",
    "heading_by_page = {}\n",
    "for heading in headings:\n",
    "    page_num = heading.page.page_number\n",
    "    if page_num not in heading_by_page:\n",
    "        heading_by_page[page_num] = []\n",
    "    heading_by_page[page_num].append(heading)\n",
    "\n",
    "# Print headings by page\n",
    "for page_num in sorted(heading_by_page.keys()):\n",
    "    print(f\"\\nPage {page_num} headings:\")\n",
    "    for heading in heading_by_page[page_num]:\n",
    "        print(f\"  - {heading.text}\")\n",
    "\n",
    "# Find the financial section across all pages\n",
    "financial_heading = pdf.find('text:contains(\"Financial\")')\n",
    "if financial_heading:\n",
    "    print(f\"\\nFound Financial section on page {financial_heading.page.page_number}\")\n",
    "    \n",
    "    # Extract the financial section\n",
    "    financial_section = financial_heading.below()\n",
    "    financial_text = financial_section.extract_text()\n",
    "    print(f\"Financial section excerpt: {financial_text[:200]}...\")\n",
    "    \n",
    "    # Look for the next heading in the document (might be on next page)\n",
    "    next_heading = None\n",
    "    for heading in headings:\n",
    "        if heading.page.page_number > financial_heading.page.page_number or (\n",
    "            heading.page.page_number == financial_heading.page.page_number and \n",
    "            heading.top > financial_heading.top\n",
    "        ):\n",
    "            next_heading = heading\n",
    "            break\n",
    "            \n",
    "    if next_heading:\n",
    "        print(f\"Next section is '{next_heading.text}' on page {next_heading.page.page_number}\")\n",
    "\n",
    "# Extract text from a page range\n",
    "pages_3_to_5_text = pdf.pages[2:5].extract_text()  # Pages 3-5 (0-indexed)\n",
    "print(f\"\\nText from pages 3-5 (excerpt): {pages_3_to_5_text[:200]}...\")"
   ]
  },
  {
   "cell_type": "markdown",
   "id": "61825fc4",
   "metadata": {},
   "source": [
    "## Next Steps\n",
    "\n",
    "Now that you know how to navigate PDFs, you can:\n",
    "\n",
    "- [Find elements using selectors](../element-selection/index.md)\n",
    "- [Extract text from your documents](../text-extraction/index.md)\n",
    "- [Work with specific regions](../regions/index.md)"
   ]
  }
 ],
 "metadata": {
  "jupytext": {
   "cell_metadata_filter": "-all",
   "main_language": "python",
   "notebook_metadata_filter": "-all",
   "text_representation": {
    "extension": ".md",
    "format_name": "markdown"
   }
  },
  "language_info": {
   "codemirror_mode": {
    "name": "ipython",
    "version": 3
   },
   "file_extension": ".py",
   "mimetype": "text/x-python",
   "name": "python",
   "nbconvert_exporter": "python",
   "pygments_lexer": "ipython3",
   "version": "3.10.13"
  }
 },
 "nbformat": 4,
 "nbformat_minor": 5
}
