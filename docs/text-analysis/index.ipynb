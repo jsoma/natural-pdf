{
 "cells": [
  {
   "cell_type": "markdown",
   "id": "0eee2075",
   "metadata": {},
   "source": [
    "# Text Analysis\n",
    "\n",
    "Analyzing the properties of text elements, such as their font, size, style, and color, can be crucial for understanding document structure and extracting specific information. Natural PDF provides tools to access and analyze these properties.\n",
    "\n",
    "## Introduction\n",
    "\n",
    "Beyond just the sequence of characters, the *style* of text carries significant meaning. Headings are often larger and bolder, important terms might be italicized, and different sections might use distinct fonts. This page covers how to access and utilize this stylistic information.\n",
    "\n",
    "## Accessing Font Information\n",
    "\n",
    "Every `TextElement` (representing characters or words) holds information about its font properties."
   ]
  },
  {
   "cell_type": "code",
   "execution_count": 1,
   "id": "2d59990e",
   "metadata": {
    "execution": {
     "iopub.execute_input": "2025-04-02T22:30:22.403830Z",
     "iopub.status.busy": "2025-04-02T22:30:22.403586Z",
     "iopub.status.idle": "2025-04-02T22:30:32.735526Z",
     "shell.execute_reply": "2025-04-02T22:30:32.731279Z"
    }
   },
   "outputs": [
    {
     "ename": "FileNotFoundError",
     "evalue": "[Errno 2] No such file or directory: 'document.pdf'",
     "output_type": "error",
     "traceback": [
      "\u001b[0;31m---------------------------------------------------------------------------\u001b[0m",
      "\u001b[0;31mFileNotFoundError\u001b[0m                         Traceback (most recent call last)",
      "Cell \u001b[0;32mIn[1], line 3\u001b[0m\n\u001b[1;32m      1\u001b[0m \u001b[38;5;28;01mfrom\u001b[39;00m\u001b[38;5;250m \u001b[39m\u001b[38;5;21;01mnatural_pdf\u001b[39;00m\u001b[38;5;250m \u001b[39m\u001b[38;5;28;01mimport\u001b[39;00m PDF\n\u001b[0;32m----> 3\u001b[0m pdf \u001b[38;5;241m=\u001b[39m \u001b[43mPDF\u001b[49m\u001b[43m(\u001b[49m\u001b[38;5;124;43m'\u001b[39;49m\u001b[38;5;124;43mdocument.pdf\u001b[39;49m\u001b[38;5;124;43m'\u001b[39;49m\u001b[43m)\u001b[49m\n\u001b[1;32m      4\u001b[0m page \u001b[38;5;241m=\u001b[39m pdf\u001b[38;5;241m.\u001b[39mpages[\u001b[38;5;241m0\u001b[39m]\n\u001b[1;32m      6\u001b[0m \u001b[38;5;66;03m# Find the first word element\u001b[39;00m\n",
      "File \u001b[0;32m~/Development/natural-pdf/natural_pdf/core/pdf.py:84\u001b[0m, in \u001b[0;36mPDF.__init__\u001b[0;34m(self, path_or_url, reading_order, font_attrs, keep_spaces)\u001b[0m\n\u001b[1;32m     81\u001b[0m logger\u001b[38;5;241m.\u001b[39minfo(\u001b[38;5;124mf\u001b[39m\u001b[38;5;124m\"\u001b[39m\u001b[38;5;124mInitializing PDF from \u001b[39m\u001b[38;5;132;01m{\u001b[39;00mpath\u001b[38;5;132;01m}\u001b[39;00m\u001b[38;5;124m\"\u001b[39m)\n\u001b[1;32m     82\u001b[0m logger\u001b[38;5;241m.\u001b[39mdebug(\u001b[38;5;124mf\u001b[39m\u001b[38;5;124m\"\u001b[39m\u001b[38;5;124mParameters: reading_order=\u001b[39m\u001b[38;5;132;01m{\u001b[39;00mreading_order\u001b[38;5;132;01m}\u001b[39;00m\u001b[38;5;124m, font_attrs=\u001b[39m\u001b[38;5;132;01m{\u001b[39;00mfont_attrs\u001b[38;5;132;01m}\u001b[39;00m\u001b[38;5;124m, keep_spaces=\u001b[39m\u001b[38;5;132;01m{\u001b[39;00mkeep_spaces\u001b[38;5;132;01m}\u001b[39;00m\u001b[38;5;124m\"\u001b[39m)\n\u001b[0;32m---> 84\u001b[0m \u001b[38;5;28mself\u001b[39m\u001b[38;5;241m.\u001b[39m_pdf \u001b[38;5;241m=\u001b[39m \u001b[43mpdfplumber\u001b[49m\u001b[38;5;241;43m.\u001b[39;49m\u001b[43mopen\u001b[49m\u001b[43m(\u001b[49m\u001b[43mpath\u001b[49m\u001b[43m)\u001b[49m\n\u001b[1;32m     85\u001b[0m \u001b[38;5;28mself\u001b[39m\u001b[38;5;241m.\u001b[39m_path \u001b[38;5;241m=\u001b[39m path\n\u001b[1;32m     86\u001b[0m \u001b[38;5;28mself\u001b[39m\u001b[38;5;241m.\u001b[39m_reading_order \u001b[38;5;241m=\u001b[39m reading_order\n",
      "File \u001b[0;32m~/.pyenv/versions/3.10.13/lib/python3.10/site-packages/pdfplumber/pdf.py:92\u001b[0m, in \u001b[0;36mPDF.open\u001b[0;34m(cls, path_or_fp, pages, laparams, password, strict_metadata, unicode_norm, repair, gs_path, repair_setting)\u001b[0m\n\u001b[1;32m     90\u001b[0m     path \u001b[38;5;241m=\u001b[39m \u001b[38;5;28;01mNone\u001b[39;00m\n\u001b[1;32m     91\u001b[0m \u001b[38;5;28;01melif\u001b[39;00m \u001b[38;5;28misinstance\u001b[39m(path_or_fp, (\u001b[38;5;28mstr\u001b[39m, pathlib\u001b[38;5;241m.\u001b[39mPath)):\n\u001b[0;32m---> 92\u001b[0m     stream \u001b[38;5;241m=\u001b[39m \u001b[38;5;28;43mopen\u001b[39;49m\u001b[43m(\u001b[49m\u001b[43mpath_or_fp\u001b[49m\u001b[43m,\u001b[49m\u001b[43m \u001b[49m\u001b[38;5;124;43m\"\u001b[39;49m\u001b[38;5;124;43mrb\u001b[39;49m\u001b[38;5;124;43m\"\u001b[39;49m\u001b[43m)\u001b[49m\n\u001b[1;32m     93\u001b[0m     stream_is_external \u001b[38;5;241m=\u001b[39m \u001b[38;5;28;01mFalse\u001b[39;00m\n\u001b[1;32m     94\u001b[0m     path \u001b[38;5;241m=\u001b[39m pathlib\u001b[38;5;241m.\u001b[39mPath(path_or_fp)\n",
      "\u001b[0;31mFileNotFoundError\u001b[0m: [Errno 2] No such file or directory: 'document.pdf'"
     ]
    }
   ],
   "source": [
    "from natural_pdf import PDF\n",
    "\n",
    "pdf = PDF('document.pdf')\n",
    "page = pdf.pages[0]\n",
    "\n",
    "# Find the first word element\n",
    "word = page.find('word') \n",
    "\n",
    "if word:\n",
    "    print(f\"Text: {word.text}\")\n",
    "    print(f\"Font Name: {word.fontname}\") # Font reference (e.g., F1) or name\n",
    "    print(f\"Real Font Name: {getattr(word, 'real_fontname', 'N/A')}\") # Actual font name if resolved\n",
    "    print(f\"Size: {word.size:.2f} pt\")\n",
    "    print(f\"Color: {getattr(word, 'color', 'N/A')}\") # Non-stroking color\n",
    "    print(f\"Is Bold: {word.bold}\")\n",
    "    print(f\"Is Italic: {word.italic}\") "
   ]
  },
  {
   "cell_type": "markdown",
   "id": "b8faa0fc",
   "metadata": {},
   "source": [
    "- `fontname`: Often an internal reference (like 'F1', 'F2') or a basic name.\n",
    "- `real_fontname`: The library attempts to resolve `fontname` to the actual font name embedded in the PDF (e.g., 'Arial-BoldMT'). Access using `getattr` as it might not always be present.\n",
    "- `size`: Font size in points.\n",
    "- `color`: The non-stroking color, typically a tuple representing RGB or Grayscale values (e.g., `(0.0, 0.0, 0.0)` for black). Access using `getattr`.\n",
    "- `bold`, `italic`: Boolean flags indicating if the font style is bold or italic (heuristically determined based on font name conventions).\n",
    "\n",
    "## Working with Text Styles\n",
    "\n",
    "You can directly select text based on its style using pseudo-classes in selectors:"
   ]
  },
  {
   "cell_type": "code",
   "execution_count": null,
   "id": "652d6ac4",
   "metadata": {},
   "outputs": [],
   "source": [
    "# Find all bold text elements\n",
    "bold_text = page.find_all('text:bold')\n",
    "\n",
    "# Find all italic text elements\n",
    "italic_text = page.find_all('text:italic')\n",
    "\n",
    "# Find text that is both bold and larger than 12pt\n",
    "bold_headings = page.find_all('text:bold[size>=12]')\n",
    "\n",
    "print(f\"Found {len(bold_text)} bold elements.\")\n",
    "print(f\"Found {len(italic_text)} italic elements.\")"
   ]
  },
  {
   "cell_type": "markdown",
   "id": "de6a80a2",
   "metadata": {},
   "source": [
    "## Analyzing Font Usage Across a Page\n",
    "\n",
    "You can gather statistics about font usage on a page:"
   ]
  },
  {
   "cell_type": "code",
   "execution_count": null,
   "id": "d897d209",
   "metadata": {},
   "outputs": [],
   "source": [
    "from collections import Counter\n",
    "\n",
    "all_words = page.find_all('word')\n",
    "\n",
    "# Count occurrences of each font name and size combination\n",
    "font_usage = Counter()\n",
    "for word in all_words:\n",
    "    font_key = (getattr(word, 'real_fontname', word.fontname), word.size)\n",
    "    font_usage[font_key] += 1\n",
    "\n",
    "print(\"Font Usage Summary:\")\n",
    "for (font, size), count in font_usage.most_common():\n",
    "    print(f\"- Font: {font}, Size: {size:.2f}pt, Count: {count}\")\n"
   ]
  },
  {
   "cell_type": "markdown",
   "id": "0316a948",
   "metadata": {},
   "source": [
    "## Visualizing Text Properties\n",
    "\n",
    "Use highlighting to visually inspect text properties. Grouping by attributes like `fontname` or `size` can be very insightful."
   ]
  },
  {
   "cell_type": "code",
   "execution_count": null,
   "id": "0a1d6c2b",
   "metadata": {},
   "outputs": [],
   "source": [
    "# Highlight words, grouping by font name\n",
    "# Each font will get a different color in the output image/preview\n",
    "page.find_all('word').highlight(group_by='fontname', label_format=\"{fontname}\")\n",
    "\n",
    "# Show a temporary preview grouping by font size category\n",
    "def size_category(element):\n",
    "    if element.size >= 14: return \"Large\"\n",
    "    if element.size >= 10: return \"Medium\"\n",
    "    return \"Small\"\n",
    "\n",
    "# Apply the function to create a temporary 'size_cat' attribute for grouping\n",
    "words = page.find_all('word')\n",
    "for w in words: w.size_cat = size_category(w) \n",
    "\n",
    "# Show preview grouped by the custom category\n",
    "words.show(group_by='size_cat') \n",
    "\n",
    "# Don't forget to clean up the temporary attribute if needed\n",
    "# for w in words: delattr(w, 'size_cat') "
   ]
  },
  {
   "cell_type": "markdown",
   "id": "460c5004",
   "metadata": {},
   "source": [
    "This allows you to quickly see patterns in font usage across the page layout. "
   ]
  }
 ],
 "metadata": {
  "jupytext": {
   "cell_metadata_filter": "-all",
   "main_language": "python",
   "notebook_metadata_filter": "-all",
   "text_representation": {
    "extension": ".md",
    "format_name": "markdown"
   }
  },
  "language_info": {
   "codemirror_mode": {
    "name": "ipython",
    "version": 3
   },
   "file_extension": ".py",
   "mimetype": "text/x-python",
   "name": "python",
   "nbconvert_exporter": "python",
   "pygments_lexer": "ipython3",
   "version": "3.10.13"
  }
 },
 "nbformat": 4,
 "nbformat_minor": 5
}
