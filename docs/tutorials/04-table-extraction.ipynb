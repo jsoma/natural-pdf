{
 "cells": [
  {
   "cell_type": "code",
   "execution_count": 1,
   "id": "859d9fc7",
   "metadata": {
    "execution": {
     "iopub.execute_input": "2025-04-02T18:07:37.629859Z",
     "iopub.status.busy": "2025-04-02T18:07:37.629682Z",
     "iopub.status.idle": "2025-04-02T18:07:37.632715Z",
     "shell.execute_reply": "2025-04-02T18:07:37.632365Z"
    },
    "tags": [
     "remove-for-docs"
    ]
   },
   "outputs": [],
   "source": [
    "#%pip install \"natural-pdf[all]\""
   ]
  },
  {
   "cell_type": "markdown",
   "id": "fc09b237",
   "metadata": {},
   "source": [
    "# Tutorial 4: Basic Table Extraction\n",
    "\n",
    "PDFs often contain tables, and `natural-pdf` provides methods to extract their data, building on `pdfplumber`'s capabilities.\n",
    "\n",
    "Let's extract the \"Violations\" table from our practice PDF."
   ]
  },
  {
   "cell_type": "code",
   "execution_count": 2,
   "id": "9ebc9514",
   "metadata": {
    "execution": {
     "iopub.execute_input": "2025-04-02T18:07:37.634152Z",
     "iopub.status.busy": "2025-04-02T18:07:37.634022Z",
     "iopub.status.idle": "2025-04-02T18:07:43.021350Z",
     "shell.execute_reply": "2025-04-02T18:07:43.020968Z"
    }
   },
   "outputs": [],
   "source": [
    "from natural_pdf import PDF\n",
    "\n",
    "# Load a PDF\n",
    "pdf = PDF(\"https://github.com/jsoma/natural-pdf/raw/refs/heads/main/pdfs/01-practice.pdf\")\n",
    "page = pdf.pages[0]\n",
    "\n",
    "# Use extract_tables() to find all tables on the page.\n",
    "# It returns a list of tables, where each table is a list of lists.\n",
    "tables_data = page.extract_tables()\n",
    "\n",
    "# Display the first table found\n",
    "tables_data[0] if tables_data else \"No tables found\"\n",
    "\n",
    "# You can also visualize the general area of the first table \n",
    "# by finding elements in that region\n",
    "if tables_data:\n",
    "    # Find a header element in the table\n",
    "    statute_header = page.find('text:contains(\"Statute\")')\n",
    "    if statute_header:\n",
    "        # Show the area\n",
    "        statute_header.below(height=100).highlight(color=\"green\", label=\"Table Area\")\n",
    "        page.to_image()"
   ]
  },
  {
   "cell_type": "markdown",
   "id": "3006442e",
   "metadata": {},
   "source": [
    "This code uses `page.extract_tables()` which attempts to automatically detect tables based on visual cues like lines and whitespace. The result is a list of lists, representing the rows and cells of the table.\n",
    "\n",
    "!!! note \"Table Settings and Limitations\"\n",
    "\n",
    "    The default `extract_tables()` works well for simple, clearly defined tables. However, it might struggle with:\n",
    "    *   Tables without clear borders or lines.\n",
    "    *   Complex merged cells.\n",
    "    *   Tables spanning multiple pages.\n",
    "\n",
    "    `pdfplumber` (and thus `natural-pdf`) allows passing `table_settings` dictionaries to `extract_tables()` for more control over the detection strategy (e.g., `\"vertical_strategy\": \"text\"`, `\"horizontal_strategy\": \"text\"`).\n",
    "\n",
    "    For even more robust table detection, especially for tables without explicit lines, using Layout Analysis (like `page.analyze_layout(engine='tatr')`) first, finding the table `region`, and then calling `region.extract_table()` can yield better results. We'll explore layout analysis in a later tutorial. "
   ]
  }
 ],
 "metadata": {
  "jupytext": {
   "cell_metadata_filter": "tags,-all",
   "cell_metadata_json": true,
   "main_language": "python",
   "notebook_metadata_filter": "-all"
  },
  "language_info": {
   "codemirror_mode": {
    "name": "ipython",
    "version": 3
   },
   "file_extension": ".py",
   "mimetype": "text/x-python",
   "name": "python",
   "nbconvert_exporter": "python",
   "pygments_lexer": "ipython3",
   "version": "3.10.13"
  }
 },
 "nbformat": 4,
 "nbformat_minor": 5
}
