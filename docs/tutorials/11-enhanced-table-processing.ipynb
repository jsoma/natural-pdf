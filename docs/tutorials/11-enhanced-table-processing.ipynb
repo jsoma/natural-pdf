{
 "cells": [
  {
   "cell_type": "markdown",
<<<<<<< HEAD
   "id": "d76bdfca",
=======
   "id": "c4a0e202",
>>>>>>> ea72b84d (A hundred updates, a thousand updates)
   "metadata": {},
   "source": [
    "# Enhanced Table Processing\n",
    "\n",
    "Tables are a common way to present structured data in documents, but they can be challenging to extract correctly. This tutorial demonstrates advanced techniques for working with tables in natural-pdf.\n",
    "\n",
    "TK"
   ]
  },
  {
   "cell_type": "code",
   "execution_count": 1,
<<<<<<< HEAD
   "id": "c1694fd4",
   "metadata": {
    "execution": {
     "iopub.execute_input": "2025-04-27T17:44:55.732528Z",
     "iopub.status.busy": "2025-04-27T17:44:55.731518Z",
     "iopub.status.idle": "2025-04-27T17:44:55.738455Z",
     "shell.execute_reply": "2025-04-27T17:44:55.737535Z"
=======
   "id": "5d8327c3",
   "metadata": {
    "execution": {
     "iopub.execute_input": "2025-04-16T14:58:45.013785Z",
     "iopub.status.busy": "2025-04-16T14:58:45.013623Z",
     "iopub.status.idle": "2025-04-16T14:58:45.016363Z",
     "shell.execute_reply": "2025-04-16T14:58:45.016094Z"
>>>>>>> ea72b84d (A hundred updates, a thousand updates)
    }
   },
   "outputs": [],
   "source": [
    "#%pip install \"natural-pdf[all]\""
   ]
  }
 ],
 "metadata": {
  "jupytext": {
   "cell_metadata_filter": "-all",
   "main_language": "python",
   "notebook_metadata_filter": "-all"
  },
  "kernelspec": {
   "display_name": "Python (natural-pdf)",
   "language": "python",
   "name": "natural-pdf"
  },
  "language_info": {
   "codemirror_mode": {
    "name": "ipython",
    "version": 3
   },
   "file_extension": ".py",
   "mimetype": "text/x-python",
   "name": "python",
   "nbconvert_exporter": "python",
   "pygments_lexer": "ipython3",
   "version": "3.10.13"
  }
 },
 "nbformat": 4,
 "nbformat_minor": 5
}
