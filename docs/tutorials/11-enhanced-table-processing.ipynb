{
 "cells": [
  {
   "cell_type": "markdown",
   "id": "617f5e61",
   "metadata": {},
   "source": [
    "# Enhanced Table Processing\n",
    "\n",
    "Tables are a common way to present structured data in documents, but they can be challenging to extract correctly. This tutorial demonstrates advanced techniques for working with tables in natural-pdf.\n",
    "\n",
    "TK"
   ]
  },
  {
   "cell_type": "code",
   "execution_count": 1,
   "id": "94d0fbd1",
   "metadata": {
    "execution": {
     "iopub.execute_input": "2025-04-02T19:55:19.041963Z",
     "iopub.status.busy": "2025-04-02T19:55:19.041826Z",
     "iopub.status.idle": "2025-04-02T19:55:19.044823Z",
     "shell.execute_reply": "2025-04-02T19:55:19.044528Z"
    }
   },
   "outputs": [],
   "source": [
    "#%pip install \"natural-pdf[all]\""
   ]
  }
 ],
 "metadata": {
  "jupytext": {
   "cell_metadata_filter": "-all",
   "main_language": "python",
   "notebook_metadata_filter": "-all"
  },
  "language_info": {
   "codemirror_mode": {
    "name": "ipython",
    "version": 3
   },
   "file_extension": ".py",
   "mimetype": "text/x-python",
   "name": "python",
   "nbconvert_exporter": "python",
   "pygments_lexer": "ipython3",
   "version": "3.10.13"
  }
 },
 "nbformat": 4,
 "nbformat_minor": 5
}
