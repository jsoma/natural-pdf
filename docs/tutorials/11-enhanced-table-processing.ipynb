{
 "cells": [
  {
   "cell_type": "markdown",
   "id": "bafd0e8b",
   "metadata": {},
   "source": [
    "# Enhanced Table Processing\n",
    "\n",
    "Tables can appear in PDFs in wildly different ways—cleanly tagged in the PDF structure, drawn with ruling lines, or simply implied by visual spacing.  `natural-pdf` exposes several back-ends under the single method `extract_table()` so you can choose the strategy that matches your document.\n",
    "\n",
    "Below we walk through the three main options, when to reach for each one, and sample code you can adapt (replace the example PDF URLs with your own files).\n",
    "\n",
    "## 1. `method=\"pdfplumber\"`  (default)\n",
    "\n",
    "* **How it works** – delegates to pdfplumber's ruling-line heuristics; looks for vertical/horizontal lines and whitespace gutters.\n",
    "* **Best for** – digitally-born PDFs where the table grid is drawn or where columns have consistent whitespace.\n",
    "\n",
    "### Example A – Grid-based (line) detection"
   ]
  },
  {
   "cell_type": "code",
   "execution_count": 1,
   "id": "c93714a1",
   "metadata": {
    "execution": {
     "iopub.execute_input": "2025-06-18T12:40:43.079859Z",
     "iopub.status.busy": "2025-06-18T12:40:43.079091Z",
     "iopub.status.idle": "2025-06-18T12:40:45.224428Z",
     "shell.execute_reply": "2025-06-18T12:40:45.222419Z"
    }
   },
   "outputs": [
    {
     "data": {
      "text/plain": [
       "[['Statute', 'Description', 'Level', 'Repeat?'],\n",
       " ['4.12.7', 'Unsanitary Working Conditions.', 'Critical', ''],\n",
       " ['5.8.3', 'Inadequate Protective Equipment.', 'Serious', ''],\n",
       " ['6.3.9', 'Ineffective Injury Prevention.', 'Serious', ''],\n",
       " ['7.1.5', 'Failure to Properly Store Hazardous Materials.', 'Critical', ''],\n",
       " ['8.9.2', 'Lack of Adequate Fire Safety Measures.', 'Serious', ''],\n",
       " ['9.6.4', 'Inadequate Ventilation Systems.', 'Serious', ''],\n",
       " ['10.2.7',\n",
       "  'Insufficient Employee Training for Safe Work Practices.',\n",
       "  'Serious',\n",
       "  '']]"
      ]
     },
     "execution_count": 1,
     "metadata": {},
     "output_type": "execute_result"
    }
   ],
   "source": [
    "from natural_pdf import PDF\n",
    "\n",
    "pdf = PDF(\"https://github.com/jsoma/natural-pdf/raw/refs/heads/main/pdfs/01-practice.pdf\")\n",
    "page = pdf.pages[0]\n",
    "\n",
    "# Optional fine-tuning for pdfplumber.  Typical tweaks are vertical/horizontal strategies.\n",
    "settings = {\n",
    "    \"vertical_strategy\": \"lines\",\n",
    "    \"horizontal_strategy\": \"lines\",\n",
    "    \"intersection_tolerance\": 3,\n",
    "}\n",
    "\n",
    "rows = page.extract_table(method=\"pdfplumber\", table_settings=settings)\n",
    "rows  # ▶︎ returns a list of lists"
   ]
  },
  {
   "cell_type": "markdown",
   "id": "52026b15",
   "metadata": {},
   "source": [
    "Expected output: a small list of rows containing the text exactly as it appears in the digital table.\n",
    "\n",
    "### Example B – Whitespace-driven detection\n",
    "\n",
    "Sometimes a table is **drawn without ruling lines** (or the PDF stores them as thick rectangles so the line detector ignores them).  In that case you can switch both strategies to `\"text\"` so pdfplumber clusters by the gaps between words rather than relying on graphics commands:"
   ]
  },
  {
   "cell_type": "code",
   "execution_count": 2,
   "id": "ad48567c",
   "metadata": {
    "execution": {
     "iopub.execute_input": "2025-06-18T12:40:45.233285Z",
     "iopub.status.busy": "2025-06-18T12:40:45.232822Z",
     "iopub.status.idle": "2025-06-18T12:40:45.299127Z",
     "shell.execute_reply": "2025-06-18T12:40:45.289570Z"
    }
   },
   "outputs": [],
   "source": [
    "settings_text = {\n",
    "    \"vertical_strategy\": \"text\",   # look for whitespace gutters\n",
    "    \"horizontal_strategy\": \"text\", # group into rows by vertical gaps\n",
    "    \"text_x_tolerance\": 2,          # tune for narrow columns\n",
    "    \"text_y_tolerance\": 2,\n",
    "}\n",
    "\n",
    "rows_text = page.extract_table(method=\"pdfplumber\", table_settings=settings_text)"
   ]
  },
  {
   "cell_type": "markdown",
   "id": "fb4bf1f8",
   "metadata": {},
   "source": [
    "Compare `rows_text` with the earlier `rows` list—if your PDF omits the grid, the whitespace strategy will usually outperform line-based detection.\n",
    "\n",
    "---\n",
    "\n",
    "## 2. `method=\"tatr\"`  (Table Transformer)\n",
    "\n",
    "* **How it works** – runs Microsoft's Table Transformer (LayoutLM-based) to detect tables, rows and cells visually, then reads the text inside each cell.\n",
    "* **Best for** – scanned or camera-based documents, or born-digital files where ruling lines are missing/irregular.\n",
    "* **Dependencies** – requires the **AI** extra (`pip install \"natural-pdf[ai]\"`) because it needs `torch`, `transformers`, and `torchvision`.\n",
    "\n",
    "### Example"
   ]
  },
  {
   "cell_type": "code",
   "execution_count": 3,
   "id": "12477d49",
   "metadata": {
    "execution": {
     "iopub.execute_input": "2025-06-18T12:40:45.314373Z",
     "iopub.status.busy": "2025-06-18T12:40:45.313646Z",
     "iopub.status.idle": "2025-06-18T12:41:07.607822Z",
     "shell.execute_reply": "2025-06-18T12:41:07.607374Z"
    }
   },
   "outputs": [
    {
     "data": {
      "application/vnd.jupyter.widget-view+json": {
       "model_id": "5b66e86d9bb84e5f839310d045f50d3f",
       "version_major": 2,
       "version_minor": 0
      },
      "text/plain": [
       "Rendering pages:   0%|          | 0/1 [00:00<?, ?it/s]"
      ]
     },
     "metadata": {},
     "output_type": "display_data"
    },
    {
     "name": "stderr",
     "output_type": "stream",
     "text": [
      "Using CPU. Note: This module is much faster with a GPU.\n"
     ]
    },
    {
     "name": "stderr",
     "output_type": "stream",
     "text": [
      "/Users/soma/Development/natural-pdf/.nox/tutorials/lib/python3.10/site-packages/torch/utils/data/dataloader.py:683: UserWarning: 'pin_memory' argument is set as true but not supported on MPS now, then device pinned memory won't be used.\n",
      "  warnings.warn(warn_msg)\n"
     ]
    },
    {
     "data": {
      "text/plain": [
       "[]"
      ]
     },
     "execution_count": 3,
     "metadata": {},
     "output_type": "execute_result"
    }
   ],
   "source": [
    "from natural_pdf import PDF\n",
    "\n",
    "pdf = PDF(\"https://github.com/jsoma/natural-pdf/raw/refs/heads/main/pdfs/needs-ocr.pdf\")\n",
    "page = pdf.pages[0]\n",
    "\n",
    "# If the page is scanned, run OCR first so each cell has text\n",
    "page.apply_ocr(engine=\"easyocr\", languages=[\"en\"], resolution=200)\n",
    "\n",
    "# Table Transformer needs the layout model; specify device if you have GPU\n",
    "rows = page.extract_table(method=\"tatr\")\n",
    "rows"
   ]
  },
  {
   "cell_type": "markdown",
   "id": "41366b89",
   "metadata": {},
   "source": [
    "Expected output: the table rows—even when the grid is just implied—arrive with text already OCR-corrected.\n",
    "\n",
    "---\n",
    "\n",
    "## 3. `method=\"text\"`  (Whitespace heuristic)\n",
    "\n",
    "* **How it works** – groups words into lines, then uses whitespace clustering (Jenks breaks) to infer columns; no layout model.\n",
    "* **Best for** – simple, left-aligned tables with consistent columns but no ruling lines; fastest option.\n",
    "\n",
    "### Example"
   ]
  },
  {
   "cell_type": "code",
   "execution_count": 4,
   "id": "5a630ef6",
   "metadata": {
    "execution": {
     "iopub.execute_input": "2025-06-18T12:41:07.610466Z",
     "iopub.status.busy": "2025-06-18T12:41:07.609981Z",
     "iopub.status.idle": "2025-06-18T12:41:07.612581Z",
     "shell.execute_reply": "2025-06-18T12:41:07.612166Z"
    }
   },
   "outputs": [],
   "source": [
    "# from natural_pdf import PDF\n",
    "\n",
    "# pdf = PDF(\"https://github.com/jsoma/natural-pdf/raw/refs/heads/main/pdfs/whitespace-table.pdf\")\n",
    "# page = pdf.pages[0]\n",
    "\n",
    "# rows = page.extract_table(method=\"text\", table_settings={\"min_words_horizontal\": 2})\n",
    "# for row in rows:\n",
    "#     print(row)"
   ]
  },
  {
   "cell_type": "markdown",
   "id": "9e8a1d11",
   "metadata": {},
   "source": [
    "Expected output: printed rows that roughly match the visual columns; best effort on ragged layouts.\n",
    "\n",
    "---\n",
    "\n",
    "## 4. Lines-first workflow (when pdfplumber misses rows/cols)\n",
    "\n",
    "If `method=\"pdfplumber\"` cannot find the grid, detect lines explicitly and build the table structure yourself."
   ]
  },
  {
   "cell_type": "code",
   "execution_count": 5,
   "id": "bc210e0f",
   "metadata": {
    "execution": {
     "iopub.execute_input": "2025-06-18T12:41:07.614445Z",
     "iopub.status.busy": "2025-06-18T12:41:07.614283Z",
     "iopub.status.idle": "2025-06-18T12:41:07.912629Z",
     "shell.execute_reply": "2025-06-18T12:41:07.912165Z"
    }
   },
   "outputs": [],
   "source": [
    "page.detect_lines(resolution=200, source_label=\"detected\", horizontal=True, vertical=True)\n",
    "\n",
    "# (Optional) visual check\n",
    "page.find_all(\"line[source=detected]\").show(group_by=\"orientation\")\n",
    "\n",
    "# Convert lines → regions\n",
    "page.detect_table_structure_from_lines(source_label=\"detected\", cell_padding=0.5)\n",
    "\n",
    "table = page.find(\"region[type='table']\")"
   ]
  },
  {
   "cell_type": "markdown",
   "id": "22b4da62",
   "metadata": {},
   "source": [
    "---\n",
    "\n",
    "## TODO\n",
    "\n",
    "* Provide a benchmark matrix of speed vs. accuracy for the three methods.\n",
    "* Add a snippet showing how to export cell regions directly to a pandas **DataFrame**.\n",
    "* Document edge-cases: rotated tables, merged cells, or header repetition across pages.\n",
    "* Include guidance on mixing methods—e.g., run `detect_lines` first, fall back to `text` for cells lacking grid."
   ]
  }
 ],
 "metadata": {
  "jupytext": {
   "cell_metadata_filter": "-all",
   "main_language": "python",
   "notebook_metadata_filter": "-all",
   "text_representation": {
    "extension": ".md",
    "format_name": "markdown"
   }
  },
  "language_info": {
   "codemirror_mode": {
    "name": "ipython",
    "version": 3
   },
   "file_extension": ".py",
   "mimetype": "text/x-python",
   "name": "python",
   "nbconvert_exporter": "python",
   "pygments_lexer": "ipython3",
   "version": "3.10.13"
  },
  "widgets": {
   "application/vnd.jupyter.widget-state+json": {
    "state": {
     "0fce9c0bc99a4e30839704d079eac583": {
      "model_module": "@jupyter-widgets/controls",
      "model_module_version": "2.0.0",
      "model_name": "HTMLModel",
      "state": {
       "_dom_classes": [],
       "_model_module": "@jupyter-widgets/controls",
       "_model_module_version": "2.0.0",
       "_model_name": "HTMLModel",
       "_view_count": null,
       "_view_module": "@jupyter-widgets/controls",
       "_view_module_version": "2.0.0",
       "_view_name": "HTMLView",
       "description": "",
       "description_allow_html": false,
       "layout": "IPY_MODEL_27e59d3314be4c799a0e9299e90742f0",
       "placeholder": "​",
       "style": "IPY_MODEL_437ceb1163214814b51cd15e2b0d7f16",
       "tabbable": null,
       "tooltip": null,
       "value": "Rendering pages:   0%"
      }
     },
     "27e59d3314be4c799a0e9299e90742f0": {
      "model_module": "@jupyter-widgets/base",
      "model_module_version": "2.0.0",
      "model_name": "LayoutModel",
      "state": {
       "_model_module": "@jupyter-widgets/base",
       "_model_module_version": "2.0.0",
       "_model_name": "LayoutModel",
       "_view_count": null,
       "_view_module": "@jupyter-widgets/base",
       "_view_module_version": "2.0.0",
       "_view_name": "LayoutView",
       "align_content": null,
       "align_items": null,
       "align_self": null,
       "border_bottom": null,
       "border_left": null,
       "border_right": null,
       "border_top": null,
       "bottom": null,
       "display": null,
       "flex": null,
       "flex_flow": null,
       "grid_area": null,
       "grid_auto_columns": null,
       "grid_auto_flow": null,
       "grid_auto_rows": null,
       "grid_column": null,
       "grid_gap": null,
       "grid_row": null,
       "grid_template_areas": null,
       "grid_template_columns": null,
       "grid_template_rows": null,
       "height": null,
       "justify_content": null,
       "justify_items": null,
       "left": null,
       "margin": null,
       "max_height": null,
       "max_width": null,
       "min_height": null,
       "min_width": null,
       "object_fit": null,
       "object_position": null,
       "order": null,
       "overflow": null,
       "padding": null,
       "right": null,
       "top": null,
       "visibility": null,
       "width": null
      }
     },
     "437ceb1163214814b51cd15e2b0d7f16": {
      "model_module": "@jupyter-widgets/controls",
      "model_module_version": "2.0.0",
      "model_name": "HTMLStyleModel",
      "state": {
       "_model_module": "@jupyter-widgets/controls",
       "_model_module_version": "2.0.0",
       "_model_name": "HTMLStyleModel",
       "_view_count": null,
       "_view_module": "@jupyter-widgets/base",
       "_view_module_version": "2.0.0",
       "_view_name": "StyleView",
       "background": null,
       "description_width": "",
       "font_size": null,
       "text_color": null
      }
     },
     "4c6d5f681d0d4d15a842a93babef6185": {
      "model_module": "@jupyter-widgets/base",
      "model_module_version": "2.0.0",
      "model_name": "LayoutModel",
      "state": {
       "_model_module": "@jupyter-widgets/base",
       "_model_module_version": "2.0.0",
       "_model_name": "LayoutModel",
       "_view_count": null,
       "_view_module": "@jupyter-widgets/base",
       "_view_module_version": "2.0.0",
       "_view_name": "LayoutView",
       "align_content": null,
       "align_items": null,
       "align_self": null,
       "border_bottom": null,
       "border_left": null,
       "border_right": null,
       "border_top": null,
       "bottom": null,
       "display": null,
       "flex": null,
       "flex_flow": null,
       "grid_area": null,
       "grid_auto_columns": null,
       "grid_auto_flow": null,
       "grid_auto_rows": null,
       "grid_column": null,
       "grid_gap": null,
       "grid_row": null,
       "grid_template_areas": null,
       "grid_template_columns": null,
       "grid_template_rows": null,
       "height": null,
       "justify_content": null,
       "justify_items": null,
       "left": null,
       "margin": null,
       "max_height": null,
       "max_width": null,
       "min_height": null,
       "min_width": null,
       "object_fit": null,
       "object_position": null,
       "order": null,
       "overflow": null,
       "padding": null,
       "right": null,
       "top": null,
       "visibility": "hidden",
       "width": null
      }
     },
     "5b66e86d9bb84e5f839310d045f50d3f": {
      "model_module": "@jupyter-widgets/controls",
      "model_module_version": "2.0.0",
      "model_name": "HBoxModel",
      "state": {
       "_dom_classes": [],
       "_model_module": "@jupyter-widgets/controls",
       "_model_module_version": "2.0.0",
       "_model_name": "HBoxModel",
       "_view_count": null,
       "_view_module": "@jupyter-widgets/controls",
       "_view_module_version": "2.0.0",
       "_view_name": "HBoxView",
       "box_style": "",
       "children": [
        "IPY_MODEL_0fce9c0bc99a4e30839704d079eac583",
        "IPY_MODEL_fc4988f91dc3471eb78f848a327f5077",
        "IPY_MODEL_fe66823e37254b0c9a47af44c9e9bcc3"
       ],
       "layout": "IPY_MODEL_4c6d5f681d0d4d15a842a93babef6185",
       "tabbable": null,
       "tooltip": null
      }
     },
     "77481f0e29b043af96903f3f96167239": {
      "model_module": "@jupyter-widgets/base",
      "model_module_version": "2.0.0",
      "model_name": "LayoutModel",
      "state": {
       "_model_module": "@jupyter-widgets/base",
       "_model_module_version": "2.0.0",
       "_model_name": "LayoutModel",
       "_view_count": null,
       "_view_module": "@jupyter-widgets/base",
       "_view_module_version": "2.0.0",
       "_view_name": "LayoutView",
       "align_content": null,
       "align_items": null,
       "align_self": null,
       "border_bottom": null,
       "border_left": null,
       "border_right": null,
       "border_top": null,
       "bottom": null,
       "display": null,
       "flex": null,
       "flex_flow": null,
       "grid_area": null,
       "grid_auto_columns": null,
       "grid_auto_flow": null,
       "grid_auto_rows": null,
       "grid_column": null,
       "grid_gap": null,
       "grid_row": null,
       "grid_template_areas": null,
       "grid_template_columns": null,
       "grid_template_rows": null,
       "height": null,
       "justify_content": null,
       "justify_items": null,
       "left": null,
       "margin": null,
       "max_height": null,
       "max_width": null,
       "min_height": null,
       "min_width": null,
       "object_fit": null,
       "object_position": null,
       "order": null,
       "overflow": null,
       "padding": null,
       "right": null,
       "top": null,
       "visibility": null,
       "width": null
      }
     },
     "7a66580aa8d645799f15bef55ba57340": {
      "model_module": "@jupyter-widgets/controls",
      "model_module_version": "2.0.0",
      "model_name": "HTMLStyleModel",
      "state": {
       "_model_module": "@jupyter-widgets/controls",
       "_model_module_version": "2.0.0",
       "_model_name": "HTMLStyleModel",
       "_view_count": null,
       "_view_module": "@jupyter-widgets/base",
       "_view_module_version": "2.0.0",
       "_view_name": "StyleView",
       "background": null,
       "description_width": "",
       "font_size": null,
       "text_color": null
      }
     },
     "7c92038ee2c04102af71e32417f207ec": {
      "model_module": "@jupyter-widgets/base",
      "model_module_version": "2.0.0",
      "model_name": "LayoutModel",
      "state": {
       "_model_module": "@jupyter-widgets/base",
       "_model_module_version": "2.0.0",
       "_model_name": "LayoutModel",
       "_view_count": null,
       "_view_module": "@jupyter-widgets/base",
       "_view_module_version": "2.0.0",
       "_view_name": "LayoutView",
       "align_content": null,
       "align_items": null,
       "align_self": null,
       "border_bottom": null,
       "border_left": null,
       "border_right": null,
       "border_top": null,
       "bottom": null,
       "display": null,
       "flex": null,
       "flex_flow": null,
       "grid_area": null,
       "grid_auto_columns": null,
       "grid_auto_flow": null,
       "grid_auto_rows": null,
       "grid_column": null,
       "grid_gap": null,
       "grid_row": null,
       "grid_template_areas": null,
       "grid_template_columns": null,
       "grid_template_rows": null,
       "height": null,
       "justify_content": null,
       "justify_items": null,
       "left": null,
       "margin": null,
       "max_height": null,
       "max_width": null,
       "min_height": null,
       "min_width": null,
       "object_fit": null,
       "object_position": null,
       "order": null,
       "overflow": null,
       "padding": null,
       "right": null,
       "top": null,
       "visibility": null,
       "width": null
      }
     },
     "80222fb9d2464da2a4cfe8b6525b8438": {
      "model_module": "@jupyter-widgets/controls",
      "model_module_version": "2.0.0",
      "model_name": "ProgressStyleModel",
      "state": {
       "_model_module": "@jupyter-widgets/controls",
       "_model_module_version": "2.0.0",
       "_model_name": "ProgressStyleModel",
       "_view_count": null,
       "_view_module": "@jupyter-widgets/base",
       "_view_module_version": "2.0.0",
       "_view_name": "StyleView",
       "bar_color": null,
       "description_width": ""
      }
     },
     "fc4988f91dc3471eb78f848a327f5077": {
      "model_module": "@jupyter-widgets/controls",
      "model_module_version": "2.0.0",
      "model_name": "FloatProgressModel",
      "state": {
       "_dom_classes": [],
       "_model_module": "@jupyter-widgets/controls",
       "_model_module_version": "2.0.0",
       "_model_name": "FloatProgressModel",
       "_view_count": null,
       "_view_module": "@jupyter-widgets/controls",
       "_view_module_version": "2.0.0",
       "_view_name": "ProgressView",
       "bar_style": "",
       "description": "",
       "description_allow_html": false,
       "layout": "IPY_MODEL_7c92038ee2c04102af71e32417f207ec",
       "max": 1.0,
       "min": 0.0,
       "orientation": "horizontal",
       "style": "IPY_MODEL_80222fb9d2464da2a4cfe8b6525b8438",
       "tabbable": null,
       "tooltip": null,
       "value": 1.0
      }
     },
     "fe66823e37254b0c9a47af44c9e9bcc3": {
      "model_module": "@jupyter-widgets/controls",
      "model_module_version": "2.0.0",
      "model_name": "HTMLModel",
      "state": {
       "_dom_classes": [],
       "_model_module": "@jupyter-widgets/controls",
       "_model_module_version": "2.0.0",
       "_model_name": "HTMLModel",
       "_view_count": null,
       "_view_module": "@jupyter-widgets/controls",
       "_view_module_version": "2.0.0",
       "_view_name": "HTMLView",
       "description": "",
       "description_allow_html": false,
       "layout": "IPY_MODEL_77481f0e29b043af96903f3f96167239",
       "placeholder": "​",
       "style": "IPY_MODEL_7a66580aa8d645799f15bef55ba57340",
       "tabbable": null,
       "tooltip": null,
       "value": " 0/1 [00:00&lt;?, ?it/s]"
      }
     }
    },
    "version_major": 2,
    "version_minor": 0
   }
  }
 },
 "nbformat": 4,
 "nbformat_minor": 5
}