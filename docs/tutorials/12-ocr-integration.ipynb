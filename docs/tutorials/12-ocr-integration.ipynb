{
 "cells": [
  {
   "cell_type": "code",
   "execution_count": 1,
   "id": "99055379",
   "metadata": {
    "execution": {
     "iopub.execute_input": "2025-04-02T18:09:13.124264Z",
     "iopub.status.busy": "2025-04-02T18:09:13.124109Z",
     "iopub.status.idle": "2025-04-02T18:09:13.127343Z",
     "shell.execute_reply": "2025-04-02T18:09:13.126941Z"
    },
    "tags": [
     "remove-for-docs"
    ]
   },
   "outputs": [],
   "source": [
    "#%pip install \"natural-pdf[all]\""
   ]
  },
  {
   "cell_type": "markdown",
   "id": "4c6eb545",
   "metadata": {},
   "source": [
    "# Tutorial 12: OCR Integration for Scanned Documents\n",
    "\n",
    "Optical Character Recognition (OCR) allows you to extract text from scanned documents where the text isn't embedded in the PDF. This tutorial demonstrates how to work with scanned documents."
   ]
  },
  {
   "cell_type": "code",
   "execution_count": 2,
   "id": "83ef19a0",
   "metadata": {
    "execution": {
     "iopub.execute_input": "2025-04-02T18:09:13.129426Z",
     "iopub.status.busy": "2025-04-02T18:09:13.129062Z",
     "iopub.status.idle": "2025-04-02T18:09:18.329290Z",
     "shell.execute_reply": "2025-04-02T18:09:18.328957Z"
    }
   },
   "outputs": [
    {
     "data": {
      "text/plain": [
       "'Without OCR: 0 characters extracted'"
      ]
     },
     "execution_count": 2,
     "metadata": {},
     "output_type": "execute_result"
    }
   ],
   "source": [
    "from natural_pdf import PDF\n",
    "\n",
    "# Load a PDF\n",
    "pdf = PDF(\"https://github.com/jsoma/natural-pdf/raw/refs/heads/main/pdfs/needs-ocr.pdf\")\n",
    "page = pdf.pages[0]\n",
    "\n",
    "# Try extracting text without OCR\n",
    "text_without_ocr = page.extract_text()\n",
    "f\"Without OCR: {len(text_without_ocr)} characters extracted\""
   ]
  },
  {
   "cell_type": "markdown",
   "id": "036be80f",
   "metadata": {},
   "source": [
    "## Enabling OCR"
   ]
  },
  {
   "cell_type": "code",
   "execution_count": 3,
   "id": "6c7b1fc3",
   "metadata": {
    "execution": {
     "iopub.execute_input": "2025-04-02T18:09:18.330656Z",
     "iopub.status.busy": "2025-04-02T18:09:18.330531Z",
     "iopub.status.idle": "2025-04-02T18:09:18.333163Z",
     "shell.execute_reply": "2025-04-02T18:09:18.332896Z"
    }
   },
   "outputs": [
    {
     "data": {
      "text/plain": [
       "''"
      ]
     },
     "execution_count": 3,
     "metadata": {},
     "output_type": "execute_result"
    }
   ],
   "source": [
    "# Enable OCR for text extraction\n",
    "page.use_ocr = True\n",
    "\n",
    "# Extract text with OCR enabled\n",
    "text_with_ocr = page.extract_text()\n",
    "\n",
    "# Preview the extracted text\n",
    "text_with_ocr[:200] + \"...\" if len(text_with_ocr) > 200 else text_with_ocr"
   ]
  },
  {
   "cell_type": "markdown",
   "id": "be6cfa08",
   "metadata": {},
   "source": [
    "## Finding Text Elements with OCR"
   ]
  },
  {
   "cell_type": "code",
   "execution_count": 4,
   "id": "d38f51ae",
   "metadata": {
    "execution": {
     "iopub.execute_input": "2025-04-02T18:09:18.334406Z",
     "iopub.status.busy": "2025-04-02T18:09:18.334289Z",
     "iopub.status.idle": "2025-04-02T18:09:28.435512Z",
     "shell.execute_reply": "2025-04-02T18:09:28.435112Z"
    }
   },
   "outputs": [
    {
     "name": "stderr",
     "output_type": "stream",
     "text": [
      "[2025-04-02 14:09:18,381] [ WARNING] easyocr.py:71 - Using CPU. Note: This module is much faster with a GPU.\n"
     ]
    },
    {
     "data": {
      "text/plain": [
       "<ElementCollection[Mixed](count=0)>"
      ]
     },
     "execution_count": 4,
     "metadata": {},
     "output_type": "execute_result"
    }
   ],
   "source": [
    "# Convert text-as-image to text elements\n",
    "page.apply_ocr()\n",
    "\n",
    "# Select all text pieces on the page\n",
    "text_elements = page.find_all('text')\n",
    "f\"Found {len(text_elements)} text elements\"\n",
    "\n",
    "# Visualize the elements\n",
    "text_elements.highlight()"
   ]
  },
  {
   "cell_type": "markdown",
   "id": "7b4997c1",
   "metadata": {},
   "source": [
    "## OCR Configuration Options"
   ]
  },
  {
   "cell_type": "code",
   "execution_count": 5,
   "id": "9baa5187",
   "metadata": {
    "execution": {
     "iopub.execute_input": "2025-04-02T18:09:28.438768Z",
     "iopub.status.busy": "2025-04-02T18:09:28.438615Z",
     "iopub.status.idle": "2025-04-02T18:09:28.441641Z",
     "shell.execute_reply": "2025-04-02T18:09:28.441357Z"
    }
   },
   "outputs": [
    {
     "data": {
      "text/plain": [
       "''"
      ]
     },
     "execution_count": 5,
     "metadata": {},
     "output_type": "execute_result"
    }
   ],
   "source": [
    "# Set OCR configuration for better results\n",
    "page.ocr_config = {\n",
    "    'language': 'eng',  # English\n",
    "    'dpi': 300,         # Higher resolution\n",
    "}\n",
    "\n",
    "# Extract text with the improved configuration\n",
    "improved_text = page.extract_text()\n",
    "\n",
    "# Preview the text\n",
    "improved_text[:200] + \"...\" if len(improved_text) > 200 else improved_text"
   ]
  },
  {
   "cell_type": "markdown",
   "id": "babc26d0",
   "metadata": {},
   "source": [
    "## Working with Multi-language Documents"
   ]
  },
  {
   "cell_type": "code",
   "execution_count": 6,
   "id": "0ddf0989",
   "metadata": {
    "execution": {
     "iopub.execute_input": "2025-04-02T18:09:28.442962Z",
     "iopub.status.busy": "2025-04-02T18:09:28.442863Z",
     "iopub.status.idle": "2025-04-02T18:09:28.445337Z",
     "shell.execute_reply": "2025-04-02T18:09:28.445058Z"
    }
   },
   "outputs": [
    {
     "data": {
      "text/plain": [
       "''"
      ]
     },
     "execution_count": 6,
     "metadata": {},
     "output_type": "execute_result"
    }
   ],
   "source": [
    "# Configure for multiple languages\n",
    "page.ocr_config = {\n",
    "    'language': 'eng+fra+deu',  # English, French, German\n",
    "    'dpi': 300\n",
    "}\n",
    "\n",
    "# Extract text with multi-language support\n",
    "multilang_text = page.extract_text()\n",
    "multilang_text[:200]"
   ]
  },
  {
   "cell_type": "markdown",
   "id": "f7203891",
   "metadata": {},
   "source": [
    "## Extracting Tables from Scanned Documents"
   ]
  },
  {
   "cell_type": "code",
   "execution_count": 7,
   "id": "b8076840",
   "metadata": {
    "execution": {
     "iopub.execute_input": "2025-04-02T18:09:28.446717Z",
     "iopub.status.busy": "2025-04-02T18:09:28.446615Z",
     "iopub.status.idle": "2025-04-02T18:09:30.440711Z",
     "shell.execute_reply": "2025-04-02T18:09:30.440311Z"
    }
   },
   "outputs": [
    {
     "name": "stdout",
     "output_type": "stream",
     "text": [
      "\n"
     ]
    },
    {
     "name": "stdout",
     "output_type": "stream",
     "text": [
      "image 1/1 /var/folders/25/h3prywj14qb0mlkl2s8bxq5m0000gn/T/tmppfct6zry/temp_layout_image.png: 1024x800 2 titles, 2 plain texts, 3 abandons, 1 table, 1631.0ms\n"
     ]
    },
    {
     "name": "stdout",
     "output_type": "stream",
     "text": [
      "Speed: 5.8ms preprocess, 1631.0ms inference, 0.9ms postprocess per image at shape (1, 3, 1024, 800)\n"
     ]
    }
   ],
   "source": [
    "# Enable OCR and analyze the document layout\n",
    "page.use_ocr = True\n",
    "page.analyze_layout()\n",
    "\n",
    "# Find table regions\n",
    "table_regions = page.find_all('region[type=table]')\n",
    "\n",
    "# Visualize any detected tables\n",
    "table_regions.highlight()\n",
    "\n",
    "# Extract the first table if found\n",
    "if table_regions:\n",
    "    table_data = table_regions[0].extract_table()\n",
    "    table_data\n",
    "else:\n",
    "    \"No tables found in the document\""
   ]
  },
  {
   "cell_type": "markdown",
   "id": "d90e18eb",
   "metadata": {},
   "source": [
    "## Finding Form Fields in Scanned Documents"
   ]
  },
  {
   "cell_type": "code",
   "execution_count": 8,
   "id": "1f475780",
   "metadata": {
    "execution": {
     "iopub.execute_input": "2025-04-02T18:09:30.442329Z",
     "iopub.status.busy": "2025-04-02T18:09:30.442209Z",
     "iopub.status.idle": "2025-04-02T18:09:30.445516Z",
     "shell.execute_reply": "2025-04-02T18:09:30.445261Z"
    }
   },
   "outputs": [
    {
     "data": {
      "text/plain": [
       "{}"
      ]
     },
     "execution_count": 8,
     "metadata": {},
     "output_type": "execute_result"
    }
   ],
   "source": [
    "# Look for potential form labels (containing a colon)\n",
    "labels = page.find_all('text:contains(\":\")') \n",
    "\n",
    "# Visualize the labels\n",
    "labels.highlight()\n",
    "\n",
    "# Extract form data by looking to the right of each label\n",
    "form_data = {}\n",
    "for label in labels:\n",
    "    # Clean the label text\n",
    "    field_name = label.text.strip().rstrip(':')\n",
    "    \n",
    "    # Find the value to the right\n",
    "    value_element = label.right(width=200)\n",
    "    value = value_element.extract_text().strip()\n",
    "    \n",
    "    # Add to our dictionary\n",
    "    form_data[field_name] = value\n",
    "\n",
    "# Display the extracted data\n",
    "form_data"
   ]
  },
  {
   "cell_type": "markdown",
   "id": "8883816e",
   "metadata": {},
   "source": [
    "## Combining OCR with Layout Analysis"
   ]
  },
  {
   "cell_type": "code",
   "execution_count": 9,
   "id": "5bafa643",
   "metadata": {
    "execution": {
     "iopub.execute_input": "2025-04-02T18:09:30.447197Z",
     "iopub.status.busy": "2025-04-02T18:09:30.447056Z",
     "iopub.status.idle": "2025-04-02T18:09:32.109846Z",
     "shell.execute_reply": "2025-04-02T18:09:32.109519Z"
    }
   },
   "outputs": [
    {
     "name": "stdout",
     "output_type": "stream",
     "text": [
      "\n"
     ]
    },
    {
     "name": "stdout",
     "output_type": "stream",
     "text": [
      "image 1/1 /var/folders/25/h3prywj14qb0mlkl2s8bxq5m0000gn/T/tmpwuo1j2tg/temp_layout_image.png: 1024x800 2 titles, 2 plain texts, 3 abandons, 1 table, 1584.3ms\n"
     ]
    },
    {
     "name": "stdout",
     "output_type": "stream",
     "text": [
      "Speed: 3.8ms preprocess, 1584.3ms inference, 0.6ms postprocess per image at shape (1, 3, 1024, 800)\n"
     ]
    },
    {
     "data": {
      "text/plain": [
       "[]"
      ]
     },
     "execution_count": 9,
     "metadata": {},
     "output_type": "execute_result"
    }
   ],
   "source": [
    "# Apply OCR and analyze layout\n",
    "page.use_ocr = True\n",
    "page.analyze_layout()\n",
    "\n",
    "# Find document structure elements\n",
    "headings = page.find_all('region[type=heading]')\n",
    "paragraphs = page.find_all('region[type=paragraph]')\n",
    "\n",
    "# Visualize the structure\n",
    "headings.highlight(color=\"red\", label=\"Headings\")\n",
    "paragraphs.highlight(color=\"blue\", label=\"Paragraphs\")\n",
    "\n",
    "# Create a simple document outline\n",
    "document_outline = []\n",
    "for heading in headings:\n",
    "    heading_text = heading.extract_text()\n",
    "    document_outline.append(heading_text)\n",
    "\n",
    "document_outline"
   ]
  },
  {
   "cell_type": "markdown",
   "id": "df6ab4a8",
   "metadata": {},
   "source": [
    "## Working with Multiple Pages"
   ]
  },
  {
   "cell_type": "code",
   "execution_count": 10,
   "id": "ea9af5cf",
   "metadata": {
    "execution": {
     "iopub.execute_input": "2025-04-02T18:09:32.111182Z",
     "iopub.status.busy": "2025-04-02T18:09:32.111085Z",
     "iopub.status.idle": "2025-04-02T18:09:32.113908Z",
     "shell.execute_reply": "2025-04-02T18:09:32.113642Z"
    }
   },
   "outputs": [
    {
     "data": {
      "text/plain": [
       "['Page 1: ...']"
      ]
     },
     "execution_count": 10,
     "metadata": {},
     "output_type": "execute_result"
    }
   ],
   "source": [
    "# Process all pages in the document\n",
    "all_text = []\n",
    "\n",
    "for i, page in enumerate(pdf.pages):\n",
    "    # Enable OCR for each page\n",
    "    page.use_ocr = True\n",
    "    \n",
    "    # Extract text\n",
    "    page_text = page.extract_text()\n",
    "    \n",
    "    # Add to our collection with page number\n",
    "    all_text.append(f\"Page {i+1}: {page_text[:100]}...\")\n",
    "\n",
    "# Show the first few pages\n",
    "all_text"
   ]
  },
  {
   "cell_type": "markdown",
   "id": "0fc9d90e",
   "metadata": {},
   "source": [
    "OCR integration enables you to work with scanned documents, historical archives, and image-based PDFs that don't have embedded text. By combining OCR with natural-pdf's layout analysis capabilities, you can turn any document into structured, searchable data. "
   ]
  }
 ],
 "metadata": {
  "jupytext": {
   "cell_metadata_filter": "tags,-all",
   "cell_metadata_json": true,
   "main_language": "python",
   "notebook_metadata_filter": "-all"
  },
  "language_info": {
   "codemirror_mode": {
    "name": "ipython",
    "version": 3
   },
   "file_extension": ".py",
   "mimetype": "text/x-python",
   "name": "python",
   "nbconvert_exporter": "python",
   "pygments_lexer": "ipython3",
   "version": "3.10.13"
  }
 },
 "nbformat": 4,
 "nbformat_minor": 5
}
