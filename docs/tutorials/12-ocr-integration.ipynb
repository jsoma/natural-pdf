{
 "cells": [
  {
   "cell_type": "markdown",
   "id": "87743c74",
   "metadata": {},
   "source": [
    "# OCR Integration for Scanned Documents\n",
    "\n",
    "Optical Character Recognition (OCR) allows you to extract text from scanned documents where the text isn't embedded in the PDF. This tutorial demonstrates how to work with scanned documents."
   ]
  },
  {
   "cell_type": "code",
   "execution_count": 1,
   "id": "b638b88b",
   "metadata": {
    "execution": {
     "iopub.execute_input": "2025-04-02T19:55:20.753692Z",
     "iopub.status.busy": "2025-04-02T19:55:20.753565Z",
     "iopub.status.idle": "2025-04-02T19:55:20.755859Z",
     "shell.execute_reply": "2025-04-02T19:55:20.755550Z"
    }
   },
   "outputs": [],
   "source": [
    "#%pip install \"natural-pdf[all]\""
   ]
  },
  {
   "cell_type": "code",
   "execution_count": 2,
   "id": "b9bcde48",
   "metadata": {
    "execution": {
     "iopub.execute_input": "2025-04-02T19:55:20.757413Z",
     "iopub.status.busy": "2025-04-02T19:55:20.757296Z",
     "iopub.status.idle": "2025-04-02T19:55:26.403570Z",
     "shell.execute_reply": "2025-04-02T19:55:26.403068Z"
    }
   },
   "outputs": [
    {
     "data": {
      "text/plain": [
       "'Without OCR: 0 characters extracted'"
      ]
     },
     "execution_count": 2,
     "metadata": {},
     "output_type": "execute_result"
    }
   ],
   "source": [
    "from natural_pdf import PDF\n",
    "\n",
    "# Load a PDF\n",
    "pdf = PDF(\"https://github.com/jsoma/natural-pdf/raw/refs/heads/main/pdfs/needs-ocr.pdf\")\n",
    "page = pdf.pages[0]\n",
    "\n",
    "# Try extracting text without OCR\n",
    "text_without_ocr = page.extract_text()\n",
    "f\"Without OCR: {len(text_without_ocr)} characters extracted\""
   ]
  },
  {
   "cell_type": "markdown",
   "id": "be74448c",
   "metadata": {},
   "source": [
    "## Enabling OCR"
   ]
  },
  {
   "cell_type": "code",
   "execution_count": 3,
   "id": "5492cf44",
   "metadata": {
    "execution": {
     "iopub.execute_input": "2025-04-02T19:55:26.405078Z",
     "iopub.status.busy": "2025-04-02T19:55:26.404949Z",
     "iopub.status.idle": "2025-04-02T19:55:26.407692Z",
     "shell.execute_reply": "2025-04-02T19:55:26.407391Z"
    }
   },
   "outputs": [
    {
     "data": {
      "text/plain": [
       "''"
      ]
     },
     "execution_count": 3,
     "metadata": {},
     "output_type": "execute_result"
    }
   ],
   "source": [
    "# Enable OCR for text extraction\n",
    "page.use_ocr = True\n",
    "\n",
    "# Extract text with OCR enabled\n",
    "text_with_ocr = page.extract_text()\n",
    "\n",
    "# Preview the extracted text\n",
    "text_with_ocr[:200] + \"...\" if len(text_with_ocr) > 200 else text_with_ocr"
   ]
  },
  {
   "cell_type": "markdown",
   "id": "691d87b2",
   "metadata": {},
   "source": [
    "## Finding Text Elements with OCR"
   ]
  },
  {
   "cell_type": "code",
   "execution_count": 4,
   "id": "ad093e53",
   "metadata": {
    "execution": {
     "iopub.execute_input": "2025-04-02T19:55:26.409146Z",
     "iopub.status.busy": "2025-04-02T19:55:26.409004Z",
     "iopub.status.idle": "2025-04-02T19:55:36.265581Z",
     "shell.execute_reply": "2025-04-02T19:55:36.265226Z"
    }
   },
   "outputs": [
    {
     "name": "stderr",
     "output_type": "stream",
     "text": [
      "[2025-04-02 15:55:26,462] [ WARNING] easyocr.py:71 - Using CPU. Note: This module is much faster with a GPU.\n"
     ]
    },
    {
     "data": {
      "text/plain": [
       "<ElementCollection[Mixed](count=0)>"
      ]
     },
     "execution_count": 4,
     "metadata": {},
     "output_type": "execute_result"
    }
   ],
   "source": [
    "# Convert text-as-image to text elements\n",
    "page.apply_ocr()\n",
    "\n",
    "# Select all text pieces on the page\n",
    "text_elements = page.find_all('text')\n",
    "f\"Found {len(text_elements)} text elements\"\n",
    "\n",
    "# Visualize the elements\n",
    "text_elements.highlight()"
   ]
  },
  {
   "cell_type": "markdown",
   "id": "47820288",
   "metadata": {},
   "source": [
    "## OCR Configuration Options"
   ]
  },
  {
   "cell_type": "code",
   "execution_count": 5,
   "id": "720ea526",
   "metadata": {
    "execution": {
     "iopub.execute_input": "2025-04-02T19:55:36.267249Z",
     "iopub.status.busy": "2025-04-02T19:55:36.267115Z",
     "iopub.status.idle": "2025-04-02T19:55:36.269830Z",
     "shell.execute_reply": "2025-04-02T19:55:36.269570Z"
    }
   },
   "outputs": [
    {
     "data": {
      "text/plain": [
       "''"
      ]
     },
     "execution_count": 5,
     "metadata": {},
     "output_type": "execute_result"
    }
   ],
   "source": [
    "# Set OCR configuration for better results\n",
    "page.ocr_config = {\n",
    "    'language': 'eng',  # English\n",
    "    'dpi': 300,         # Higher resolution\n",
    "}\n",
    "\n",
    "# Extract text with the improved configuration\n",
    "improved_text = page.extract_text()\n",
    "\n",
    "# Preview the text\n",
    "improved_text[:200] + \"...\" if len(improved_text) > 200 else improved_text"
   ]
  },
  {
   "cell_type": "markdown",
   "id": "eb6694fe",
   "metadata": {},
   "source": [
    "## Working with Multi-language Documents"
   ]
  },
  {
   "cell_type": "code",
   "execution_count": 6,
   "id": "0196f395",
   "metadata": {
    "execution": {
     "iopub.execute_input": "2025-04-02T19:55:36.271116Z",
     "iopub.status.busy": "2025-04-02T19:55:36.270999Z",
     "iopub.status.idle": "2025-04-02T19:55:36.273529Z",
     "shell.execute_reply": "2025-04-02T19:55:36.273241Z"
    }
   },
   "outputs": [
    {
     "data": {
      "text/plain": [
       "''"
      ]
     },
     "execution_count": 6,
     "metadata": {},
     "output_type": "execute_result"
    }
   ],
   "source": [
    "# Configure for multiple languages\n",
    "page.ocr_config = {\n",
    "    'language': 'eng+fra+deu',  # English, French, German\n",
    "    'dpi': 300\n",
    "}\n",
    "\n",
    "# Extract text with multi-language support\n",
    "multilang_text = page.extract_text()\n",
    "multilang_text[:200]"
   ]
  },
  {
   "cell_type": "markdown",
   "id": "b94d2eb1",
   "metadata": {},
   "source": [
    "## Extracting Tables from Scanned Documents"
   ]
  },
  {
   "cell_type": "code",
   "execution_count": 7,
   "id": "3794be5f",
   "metadata": {
    "execution": {
     "iopub.execute_input": "2025-04-02T19:55:36.274900Z",
     "iopub.status.busy": "2025-04-02T19:55:36.274776Z",
     "iopub.status.idle": "2025-04-02T19:55:38.340547Z",
     "shell.execute_reply": "2025-04-02T19:55:38.340179Z"
    }
   },
   "outputs": [
    {
     "name": "stdout",
     "output_type": "stream",
     "text": [
      "\n"
     ]
    },
    {
     "name": "stdout",
     "output_type": "stream",
     "text": [
      "image 1/1 /var/folders/25/h3prywj14qb0mlkl2s8bxq5m0000gn/T/tmpmec458xx/temp_layout_image.png: 1024x800 2 titles, 2 plain texts, 3 abandons, 1 table, 1722.6ms\n"
     ]
    },
    {
     "name": "stdout",
     "output_type": "stream",
     "text": [
      "Speed: 5.2ms preprocess, 1722.6ms inference, 0.8ms postprocess per image at shape (1, 3, 1024, 800)\n"
     ]
    }
   ],
   "source": [
    "# Enable OCR and analyze the document layout\n",
    "page.use_ocr = True\n",
    "page.analyze_layout()\n",
    "\n",
    "# Find table regions\n",
    "table_regions = page.find_all('region[type=table]')\n",
    "\n",
    "# Visualize any detected tables\n",
    "table_regions.highlight()\n",
    "\n",
    "# Extract the first table if found\n",
    "if table_regions:\n",
    "    table_data = table_regions[0].extract_table()\n",
    "    table_data\n",
    "else:\n",
    "    \"No tables found in the document\""
   ]
  },
  {
   "cell_type": "markdown",
   "id": "8207267f",
   "metadata": {},
   "source": [
    "## Finding Form Fields in Scanned Documents"
   ]
  },
  {
   "cell_type": "code",
   "execution_count": 8,
   "id": "d33f0bd9",
   "metadata": {
    "execution": {
     "iopub.execute_input": "2025-04-02T19:55:38.342027Z",
     "iopub.status.busy": "2025-04-02T19:55:38.341922Z",
     "iopub.status.idle": "2025-04-02T19:55:38.345135Z",
     "shell.execute_reply": "2025-04-02T19:55:38.344866Z"
    }
   },
   "outputs": [
    {
     "data": {
      "text/plain": [
       "{}"
      ]
     },
     "execution_count": 8,
     "metadata": {},
     "output_type": "execute_result"
    }
   ],
   "source": [
    "# Look for potential form labels (containing a colon)\n",
    "labels = page.find_all('text:contains(\":\")') \n",
    "\n",
    "# Visualize the labels\n",
    "labels.highlight()\n",
    "\n",
    "# Extract form data by looking to the right of each label\n",
    "form_data = {}\n",
    "for label in labels:\n",
    "    # Clean the label text\n",
    "    field_name = label.text.strip().rstrip(':')\n",
    "    \n",
    "    # Find the value to the right\n",
    "    value_element = label.right(width=200)\n",
    "    value = value_element.extract_text().strip()\n",
    "    \n",
    "    # Add to our dictionary\n",
    "    form_data[field_name] = value\n",
    "\n",
    "# Display the extracted data\n",
    "form_data"
   ]
  },
  {
   "cell_type": "markdown",
   "id": "40745b48",
   "metadata": {},
   "source": [
    "## Combining OCR with Layout Analysis"
   ]
  },
  {
   "cell_type": "code",
   "execution_count": 9,
   "id": "6fe65a4b",
   "metadata": {
    "execution": {
     "iopub.execute_input": "2025-04-02T19:55:38.346352Z",
     "iopub.status.busy": "2025-04-02T19:55:38.346262Z",
     "iopub.status.idle": "2025-04-02T19:55:40.102896Z",
     "shell.execute_reply": "2025-04-02T19:55:40.102581Z"
    }
   },
   "outputs": [
    {
     "name": "stdout",
     "output_type": "stream",
     "text": [
      "\n"
     ]
    },
    {
     "name": "stdout",
     "output_type": "stream",
     "text": [
      "image 1/1 /var/folders/25/h3prywj14qb0mlkl2s8bxq5m0000gn/T/tmpp5kx84ay/temp_layout_image.png: 1024x800 2 titles, 2 plain texts, 3 abandons, 1 table, 1679.8ms\n"
     ]
    },
    {
     "name": "stdout",
     "output_type": "stream",
     "text": [
      "Speed: 4.5ms preprocess, 1679.8ms inference, 0.7ms postprocess per image at shape (1, 3, 1024, 800)\n"
     ]
    },
    {
     "data": {
      "text/plain": [
       "[]"
      ]
     },
     "execution_count": 9,
     "metadata": {},
     "output_type": "execute_result"
    }
   ],
   "source": [
    "# Apply OCR and analyze layout\n",
    "page.use_ocr = True\n",
    "page.analyze_layout()\n",
    "\n",
    "# Find document structure elements\n",
    "headings = page.find_all('region[type=heading]')\n",
    "paragraphs = page.find_all('region[type=paragraph]')\n",
    "\n",
    "# Visualize the structure\n",
    "headings.highlight(color=\"red\", label=\"Headings\")\n",
    "paragraphs.highlight(color=\"blue\", label=\"Paragraphs\")\n",
    "\n",
    "# Create a simple document outline\n",
    "document_outline = []\n",
    "for heading in headings:\n",
    "    heading_text = heading.extract_text()\n",
    "    document_outline.append(heading_text)\n",
    "\n",
    "document_outline"
   ]
  },
  {
   "cell_type": "markdown",
   "id": "49cbd34d",
   "metadata": {},
   "source": [
    "## Working with Multiple Pages"
   ]
  },
  {
   "cell_type": "code",
   "execution_count": 10,
   "id": "9a39a7f2",
   "metadata": {
    "execution": {
     "iopub.execute_input": "2025-04-02T19:55:40.104320Z",
     "iopub.status.busy": "2025-04-02T19:55:40.104220Z",
     "iopub.status.idle": "2025-04-02T19:55:40.107028Z",
     "shell.execute_reply": "2025-04-02T19:55:40.106784Z"
    }
   },
   "outputs": [
    {
     "data": {
      "text/plain": [
       "['Page 1: ...']"
      ]
     },
     "execution_count": 10,
     "metadata": {},
     "output_type": "execute_result"
    }
   ],
   "source": [
    "# Process all pages in the document\n",
    "all_text = []\n",
    "\n",
    "for i, page in enumerate(pdf.pages):\n",
    "    # Enable OCR for each page\n",
    "    page.use_ocr = True\n",
    "    \n",
    "    # Extract text\n",
    "    page_text = page.extract_text()\n",
    "    \n",
    "    # Add to our collection with page number\n",
    "    all_text.append(f\"Page {i+1}: {page_text[:100]}...\")\n",
    "\n",
    "# Show the first few pages\n",
    "all_text"
   ]
  },
  {
   "cell_type": "markdown",
   "id": "b60c1b8f",
   "metadata": {},
   "source": [
    "OCR integration enables you to work with scanned documents, historical archives, and image-based PDFs that don't have embedded text. By combining OCR with natural-pdf's layout analysis capabilities, you can turn any document into structured, searchable data. "
   ]
  }
 ],
 "metadata": {
  "jupytext": {
   "cell_metadata_filter": "-all",
   "main_language": "python",
   "notebook_metadata_filter": "-all"
  },
  "language_info": {
   "codemirror_mode": {
    "name": "ipython",
    "version": 3
   },
   "file_extension": ".py",
   "mimetype": "text/x-python",
   "name": "python",
   "nbconvert_exporter": "python",
   "pygments_lexer": "ipython3",
   "version": "3.10.13"
  }
 },
 "nbformat": 4,
 "nbformat_minor": 5
}
