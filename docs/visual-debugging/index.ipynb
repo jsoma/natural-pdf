{
 "cells": [
  {
   "cell_type": "markdown",
   "id": "dca6adb0",
   "metadata": {},
   "source": [
    "# Visual Debugging\n",
    "\n",
    "Sometimes it's hard to understand what's happening when working with PDFs. Natural PDF provides powerful visual debugging tools to help you see what you're extracting.\n",
    "\n",
    "## Adding Persistent Highlights\n",
    "\n",
    "Use the `.highlight()` method on `Element` or `ElementCollection` objects to add persistent highlights to a page. These highlights are stored and will appear when viewing the page later."
   ]
  },
  {
   "cell_type": "code",
   "execution_count": 1,
   "id": "050d471a",
   "metadata": {
    "execution": {
     "iopub.execute_input": "2025-04-02T22:30:22.408970Z",
     "iopub.status.busy": "2025-04-02T22:30:22.408732Z",
     "iopub.status.idle": "2025-04-02T22:30:33.458473Z",
     "shell.execute_reply": "2025-04-02T22:30:33.453955Z"
    }
   },
   "outputs": [
    {
     "ename": "FileNotFoundError",
     "evalue": "[Errno 2] No such file or directory: 'document.pdf'",
     "output_type": "error",
     "traceback": [
      "\u001b[0;31m---------------------------------------------------------------------------\u001b[0m",
      "\u001b[0;31mFileNotFoundError\u001b[0m                         Traceback (most recent call last)",
      "Cell \u001b[0;32mIn[1], line 3\u001b[0m\n\u001b[1;32m      1\u001b[0m \u001b[38;5;28;01mfrom\u001b[39;00m\u001b[38;5;250m \u001b[39m\u001b[38;5;21;01mnatural_pdf\u001b[39;00m\u001b[38;5;250m \u001b[39m\u001b[38;5;28;01mimport\u001b[39;00m PDF\n\u001b[0;32m----> 3\u001b[0m pdf \u001b[38;5;241m=\u001b[39m \u001b[43mPDF\u001b[49m\u001b[43m(\u001b[49m\u001b[38;5;124;43m'\u001b[39;49m\u001b[38;5;124;43mdocument.pdf\u001b[39;49m\u001b[38;5;124;43m'\u001b[39;49m\u001b[43m)\u001b[49m\n\u001b[1;32m      4\u001b[0m page \u001b[38;5;241m=\u001b[39m pdf\u001b[38;5;241m.\u001b[39mpages[\u001b[38;5;241m0\u001b[39m]\n\u001b[1;32m      6\u001b[0m \u001b[38;5;66;03m# Find a specific element and add a persistent highlight\u001b[39;00m\n",
      "File \u001b[0;32m~/Development/natural-pdf/natural_pdf/core/pdf.py:84\u001b[0m, in \u001b[0;36mPDF.__init__\u001b[0;34m(self, path_or_url, reading_order, font_attrs, keep_spaces)\u001b[0m\n\u001b[1;32m     81\u001b[0m logger\u001b[38;5;241m.\u001b[39minfo(\u001b[38;5;124mf\u001b[39m\u001b[38;5;124m\"\u001b[39m\u001b[38;5;124mInitializing PDF from \u001b[39m\u001b[38;5;132;01m{\u001b[39;00mpath\u001b[38;5;132;01m}\u001b[39;00m\u001b[38;5;124m\"\u001b[39m)\n\u001b[1;32m     82\u001b[0m logger\u001b[38;5;241m.\u001b[39mdebug(\u001b[38;5;124mf\u001b[39m\u001b[38;5;124m\"\u001b[39m\u001b[38;5;124mParameters: reading_order=\u001b[39m\u001b[38;5;132;01m{\u001b[39;00mreading_order\u001b[38;5;132;01m}\u001b[39;00m\u001b[38;5;124m, font_attrs=\u001b[39m\u001b[38;5;132;01m{\u001b[39;00mfont_attrs\u001b[38;5;132;01m}\u001b[39;00m\u001b[38;5;124m, keep_spaces=\u001b[39m\u001b[38;5;132;01m{\u001b[39;00mkeep_spaces\u001b[38;5;132;01m}\u001b[39;00m\u001b[38;5;124m\"\u001b[39m)\n\u001b[0;32m---> 84\u001b[0m \u001b[38;5;28mself\u001b[39m\u001b[38;5;241m.\u001b[39m_pdf \u001b[38;5;241m=\u001b[39m \u001b[43mpdfplumber\u001b[49m\u001b[38;5;241;43m.\u001b[39;49m\u001b[43mopen\u001b[49m\u001b[43m(\u001b[49m\u001b[43mpath\u001b[49m\u001b[43m)\u001b[49m\n\u001b[1;32m     85\u001b[0m \u001b[38;5;28mself\u001b[39m\u001b[38;5;241m.\u001b[39m_path \u001b[38;5;241m=\u001b[39m path\n\u001b[1;32m     86\u001b[0m \u001b[38;5;28mself\u001b[39m\u001b[38;5;241m.\u001b[39m_reading_order \u001b[38;5;241m=\u001b[39m reading_order\n",
      "File \u001b[0;32m~/.pyenv/versions/3.10.13/lib/python3.10/site-packages/pdfplumber/pdf.py:92\u001b[0m, in \u001b[0;36mPDF.open\u001b[0;34m(cls, path_or_fp, pages, laparams, password, strict_metadata, unicode_norm, repair, gs_path, repair_setting)\u001b[0m\n\u001b[1;32m     90\u001b[0m     path \u001b[38;5;241m=\u001b[39m \u001b[38;5;28;01mNone\u001b[39;00m\n\u001b[1;32m     91\u001b[0m \u001b[38;5;28;01melif\u001b[39;00m \u001b[38;5;28misinstance\u001b[39m(path_or_fp, (\u001b[38;5;28mstr\u001b[39m, pathlib\u001b[38;5;241m.\u001b[39mPath)):\n\u001b[0;32m---> 92\u001b[0m     stream \u001b[38;5;241m=\u001b[39m \u001b[38;5;28;43mopen\u001b[39;49m\u001b[43m(\u001b[49m\u001b[43mpath_or_fp\u001b[49m\u001b[43m,\u001b[49m\u001b[43m \u001b[49m\u001b[38;5;124;43m\"\u001b[39;49m\u001b[38;5;124;43mrb\u001b[39;49m\u001b[38;5;124;43m\"\u001b[39;49m\u001b[43m)\u001b[49m\n\u001b[1;32m     93\u001b[0m     stream_is_external \u001b[38;5;241m=\u001b[39m \u001b[38;5;28;01mFalse\u001b[39;00m\n\u001b[1;32m     94\u001b[0m     path \u001b[38;5;241m=\u001b[39m pathlib\u001b[38;5;241m.\u001b[39mPath(path_or_fp)\n",
      "\u001b[0;31mFileNotFoundError\u001b[0m: [Errno 2] No such file or directory: 'document.pdf'"
     ]
    }
   ],
   "source": [
    "from natural_pdf import PDF\n",
    "\n",
    "pdf = PDF('document.pdf')\n",
    "page = pdf.pages[0]\n",
    "\n",
    "# Find a specific element and add a persistent highlight\n",
    "title = page.find('text:contains(\"Summary\")')\n",
    "title.highlight()"
   ]
  },
  {
   "cell_type": "markdown",
   "id": "823c01df",
   "metadata": {},
   "source": [
    "## Viewing Highlights\n",
    "\n",
    "You can view persistent highlights in two ways:\n",
    "\n",
    "1. **Interactive Viewer (Jupyter):** Use `.viewer()` on a `Page` object in a Jupyter environment (Notebook, Lab, VS Code). This requires installing `natural-pdf[interactive]`.\n",
    "2. **Static Image:** Use `.save_image()` on a `Page` object to save a static PNG file."
   ]
  },
  {
   "cell_type": "code",
   "execution_count": null,
   "id": "a827bf4e",
   "metadata": {},
   "outputs": [],
   "source": [
    "# Add some highlights\n",
    "page.find('text:contains(\"Summary\")').highlight(label=\"Summary Title\")\n",
    "page.find_all('rect').highlight(color=\"blue\", label=\"Boxes\")\n",
    "\n",
    "# --- View Interactively (Jupyter) ---\n",
    "# Requires: pip install natural-pdf[interactive]\n",
    "page.viewer()\n",
    "\n",
    "# --- Save Static Image ---\n",
    "# Include a legend for labeled highlights\n",
    "page.save_image(\"highlighted_page.png\", labels=True)"
   ]
  },
  {
   "cell_type": "markdown",
   "id": "c55894a4",
   "metadata": {},
   "source": [
    "## Customizing Persistent Highlights\n",
    "\n",
    "Customize the appearance of persistent highlights added with `.highlight()`:"
   ]
  },
  {
   "cell_type": "code",
   "execution_count": null,
   "id": "fc87af84",
   "metadata": {},
   "outputs": [],
   "source": [
    "# Highlight with a specific color (string name, hex, or RGB/RGBA tuple)\n",
    "title.highlight(color=(1, 0, 0, 0.3))  # Red with 30% opacity\n",
    "title.highlight(color=\"#FF0000\")        # Hex color\n",
    "title.highlight(color=\"red\")           # Color name\n",
    "\n",
    "# Add a label to the highlight (appears in legend)\n",
    "title.highlight(label=\"Title\")\n",
    "\n",
    "# Combine color and label\n",
    "table = page.find('rect[width>=400][height>=200]')\n",
    "table.highlight(color=(0, 0, 1, 0.2), label=\"Table\")\n",
    "\n",
    "# Save with a legend that shows the labels\n",
    "page.viewer() # Or view interactively"
   ]
  },
  {
   "cell_type": "markdown",
   "id": "0a2ad8b2",
   "metadata": {},
   "source": [
    "## Highlighting Multiple Elements\n",
    "\n",
    "Highlighting an `ElementCollection` applies the highlight to all elements within it. By default, all elements in the collection get the same color and a label based on their type."
   ]
  },
  {
   "cell_type": "code",
   "execution_count": null,
   "id": "4308bf8e",
   "metadata": {},
   "outputs": [],
   "source": [
    "# Find and highlight all headings with a single color/label\n",
    "headings = page.find_all('text[size>=14]:bold')\n",
    "headings.highlight(color=(0, 0.5, 0, 0.3), label=\"Headings\")\n",
    "\n",
    "# Find and highlight all tables\n",
    "tables = page.find_all('region[type=table]')\n",
    "tables.highlight(color=(0, 0, 1, 0.2), label=\"Tables\")\n",
    "\n",
    "# View the result\n",
    "page.viewer()"
   ]
  },
  {
   "cell_type": "markdown",
   "id": "d63acdde",
   "metadata": {},
   "source": [
    "## Highlighting Regions\n",
    "\n",
    "You can highlight regions to see what area you're working with:"
   ]
  },
  {
   "cell_type": "code",
   "execution_count": null,
   "id": "773fb153",
   "metadata": {},
   "outputs": [],
   "source": [
    "# Find a title and create a region below it\n",
    "title = page.find('text:contains(\"Introduction\")')\n",
    "content = title.below(height=200)\n",
    "\n",
    "# Highlight the region\n",
    "content.highlight(color=(0, 0.7, 0, 0.2), label=\"Introduction\")\n",
    "\n",
    "# Highlight region boundaries\n",
    "content.highlight(label=\"Region Boundary\")\n",
    "\n",
    "# Extract a cropped image of just this region\n",
    "region_image = content.to_image(resolution=150)\n",
    "content.save_image(\"region.png\")"
   ]
  },
  {
   "cell_type": "markdown",
   "id": "0d2d4a20",
   "metadata": {},
   "source": [
    "## Working with Text Styles\n",
    "\n",
    "Visualize text styles to understand the document structure:"
   ]
  },
  {
   "cell_type": "code",
   "execution_count": null,
   "id": "1142b8fb",
   "metadata": {},
   "outputs": [],
   "source": [
    "# Analyze and highlight text styles\n",
    "styles = page.analyze_text_styles()\n",
    "page.highlight_text_styles()\n",
    "page.save_image(\"text_styles.png\", labels=True)\n",
    "\n",
    "# Work with a specific style\n",
    "if \"Text Style 1\" in styles:\n",
    "    title_style = styles[\"Text Style 1\"]\n",
    "    title_style.highlight(color=(1, 0, 0, 0.3), label=\"Title Style\")"
   ]
  },
  {
   "cell_type": "markdown",
   "id": "b0e3b2ec",
   "metadata": {},
   "source": [
    "## Displaying Attributes\n",
    "\n",
    "You can display element attributes directly on the highlights:"
   ]
  },
  {
   "cell_type": "code",
   "execution_count": null,
   "id": "5194ecbd",
   "metadata": {},
   "outputs": [],
   "source": [
    "# Show confidence scores for OCR text\n",
    "ocr_text = page.find_all('text[source=ocr]')\n",
    "ocr_text.highlight(include_attrs=['confidence'])\n",
    "\n",
    "# Show region types and confidence for layout analysis\n",
    "regions = page.find_all('region')\n",
    "regions.highlight(include_attrs=['region_type', 'confidence'])\n",
    "\n",
    "# Show font information for text\n",
    "text = page.find_all('text[size>=12]')\n",
    "text.highlight(include_attrs=['fontname', 'size'])"
   ]
  },
  {
   "cell_type": "markdown",
   "id": "dc553ec8",
   "metadata": {},
   "source": [
    "## Clearing Highlights\n",
    "\n",
    "You can clear persistent highlights from a page:"
   ]
  },
  {
   "cell_type": "code",
   "execution_count": null,
   "id": "3842e581",
   "metadata": {},
   "outputs": [],
   "source": [
    "# Clear all highlights on the page\n",
    "page.clear_highlights()\n",
    "\n",
    "# Apply new highlights\n",
    "page.find_all('text:bold').highlight(label=\"Bold Text\")\n",
    "page.viewer()"
   ]
  },
  {
   "cell_type": "markdown",
   "id": "04e39055",
   "metadata": {},
   "source": [
    "## Composite Highlighting\n",
    "\n",
    "You can build up complex visualizations layer by layer:"
   ]
  },
  {
   "cell_type": "code",
   "execution_count": null,
   "id": "29aabde7",
   "metadata": {},
   "outputs": [],
   "source": [
    "# Clear any existing highlights\n",
    "page.clear_highlights()\n",
    "\n",
    "# Highlight different elements with different colors\n",
    "page.find_all('text:bold').highlight(color=(1, 0, 0, 0.3), label=\"Bold Text\")\n",
    "page.find_all('text:contains(\"Table\")').highlight(color=(0, 0, 1, 0.3), label=\"Table References\")\n",
    "page.find_all('line').highlight(color=(0, 0.5, 0, 0.3), label=\"Lines\")\n",
    "\n",
    "# Highlight regions\n",
    "title = page.find('text:contains(\"Summary\")')\n",
    "if title:\n",
    "    title.below(height=200).highlight(color=(0.5, 0, 0.5, 0.1), label=\"Summary Section\")\n",
    "\n",
    "# Save the composite image\n",
    "page.save_image(\"composite_highlight.png\", labels=True)"
   ]
  },
  {
   "cell_type": "markdown",
   "id": "bc27086b",
   "metadata": {},
   "source": [
    "## OCR Visualization\n",
    "\n",
    "Visualize OCR results with confidence levels:"
   ]
  },
  {
   "cell_type": "code",
   "execution_count": null,
   "id": "492969ce",
   "metadata": {},
   "outputs": [],
   "source": [
    "# Apply OCR first\n",
    "ocr_elements = page.apply_ocr(engine='easyocr')\n",
    "\n",
    "# Highlight OCR elements by confidence level (using group_by)\n",
    "# (This generates a temporary preview image)\n",
    "ocr_confidence_preview = page.find_all('text[source=ocr]').show(group_by=lambda el: f\"Conf >= {0.8 if el.confidence >= 0.8 else (0.5 if el.confidence >= 0.5 else 0.0):.1f}\")\n",
    "ocr_confidence_preview\n",
    "\n",
    "# --- Alternatively, add persistent highlights by confidence ---\n",
    "# page.clear_highlights() # Optional: Clear previous highlights\n",
    "# high_conf = page.find_all('text[source=ocr][confidence>=0.8]')\n",
    "# med_conf = page.find_all('text[source=ocr][confidence>=0.5][confidence<0.8]')\n",
    "# low_conf = page.find_all('text[source=ocr][confidence<0.5]')\n",
    "# high_conf.highlight(color=(0, 1, 0, 0.3), label=\"High Confidence\")\n",
    "# med_conf.highlight(color=(1, 1, 0, 0.3), label=\"Medium Confidence\")\n",
    "# low_conf.highlight(color=(1, 0, 0, 0.3), label=\"Low Confidence\")\n",
    "# page.viewer()\n",
    "\n",
    "# Save the visualization (if using persistent highlights)\n",
    "# page.save_image(\"ocr_confidence.png\", labels=True)"
   ]
  },
  {
   "cell_type": "markdown",
   "id": "d7d8334c",
   "metadata": {},
   "source": [
    "## Document QA Visualization\n",
    "\n",
    "Visualize document QA results:"
   ]
  },
  {
   "cell_type": "code",
   "execution_count": null,
   "id": "21e29f68",
   "metadata": {},
   "outputs": [],
   "source": [
    "# Ask a question to the document\n",
    "result = page.ask(\"What is the total revenue?\")\n",
    "\n",
    "if result.get(\"found\", False):\n",
    "    # Highlight the answer source elements\n",
    "    if \"source_elements\" in result:\n",
    "        for element in result[\"source_elements\"]:\n",
    "            element.highlight(color=(1, 0.5, 0, 0.3), label=\"Answer\")\n",
    "            \n",
    "    # Add the question and answer as an annotation\n",
    "    question = \"What is the total revenue?\"\n",
    "    answer = result[\"answer\"]\n",
    "    confidence = result[\"confidence\"]\n",
    "    \n",
    "    # Save the highlighted image\n",
    "    page.save_image(\"qa_visualization.png\", labels=True)"
   ]
  },
  {
   "cell_type": "markdown",
   "id": "e6a8f334",
   "metadata": {},
   "source": [
    "## Next Steps\n",
    "\n",
    "Now that you know how to visualize PDF content, you might want to explore:\n",
    "\n",
    "- [OCR capabilities](../ocr/index.md) for working with scanned documents\n",
    "- [Layout analysis](../layout-analysis/index.md) for automatic structure detection\n",
    "- [Document QA](../document-qa/index.md) for asking questions directly to your documents"
   ]
  }
 ],
 "metadata": {
  "jupytext": {
   "cell_metadata_filter": "-all",
   "main_language": "python",
   "notebook_metadata_filter": "-all",
   "text_representation": {
    "extension": ".md",
    "format_name": "markdown"
   }
  },
  "language_info": {
   "codemirror_mode": {
    "name": "ipython",
    "version": 3
   },
   "file_extension": ".py",
   "mimetype": "text/x-python",
   "name": "python",
   "nbconvert_exporter": "python",
   "pygments_lexer": "ipython3",
   "version": "3.10.13"
  }
 },
 "nbformat": 4,
 "nbformat_minor": 5
}
