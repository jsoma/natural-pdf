{
 "cells": [
  {
   "cell_type": "markdown",
   "id": "8c137785",
   "metadata": {},
   "source": [
    "# Finding Specific Elements\n",
    "\n",
    "Extracting all the text is useful, but often you need specific pieces of information. `natural-pdf` lets you find elements using selectors, similar to CSS.\n",
    "\n",
    "Let's find the \"Site\" and \"Date\" information from our `01-practice.pdf`:"
   ]
  },
  {
   "cell_type": "code",
   "execution_count": 1,
   "id": "b1cba3f7",
   "metadata": {
    "execution": {
     "iopub.execute_input": "2025-07-04T12:07:37.506762Z",
     "iopub.status.busy": "2025-07-04T12:07:37.506363Z",
     "iopub.status.idle": "2025-07-04T12:07:37.511448Z",
     "shell.execute_reply": "2025-07-04T12:07:37.510713Z"
    },
    "lines_to_next_cell": 2
   },
   "outputs": [],
   "source": [
    "#%pip install \"natural-pdf[all]\""
   ]
  },
  {
   "cell_type": "code",
   "execution_count": 2,
   "id": "ebda503d",
   "metadata": {
    "execution": {
     "iopub.execute_input": "2025-07-04T12:07:37.515039Z",
     "iopub.status.busy": "2025-07-04T12:07:37.514042Z",
     "iopub.status.idle": "2025-07-04T12:07:39.735673Z",
     "shell.execute_reply": "2025-07-04T12:07:39.734662Z"
    }
   },
   "outputs": [],
   "source": [
    "from natural_pdf import PDF\n",
    "\n",
    "# Load a PDF\n",
    "pdf = PDF(\"https://github.com/jsoma/natural-pdf/raw/refs/heads/main/pdfs/01-practice.pdf\")\n",
    "\n",
    "# Get the first page (index 0)\n",
    "page = pdf.pages[0]\n",
    "\n",
    "# Find the text element containing \"Site:\"\n",
    "# The ':contains()' pseudo-class looks for text content.\n",
    "site_label = page.find('text:contains(\"Site:\")')\n",
    "\n",
    "# Find the text element containing \"Date:\"\n",
    "date_label = page.find('text:contains(\"Date:\")')\n",
    "\n",
    "# Access the text content directly\n",
    "{\n",
    "    \"Site Label\": site_label.text,\n",
    "    \"Date Label\": date_label.text\n",
    "}\n",
    "\n",
    "# Visualize the found elements\n",
    "with page.highlights() as h:\n",
    "    h.add(site_label, color=\"red\", label=\"Site\")\n",
    "    h.add(date_label, color=\"blue\", label=\"Date\")\n",
    "    h.show()"
   ]
  },
  {
   "cell_type": "markdown",
   "id": "7272a4aa",
   "metadata": {},
   "source": [
    "## Finding Elements by Color\n",
    "\n",
    "You can find elements based on their color:"
   ]
  },
  {
   "cell_type": "code",
   "execution_count": 3,
   "id": "28677d8d",
   "metadata": {
    "execution": {
     "iopub.execute_input": "2025-07-04T12:07:39.740154Z",
     "iopub.status.busy": "2025-07-04T12:07:39.739624Z",
     "iopub.status.idle": "2025-07-04T12:07:39.774013Z",
     "shell.execute_reply": "2025-07-04T12:07:39.772513Z"
    }
   },
   "outputs": [
    {
     "name": "stdout",
     "output_type": "stream",
     "text": [
      "Found red text: INS-UP70N51NCL41R\n"
     ]
    }
   ],
   "source": [
    "# Find text elements that are red\n",
    "red_text = page.find('text[color~=red]')\n",
    "print(f\"Found red text: {red_text.text}\")\n",
    "red_text.show()\n",
    "\n",
    "# Find elements with specific RGB colors\n",
    "blue_text = page.find('text[color=rgb(0,0,255)]')"
   ]
  },
  {
   "cell_type": "markdown",
   "id": "d10bf78e",
   "metadata": {},
   "source": [
    "## Finding Lines and Shapes\n",
    "\n",
    "Find lines and rectangles based on their properties:"
   ]
  },
  {
   "cell_type": "code",
   "execution_count": 4,
   "id": "9c6d137b",
   "metadata": {
    "execution": {
     "iopub.execute_input": "2025-07-04T12:07:39.778947Z",
     "iopub.status.busy": "2025-07-04T12:07:39.778540Z",
     "iopub.status.idle": "2025-07-04T12:07:39.800487Z",
     "shell.execute_reply": "2025-07-04T12:07:39.799613Z"
    }
   },
   "outputs": [],
   "source": [
    "# Find horizontal lines\n",
    "horizontal_lines = page.find_all('line:horizontal')\n",
    "\n",
    "# Find thick lines (width >= 2)\n",
    "thick_lines = page.find_all('line[width>=2]')\n",
    "\n",
    "# Find rectangles\n",
    "rectangles = page.find_all('rect')\n",
    "\n",
    "# Visualize what we found\n",
    "with page.highlights() as h:\n",
    "    h.add(horizontal_lines, color=\"blue\", label=\"Horizontal\")\n",
    "    h.add(thick_lines, color=\"red\", label=\"Thick\")\n",
    "    h.add(rectangles, color=\"green\", label=\"Rectangles\")\n",
    "    h.show()"
   ]
  },
  {
   "cell_type": "markdown",
   "id": "3145b3a2",
   "metadata": {},
   "source": [
    "## Finding Elements by Font Properties"
   ]
  },
  {
   "cell_type": "code",
   "execution_count": 5,
   "id": "62a91998",
   "metadata": {
    "execution": {
     "iopub.execute_input": "2025-07-04T12:07:39.804584Z",
     "iopub.status.busy": "2025-07-04T12:07:39.804211Z",
     "iopub.status.idle": "2025-07-04T12:07:39.810382Z",
     "shell.execute_reply": "2025-07-04T12:07:39.809244Z"
    }
   },
   "outputs": [],
   "source": [
    "# Find text with specific font properties\n",
    "bold_text = page.find_all('text:bold')\n",
    "large_text = page.find_all('text[size>=12]')\n",
    "\n",
    "# Find text with specific font names\n",
    "helvetica_text = page.find_all('text[fontname=Helvetica]')"
   ]
  },
  {
   "cell_type": "markdown",
   "id": "7eadcc24",
   "metadata": {},
   "source": [
    "## Spatial Navigation\n",
    "\n",
    "You can find elements based on their position relative to other elements:"
   ]
  },
  {
   "cell_type": "code",
   "execution_count": 6,
   "id": "307a7baa",
   "metadata": {
    "execution": {
     "iopub.execute_input": "2025-07-04T12:07:39.814077Z",
     "iopub.status.busy": "2025-07-04T12:07:39.813509Z",
     "iopub.status.idle": "2025-07-04T12:07:39.831180Z",
     "shell.execute_reply": "2025-07-04T12:07:39.829927Z"
    }
   },
   "outputs": [],
   "source": [
    "# Find text above a specific element\n",
    "above_text = page.find('line[width=2]').above().extract_text()\n",
    "\n",
    "# Find text below a specific element\n",
    "below_text = page.find('text:contains(\"Summary\")').below().extract_text()\n",
    "\n",
    "# Find text to the right of a specific element\n",
    "nearby_text = page.find('text:contains(\"Site\")').right(width=200).extract_text()"
   ]
  },
  {
   "cell_type": "markdown",
   "id": "69e30832",
   "metadata": {},
   "source": [
    "## Combining Selectors\n",
    "\n",
    "You can combine multiple conditions to find exactly what you need:"
   ]
  },
  {
   "cell_type": "code",
   "execution_count": 7,
   "id": "b00dc1be",
   "metadata": {
    "execution": {
     "iopub.execute_input": "2025-07-04T12:07:39.834631Z",
     "iopub.status.busy": "2025-07-04T12:07:39.834351Z",
     "iopub.status.idle": "2025-07-04T12:07:39.845017Z",
     "shell.execute_reply": "2025-07-04T12:07:39.843892Z"
    }
   },
   "outputs": [],
   "source": [
    "# Find large, bold text that contains specific words\n",
    "important_text = page.find_all('text[size>=12]:bold:contains(\"Critical\")')\n",
    "\n",
    "# Find red text inside a rectangle\n",
    "highlighted_text = page.find('rect').find_all('text[color~=red]')"
   ]
  },
  {
   "cell_type": "markdown",
   "id": "ca5d3e2e",
   "metadata": {},
   "source": [
    "<div class=\"admonition note\">\n",
    "<p class=\"admonition-title\">Handling Missing Elements</p>\n",
    "\n",
    "    In these examples, we know certain elements exist in the PDF. In real-world scenarios, `page.find()` might not find a match and would return `None`. Production code should check for this:\n",
    "\n",
    "    ```py\n",
    "    site_label = page.find('text:contains(\"Site:\")')\n",
    "    if site_label:\n",
    "        # Found it! Proceed...\n",
    "        print(site_label.extract_text())\n",
    "    else:\n",
    "        # Didn't find it, handle appropriately...\n",
    "        \"Warning: 'Site:' label not found.\"\n",
    "    ```\n",
    "</div>\n",
    "\n",
    "<div class=\"admonition tip\">\n",
    "<p class=\"admonition-title\">Visual Debugging</p>\n",
    "\n",
    "    When working with complex selectors, it's helpful to visualize what you're finding:\n",
    "\n",
    "    ```py\n",
    "    elements = page.find_all('text[color~=red]')\n",
    "    elements.show()\n",
    "    ```\n",
    "</div>"
   ]
  }
 ],
 "metadata": {
  "jupytext": {
   "cell_metadata_filter": "-all",
   "main_language": "python",
   "notebook_metadata_filter": "-all",
   "text_representation": {
    "extension": ".md",
    "format_name": "markdown"
   }
  },
  "language_info": {
   "codemirror_mode": {
    "name": "ipython",
    "version": 3
   },
   "file_extension": ".py",
   "mimetype": "text/x-python",
   "name": "python",
   "nbconvert_exporter": "python",
   "pygments_lexer": "ipython3",
   "version": "3.10.13"
  }
 },
 "nbformat": 4,
 "nbformat_minor": 5
}
