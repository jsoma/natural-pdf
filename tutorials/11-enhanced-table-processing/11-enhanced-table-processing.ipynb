{
 "cells": [
  {
   "cell_type": "markdown",
   "id": "4a277654",
   "metadata": {},
   "source": [
    "# Enhanced Table Processing\n",
    "\n",
    "Tables can appear in PDFs in wildly different ways—cleanly tagged in the PDF structure, drawn with ruling lines, or simply implied by visual spacing.  `natural-pdf` exposes several back-ends under the single method `extract_table()` so you can choose the strategy that matches your document.\n",
    "\n",
    "Below we walk through the three main options, when to reach for each one, and sample code you can adapt (replace the example PDF URLs with your own files).\n",
    "\n",
    "## 1. `method=\"pdfplumber\"`  (default)\n",
    "\n",
    "* **How it works** – delegates to pdfplumber's ruling-line heuristics; looks for vertical/horizontal lines and whitespace gutters.\n",
    "* **Best for** – digitally-born PDFs where the table grid is drawn or where columns have consistent whitespace.\n",
    "\n",
    "### Example A – Grid-based (line) detection"
   ]
  },
  {
   "cell_type": "code",
   "execution_count": 1,
   "id": "d6b1f842",
   "metadata": {
    "execution": {
     "iopub.execute_input": "2025-07-01T14:54:20.283962Z",
     "iopub.status.busy": "2025-07-01T14:54:20.283251Z",
     "iopub.status.idle": "2025-07-01T14:54:22.577754Z",
     "shell.execute_reply": "2025-07-01T14:54:22.576813Z"
    }
   },
   "outputs": [
    {
     "data": {
      "text/plain": [
       "TableResult(rows=8…)"
      ]
     },
     "execution_count": 1,
     "metadata": {},
     "output_type": "execute_result"
    }
   ],
   "source": [
    "from natural_pdf import PDF\n",
    "\n",
    "pdf = PDF(\"https://github.com/jsoma/natural-pdf/raw/refs/heads/main/pdfs/01-practice.pdf\")\n",
    "page = pdf.pages[0]\n",
    "\n",
    "# Optional fine-tuning for pdfplumber.  Typical tweaks are vertical/horizontal strategies.\n",
    "settings = {\n",
    "    \"vertical_strategy\": \"lines\",\n",
    "    \"horizontal_strategy\": \"lines\",\n",
    "    \"intersection_tolerance\": 3,\n",
    "}\n",
    "\n",
    "rows = page.extract_table(method=\"pdfplumber\", table_settings=settings)\n",
    "rows  # ▶︎ returns a list of lists"
   ]
  },
  {
   "cell_type": "markdown",
   "id": "35dc6323",
   "metadata": {},
   "source": [
    "Expected output: a small list of rows containing the text exactly as it appears in the digital table.\n",
    "\n",
    "### Example B – Whitespace-driven detection\n",
    "\n",
    "Sometimes a table is **drawn without ruling lines** (or the PDF stores them as thick rectangles so the line detector ignores them).  In that case you can switch both strategies to `\"text\"` so pdfplumber clusters by the gaps between words rather than relying on graphics commands:"
   ]
  },
  {
   "cell_type": "code",
   "execution_count": 2,
   "id": "c53df34f",
   "metadata": {
    "execution": {
     "iopub.execute_input": "2025-07-01T14:54:22.582583Z",
     "iopub.status.busy": "2025-07-01T14:54:22.582053Z",
     "iopub.status.idle": "2025-07-01T14:54:22.631654Z",
     "shell.execute_reply": "2025-07-01T14:54:22.630840Z"
    }
   },
   "outputs": [],
   "source": [
    "settings_text = {\n",
    "    \"vertical_strategy\": \"text\",   # look for whitespace gutters\n",
    "    \"horizontal_strategy\": \"text\", # group into rows by vertical gaps\n",
    "    \"text_x_tolerance\": 2,          # tune for narrow columns\n",
    "    \"text_y_tolerance\": 2,\n",
    "}\n",
    "\n",
    "rows_text = page.extract_table(method=\"pdfplumber\", table_settings=settings_text)"
   ]
  },
  {
   "cell_type": "markdown",
   "id": "caa32ab1",
   "metadata": {},
   "source": [
    "Compare `rows_text` with the earlier `rows` list—if your PDF omits the grid, the whitespace strategy will usually outperform line-based detection.\n",
    "\n",
    "---\n",
    "\n",
    "## 2. `method=\"tatr\"`  (Table Transformer)\n",
    "\n",
    "* **How it works** – runs Microsoft's Table Transformer (LayoutLM-based) to detect tables, rows and cells visually, then reads the text inside each cell.\n",
    "* **Best for** – scanned or camera-based documents, or born-digital files where ruling lines are missing/irregular.\n",
    "* **Dependencies** – requires the **AI** extra (`pip install \"natural-pdf[ai]\"`) because it needs `torch`, `transformers`, and `torchvision`.\n",
    "\n",
    "### Example"
   ]
  },
  {
   "cell_type": "code",
   "execution_count": 3,
   "id": "ff4f6f93",
   "metadata": {
    "execution": {
     "iopub.execute_input": "2025-07-01T14:54:22.634502Z",
     "iopub.status.busy": "2025-07-01T14:54:22.634341Z",
     "iopub.status.idle": "2025-07-01T14:54:58.591953Z",
     "shell.execute_reply": "2025-07-01T14:54:58.591098Z"
    }
   },
   "outputs": [
    {
     "data": {
      "application/vnd.jupyter.widget-view+json": {
       "model_id": "2755d9b7e6534cd2b2034c531b5dd0bb",
       "version_major": 2,
       "version_minor": 0
      },
      "text/plain": [
       "Rendering pages:   0%|          | 0/1 [00:00<?, ?it/s]"
      ]
     },
     "metadata": {},
     "output_type": "display_data"
    },
    {
     "name": "stderr",
     "output_type": "stream",
     "text": [
      "Using CPU. Note: This module is much faster with a GPU.\n"
     ]
    },
    {
     "name": "stderr",
     "output_type": "stream",
     "text": [
      "/Users/soma/Development/natural-pdf/.nox/tutorials/lib/python3.10/site-packages/torch/utils/data/dataloader.py:683: UserWarning: 'pin_memory' argument is set as true but not supported on MPS now, then device pinned memory won't be used.\n",
      "  warnings.warn(warn_msg)\n"
     ]
    },
    {
     "data": {
      "text/plain": [
       "TableResult(rows=0)"
      ]
     },
     "execution_count": 3,
     "metadata": {},
     "output_type": "execute_result"
    }
   ],
   "source": [
    "from natural_pdf import PDF\n",
    "\n",
    "pdf = PDF(\"https://github.com/jsoma/natural-pdf/raw/refs/heads/main/pdfs/needs-ocr.pdf\")\n",
    "page = pdf.pages[0]\n",
    "\n",
    "# If the page is scanned, run OCR first so each cell has text\n",
    "page.apply_ocr(engine=\"easyocr\", languages=[\"en\"], resolution=200)\n",
    "\n",
    "# Table Transformer needs the layout model; specify device if you have GPU\n",
    "rows = page.extract_table(method=\"tatr\")\n",
    "rows"
   ]
  },
  {
   "cell_type": "markdown",
   "id": "a2a2b359",
   "metadata": {},
   "source": [
    "Expected output: the table rows—even when the grid is just implied—arrive with text already OCR-corrected.\n",
    "\n",
    "---\n",
    "\n",
    "## 3. `method=\"text\"`  (Whitespace heuristic)\n",
    "\n",
    "* **How it works** – groups words into lines, then uses whitespace clustering (Jenks breaks) to infer columns; no layout model.\n",
    "* **Best for** – simple, left-aligned tables with consistent columns but no ruling lines; fastest option.\n",
    "\n",
    "### Example"
   ]
  },
  {
   "cell_type": "code",
   "execution_count": 4,
   "id": "fd4de536",
   "metadata": {
    "execution": {
     "iopub.execute_input": "2025-07-01T14:54:58.597058Z",
     "iopub.status.busy": "2025-07-01T14:54:58.596266Z",
     "iopub.status.idle": "2025-07-01T14:54:58.602128Z",
     "shell.execute_reply": "2025-07-01T14:54:58.600647Z"
    }
   },
   "outputs": [],
   "source": [
    "# from natural_pdf import PDF\n",
    "\n",
    "# pdf = PDF(\"https://github.com/jsoma/natural-pdf/raw/refs/heads/main/pdfs/whitespace-table.pdf\")\n",
    "# page = pdf.pages[0]\n",
    "\n",
    "# rows = page.extract_table(method=\"text\", table_settings={\"min_words_horizontal\": 2})\n",
    "# for row in rows:\n",
    "#     print(row)"
   ]
  },
  {
   "cell_type": "markdown",
   "id": "c96db7bb",
   "metadata": {},
   "source": [
    "Expected output: printed rows that roughly match the visual columns; best effort on ragged layouts.\n",
    "\n",
    "---\n",
    "\n",
    "## 4. Lines-first workflow (when pdfplumber misses rows/cols)\n",
    "\n",
    "If `method=\"pdfplumber\"` cannot find the grid, detect lines explicitly and build the table structure yourself."
   ]
  },
  {
   "cell_type": "code",
   "execution_count": 5,
   "id": "8b757a82",
   "metadata": {
    "execution": {
     "iopub.execute_input": "2025-07-01T14:54:58.605546Z",
     "iopub.status.busy": "2025-07-01T14:54:58.605154Z",
     "iopub.status.idle": "2025-07-01T14:55:00.748979Z",
     "shell.execute_reply": "2025-07-01T14:55:00.748517Z"
    }
   },
   "outputs": [],
   "source": [
    "from natural_pdf.analyzers import Guides\n",
    "\n",
    "page.detect_lines(resolution=200, source_label=\"detected\", horizontal=True, vertical=True)\n",
    "\n",
    "# (Optional) visual check\n",
    "page.find_all(\"line[source=detected]\").show(group_by=\"orientation\")\n",
    "\n",
    "# Convert lines → regions using Guides\n",
    "guides = Guides.from_lines(page, source_label=\"detected\")\n",
    "guides.build_grid(source=\"detected\", cell_padding=0.5)\n",
    "\n",
    "table = page.find(\"region[type='table']\")"
   ]
  },
  {
   "cell_type": "markdown",
   "id": "adfde8aa",
   "metadata": {},
   "source": [
    "---\n",
    "\n",
    "## TODO\n",
    "\n",
    "* Provide a benchmark matrix of speed vs. accuracy for the three methods.\n",
    "* Add a snippet showing how to export cell regions directly to a pandas **DataFrame**.\n",
    "* Document edge-cases: rotated tables, merged cells, or header repetition across pages.\n",
    "* Include guidance on mixing methods—e.g., run `detect_lines` first, fall back to `text` for cells lacking grid."
   ]
  }
 ],
 "metadata": {
  "jupytext": {
   "cell_metadata_filter": "-all",
   "main_language": "python",
   "notebook_metadata_filter": "-all",
   "text_representation": {
    "extension": ".md",
    "format_name": "markdown"
   }
  },
  "language_info": {
   "codemirror_mode": {
    "name": "ipython",
    "version": 3
   },
   "file_extension": ".py",
   "mimetype": "text/x-python",
   "name": "python",
   "nbconvert_exporter": "python",
   "pygments_lexer": "ipython3",
   "version": "3.10.13"
  },
  "widgets": {
   "application/vnd.jupyter.widget-state+json": {
    "state": {
     "1281e5a12a44490b9fc164fb7bef3c66": {
      "model_module": "@jupyter-widgets/controls",
      "model_module_version": "2.0.0",
      "model_name": "FloatProgressModel",
      "state": {
       "_dom_classes": [],
       "_model_module": "@jupyter-widgets/controls",
       "_model_module_version": "2.0.0",
       "_model_name": "FloatProgressModel",
       "_view_count": null,
       "_view_module": "@jupyter-widgets/controls",
       "_view_module_version": "2.0.0",
       "_view_name": "ProgressView",
       "bar_style": "",
       "description": "",
       "description_allow_html": false,
       "layout": "IPY_MODEL_9da21cbd60dc415a898805c78dd459e9",
       "max": 1.0,
       "min": 0.0,
       "orientation": "horizontal",
       "style": "IPY_MODEL_f80c107400c5446abe54693ad343cf03",
       "tabbable": null,
       "tooltip": null,
       "value": 1.0
      }
     },
     "2755d9b7e6534cd2b2034c531b5dd0bb": {
      "model_module": "@jupyter-widgets/controls",
      "model_module_version": "2.0.0",
      "model_name": "HBoxModel",
      "state": {
       "_dom_classes": [],
       "_model_module": "@jupyter-widgets/controls",
       "_model_module_version": "2.0.0",
       "_model_name": "HBoxModel",
       "_view_count": null,
       "_view_module": "@jupyter-widgets/controls",
       "_view_module_version": "2.0.0",
       "_view_name": "HBoxView",
       "box_style": "",
       "children": [
        "IPY_MODEL_e67bb569d74a430984de2b1da41ddce8",
        "IPY_MODEL_1281e5a12a44490b9fc164fb7bef3c66",
        "IPY_MODEL_dece4a29182e44dca150646601059d13"
       ],
       "layout": "IPY_MODEL_acfdd86564be4cbaa3aa947760042bcf",
       "tabbable": null,
       "tooltip": null
      }
     },
     "3ec7e9ddbc074397a7ff03e8a69a8feb": {
      "model_module": "@jupyter-widgets/controls",
      "model_module_version": "2.0.0",
      "model_name": "HTMLStyleModel",
      "state": {
       "_model_module": "@jupyter-widgets/controls",
       "_model_module_version": "2.0.0",
       "_model_name": "HTMLStyleModel",
       "_view_count": null,
       "_view_module": "@jupyter-widgets/base",
       "_view_module_version": "2.0.0",
       "_view_name": "StyleView",
       "background": null,
       "description_width": "",
       "font_size": null,
       "text_color": null
      }
     },
     "786aed3d523a4433a68694d4cebeb627": {
      "model_module": "@jupyter-widgets/base",
      "model_module_version": "2.0.0",
      "model_name": "LayoutModel",
      "state": {
       "_model_module": "@jupyter-widgets/base",
       "_model_module_version": "2.0.0",
       "_model_name": "LayoutModel",
       "_view_count": null,
       "_view_module": "@jupyter-widgets/base",
       "_view_module_version": "2.0.0",
       "_view_name": "LayoutView",
       "align_content": null,
       "align_items": null,
       "align_self": null,
       "border_bottom": null,
       "border_left": null,
       "border_right": null,
       "border_top": null,
       "bottom": null,
       "display": null,
       "flex": null,
       "flex_flow": null,
       "grid_area": null,
       "grid_auto_columns": null,
       "grid_auto_flow": null,
       "grid_auto_rows": null,
       "grid_column": null,
       "grid_gap": null,
       "grid_row": null,
       "grid_template_areas": null,
       "grid_template_columns": null,
       "grid_template_rows": null,
       "height": null,
       "justify_content": null,
       "justify_items": null,
       "left": null,
       "margin": null,
       "max_height": null,
       "max_width": null,
       "min_height": null,
       "min_width": null,
       "object_fit": null,
       "object_position": null,
       "order": null,
       "overflow": null,
       "padding": null,
       "right": null,
       "top": null,
       "visibility": null,
       "width": null
      }
     },
     "9cb86cfd3bb74b189a6f1db1e2344449": {
      "model_module": "@jupyter-widgets/base",
      "model_module_version": "2.0.0",
      "model_name": "LayoutModel",
      "state": {
       "_model_module": "@jupyter-widgets/base",
       "_model_module_version": "2.0.0",
       "_model_name": "LayoutModel",
       "_view_count": null,
       "_view_module": "@jupyter-widgets/base",
       "_view_module_version": "2.0.0",
       "_view_name": "LayoutView",
       "align_content": null,
       "align_items": null,
       "align_self": null,
       "border_bottom": null,
       "border_left": null,
       "border_right": null,
       "border_top": null,
       "bottom": null,
       "display": null,
       "flex": null,
       "flex_flow": null,
       "grid_area": null,
       "grid_auto_columns": null,
       "grid_auto_flow": null,
       "grid_auto_rows": null,
       "grid_column": null,
       "grid_gap": null,
       "grid_row": null,
       "grid_template_areas": null,
       "grid_template_columns": null,
       "grid_template_rows": null,
       "height": null,
       "justify_content": null,
       "justify_items": null,
       "left": null,
       "margin": null,
       "max_height": null,
       "max_width": null,
       "min_height": null,
       "min_width": null,
       "object_fit": null,
       "object_position": null,
       "order": null,
       "overflow": null,
       "padding": null,
       "right": null,
       "top": null,
       "visibility": null,
       "width": null
      }
     },
     "9da21cbd60dc415a898805c78dd459e9": {
      "model_module": "@jupyter-widgets/base",
      "model_module_version": "2.0.0",
      "model_name": "LayoutModel",
      "state": {
       "_model_module": "@jupyter-widgets/base",
       "_model_module_version": "2.0.0",
       "_model_name": "LayoutModel",
       "_view_count": null,
       "_view_module": "@jupyter-widgets/base",
       "_view_module_version": "2.0.0",
       "_view_name": "LayoutView",
       "align_content": null,
       "align_items": null,
       "align_self": null,
       "border_bottom": null,
       "border_left": null,
       "border_right": null,
       "border_top": null,
       "bottom": null,
       "display": null,
       "flex": null,
       "flex_flow": null,
       "grid_area": null,
       "grid_auto_columns": null,
       "grid_auto_flow": null,
       "grid_auto_rows": null,
       "grid_column": null,
       "grid_gap": null,
       "grid_row": null,
       "grid_template_areas": null,
       "grid_template_columns": null,
       "grid_template_rows": null,
       "height": null,
       "justify_content": null,
       "justify_items": null,
       "left": null,
       "margin": null,
       "max_height": null,
       "max_width": null,
       "min_height": null,
       "min_width": null,
       "object_fit": null,
       "object_position": null,
       "order": null,
       "overflow": null,
       "padding": null,
       "right": null,
       "top": null,
       "visibility": null,
       "width": null
      }
     },
     "acfdd86564be4cbaa3aa947760042bcf": {
      "model_module": "@jupyter-widgets/base",
      "model_module_version": "2.0.0",
      "model_name": "LayoutModel",
      "state": {
       "_model_module": "@jupyter-widgets/base",
       "_model_module_version": "2.0.0",
       "_model_name": "LayoutModel",
       "_view_count": null,
       "_view_module": "@jupyter-widgets/base",
       "_view_module_version": "2.0.0",
       "_view_name": "LayoutView",
       "align_content": null,
       "align_items": null,
       "align_self": null,
       "border_bottom": null,
       "border_left": null,
       "border_right": null,
       "border_top": null,
       "bottom": null,
       "display": null,
       "flex": null,
       "flex_flow": null,
       "grid_area": null,
       "grid_auto_columns": null,
       "grid_auto_flow": null,
       "grid_auto_rows": null,
       "grid_column": null,
       "grid_gap": null,
       "grid_row": null,
       "grid_template_areas": null,
       "grid_template_columns": null,
       "grid_template_rows": null,
       "height": null,
       "justify_content": null,
       "justify_items": null,
       "left": null,
       "margin": null,
       "max_height": null,
       "max_width": null,
       "min_height": null,
       "min_width": null,
       "object_fit": null,
       "object_position": null,
       "order": null,
       "overflow": null,
       "padding": null,
       "right": null,
       "top": null,
       "visibility": "hidden",
       "width": null
      }
     },
     "cecad947529844b39f48786cc04930f4": {
      "model_module": "@jupyter-widgets/controls",
      "model_module_version": "2.0.0",
      "model_name": "HTMLStyleModel",
      "state": {
       "_model_module": "@jupyter-widgets/controls",
       "_model_module_version": "2.0.0",
       "_model_name": "HTMLStyleModel",
       "_view_count": null,
       "_view_module": "@jupyter-widgets/base",
       "_view_module_version": "2.0.0",
       "_view_name": "StyleView",
       "background": null,
       "description_width": "",
       "font_size": null,
       "text_color": null
      }
     },
     "dece4a29182e44dca150646601059d13": {
      "model_module": "@jupyter-widgets/controls",
      "model_module_version": "2.0.0",
      "model_name": "HTMLModel",
      "state": {
       "_dom_classes": [],
       "_model_module": "@jupyter-widgets/controls",
       "_model_module_version": "2.0.0",
       "_model_name": "HTMLModel",
       "_view_count": null,
       "_view_module": "@jupyter-widgets/controls",
       "_view_module_version": "2.0.0",
       "_view_name": "HTMLView",
       "description": "",
       "description_allow_html": false,
       "layout": "IPY_MODEL_9cb86cfd3bb74b189a6f1db1e2344449",
       "placeholder": "​",
       "style": "IPY_MODEL_cecad947529844b39f48786cc04930f4",
       "tabbable": null,
       "tooltip": null,
       "value": " 1/1 [00:00&lt;00:00,  1.28it/s]"
      }
     },
     "e67bb569d74a430984de2b1da41ddce8": {
      "model_module": "@jupyter-widgets/controls",
      "model_module_version": "2.0.0",
      "model_name": "HTMLModel",
      "state": {
       "_dom_classes": [],
       "_model_module": "@jupyter-widgets/controls",
       "_model_module_version": "2.0.0",
       "_model_name": "HTMLModel",
       "_view_count": null,
       "_view_module": "@jupyter-widgets/controls",
       "_view_module_version": "2.0.0",
       "_view_name": "HTMLView",
       "description": "",
       "description_allow_html": false,
       "layout": "IPY_MODEL_786aed3d523a4433a68694d4cebeb627",
       "placeholder": "​",
       "style": "IPY_MODEL_3ec7e9ddbc074397a7ff03e8a69a8feb",
       "tabbable": null,
       "tooltip": null,
       "value": "Rendering pages: 100%"
      }
     },
     "f80c107400c5446abe54693ad343cf03": {
      "model_module": "@jupyter-widgets/controls",
      "model_module_version": "2.0.0",
      "model_name": "ProgressStyleModel",
      "state": {
       "_model_module": "@jupyter-widgets/controls",
       "_model_module_version": "2.0.0",
       "_model_name": "ProgressStyleModel",
       "_view_count": null,
       "_view_module": "@jupyter-widgets/base",
       "_view_module_version": "2.0.0",
       "_view_name": "StyleView",
       "bar_color": null,
       "description_width": ""
      }
     }
    },
    "version_major": 2,
    "version_minor": 0
   }
  }
 },
 "nbformat": 4,
 "nbformat_minor": 5
}
