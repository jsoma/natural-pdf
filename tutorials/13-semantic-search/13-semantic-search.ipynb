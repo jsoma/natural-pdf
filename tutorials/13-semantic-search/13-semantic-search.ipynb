{
 "cells": [
  {
   "cell_type": "markdown",
   "id": "a91d3a6e",
   "metadata": {},
   "source": [
    "# Semantic Search Across Multiple Documents\n",
    "\n",
    "When working with a collection of PDFs, you might need to find information relevant to a specific query across all documents, not just within a single one. This tutorial demonstrates how to perform semantic search over a `PDFCollection`.\n",
    "\n",
    "You can do semantic search with the default install, but for increased performance with LanceDB I recommend installing the search extension."
   ]
  },
  {
   "cell_type": "code",
   "execution_count": 1,
   "id": "0564838b",
   "metadata": {
    "execution": {
     "iopub.execute_input": "2025-06-18T22:41:36.691776Z",
     "iopub.status.busy": "2025-06-18T22:41:36.691637Z",
     "iopub.status.idle": "2025-06-18T22:41:36.695105Z",
     "shell.execute_reply": "2025-06-18T22:41:36.694659Z"
    }
   },
   "outputs": [],
   "source": [
    "#%pip install \"natural-pdf[search]\""
   ]
  },
  {
   "cell_type": "code",
   "execution_count": 2,
   "id": "414ce216",
   "metadata": {
    "execution": {
     "iopub.execute_input": "2025-06-18T22:41:36.696847Z",
     "iopub.status.busy": "2025-06-18T22:41:36.696677Z",
     "iopub.status.idle": "2025-06-18T22:41:38.722509Z",
     "shell.execute_reply": "2025-06-18T22:41:38.722076Z"
    }
   },
   "outputs": [
    {
     "data": {
      "application/vnd.jupyter.widget-view+json": {
       "model_id": "1d8d15a1d32f453a968464e9d300a8e6",
       "version_major": 2,
       "version_minor": 0
      },
      "text/plain": [
       "Loading PDFs:   0%|          | 0/2 [00:00<?, ?it/s]"
      ]
     },
     "metadata": {},
     "output_type": "display_data"
    },
    {
     "name": "stdout",
     "output_type": "stream",
     "text": [
      "Created collection with 2 PDFs.\n"
     ]
    }
   ],
   "source": [
    "import natural_pdf\n",
    "\n",
    "# Define the paths to your PDF files\n",
    "pdf_paths = [\n",
    "    \"https://github.com/jsoma/natural-pdf/raw/refs/heads/main/pdfs/01-practice.pdf\",\n",
    "    \"https://github.com/jsoma/natural-pdf/raw/refs/heads/main/pdfs/Atlanta_Public_Schools_GA_sample.pdf\"\n",
    "]\n",
    "\n",
    "# Or use glob patterns\n",
    "# collection = natural_pdf.PDFCollection(\"pdfs/*.pdf\")\n",
    "\n",
    "# Create a PDFCollection\n",
    "collection = natural_pdf.PDFCollection(pdf_paths)\n",
    "print(f\"Created collection with {len(collection.pdfs)} PDFs.\")"
   ]
  },
  {
   "cell_type": "markdown",
   "id": "4fb1bb48",
   "metadata": {},
   "source": [
    "## Initializing the Search Index\n",
    "\n",
    "Before performing a search, you need to initialize the search capabilities for the collection. This involves processing the documents and building an index."
   ]
  },
  {
   "cell_type": "code",
   "execution_count": 3,
   "id": "7d86310a",
   "metadata": {
    "execution": {
     "iopub.execute_input": "2025-06-18T22:41:38.724538Z",
     "iopub.status.busy": "2025-06-18T22:41:38.724134Z",
     "iopub.status.idle": "2025-06-18T22:41:42.894354Z",
     "shell.execute_reply": "2025-06-18T22:41:42.893972Z"
    }
   },
   "outputs": [
    {
     "name": "stderr",
     "output_type": "stream",
     "text": [
      "/Users/soma/Development/natural-pdf/.nox/tutorials/lib/python3.10/site-packages/transformers/tokenization_utils_base.py:1601: FutureWarning: `clean_up_tokenization_spaces` was not set. It will be set to `True` by default. This behavior will be depracted in transformers v4.45, and will be then set to `False` by default. For more details check this issue: https://github.com/huggingface/transformers/issues/31884\n",
      "  warnings.warn(\n"
     ]
    },
    {
     "name": "stdout",
     "output_type": "stream",
     "text": [
      "Search index initialized.\n"
     ]
    }
   ],
   "source": [
    "# Initialize search.\n",
    "# index=True will build the serachable database immediately\n",
    "# persist=True will save it so you don't need to do it every time\n",
    "collection.init_search(index=True)\n",
    "print(\"Search index initialized.\")"
   ]
  },
  {
   "cell_type": "markdown",
   "id": "bc4f0532",
   "metadata": {},
   "source": [
    "## Performing a Semantic Search\n",
    "\n",
    "Once the index is ready, you can use the `find_relevant()` method to search for content semantically related to your query."
   ]
  },
  {
   "cell_type": "code",
   "execution_count": 4,
   "id": "1c72332d",
   "metadata": {
    "execution": {
     "iopub.execute_input": "2025-06-18T22:41:42.896133Z",
     "iopub.status.busy": "2025-06-18T22:41:42.895861Z",
     "iopub.status.idle": "2025-06-18T22:41:42.995767Z",
     "shell.execute_reply": "2025-06-18T22:41:42.995344Z"
    }
   },
   "outputs": [
    {
     "name": "stdout",
     "output_type": "stream",
     "text": [
      "Found 6 results for 'american president':\n"
     ]
    }
   ],
   "source": [
    "# Perform a search query\n",
    "query = \"american president\"\n",
    "results = collection.find_relevant(query)\n",
    "\n",
    "print(f\"Found {len(results)} results for '{query}':\")"
   ]
  },
  {
   "cell_type": "markdown",
   "id": "79e0bb43",
   "metadata": {},
   "source": [
    "## Understanding Search Results\n",
    "\n",
    "The `find_relevant()` method returns a list of dictionaries, each representing a relevant text chunk found in one of the PDFs. Each result includes:\n",
    "\n",
    "*   `pdf_path`: The path to the PDF document where the result was found.\n",
    "*   `page_number`: The page number within the PDF.\n",
    "*   `score`: A relevance score (higher means more relevant).\n",
    "*   `content_snippet`: A snippet of the text chunk that matched the query.\n",
    "\n",
    "In the future we should be able to easily look at the PDF!"
   ]
  },
  {
   "cell_type": "code",
   "execution_count": 5,
   "id": "14105c7a",
   "metadata": {
    "execution": {
     "iopub.execute_input": "2025-06-18T22:41:42.997715Z",
     "iopub.status.busy": "2025-06-18T22:41:42.997397Z",
     "iopub.status.idle": "2025-06-18T22:41:43.000459Z",
     "shell.execute_reply": "2025-06-18T22:41:43.000122Z"
    }
   },
   "outputs": [
    {
     "name": "stdout",
     "output_type": "stream",
     "text": [
      "  1. PDF: https://github.com/jsoma/natural-pdf/raw/refs/heads/main/pdfs/Atlanta_Public_Schools_GA_sample.pdf\n",
      "     Page: 2 (Score: -0.8584)\n",
      "     Snippet: Library Weeding Log Atlanta Public Schools\n",
      "From: 8/1/2017 To: 6/30/2023\n",
      "6/6/2023 - Copies Removed: 130\n",
      "The Anasazi (Removed: 1)\n",
      "Author: Petersen, David. ISBN: 0-516-01121-9 (trade) Published: 1991\n",
      "Sit...\n",
      "  2. PDF: https://github.com/jsoma/natural-pdf/raw/refs/heads/main/pdfs/Atlanta_Public_Schools_GA_sample.pdf\n",
      "     Page: 5 (Score: -0.8661)\n",
      "     Snippet: Library Weeding Log Atlanta Public Schools\n",
      "From: 8/1/2017 To: 6/30/2023\n",
      "6/6/2023 - Copies Removed: 130\n",
      "Centennial Place 33170000562167 $13.10 11/5/1999 33554-43170\n",
      "Academy (Charter)\n",
      "Was Available -- W...\n",
      "  3. PDF: https://github.com/jsoma/natural-pdf/raw/refs/heads/main/pdfs/01-practice.pdf\n",
      "     Page: 1 (Score: -1.0080)\n",
      "     Snippet: Jungle Health and Safety Inspection Service\n",
      "INS-UP70N51NCL41R\n",
      "Site: Durham’s Meatpacking Chicago, Ill.\n",
      "Date: February 3, 1905\n",
      "Violation Count: 7\n",
      "Summary: Worst of any, however, were the fertilizer men...\n",
      "  4. PDF: https://github.com/jsoma/natural-pdf/raw/refs/heads/main/pdfs/Atlanta_Public_Schools_GA_sample.pdf\n",
      "     Page: 4 (Score: -1.0489)\n",
      "     Snippet: Library Weeding Log Atlanta Public Schools\n",
      "From: 8/1/2017 To: 6/30/2023\n",
      "6/6/2023 - Copies Removed: 130\n",
      "Children of the Philippines (Removed: 1)\n",
      "Author: Kinkade, Sheila, 1962- ISBN: 0-87614-993-X Publi...\n",
      "  5. PDF: https://github.com/jsoma/natural-pdf/raw/refs/heads/main/pdfs/Atlanta_Public_Schools_GA_sample.pdf\n",
      "     Page: 3 (Score: -1.0890)\n",
      "     Snippet: Library Weeding Log Atlanta Public Schools\n",
      "From: 8/1/2017 To: 6/30/2023\n",
      "6/6/2023 - Copies Removed: 130\n",
      "Centennial Place 33170000507600 $19.45 2/21/2000 33554-43170\n",
      "Academy (Charter)\n",
      "Was Available -- W...\n",
      "  6. PDF: https://github.com/jsoma/natural-pdf/raw/refs/heads/main/pdfs/Atlanta_Public_Schools_GA_sample.pdf\n",
      "     Page: 1 (Score: -1.0946)\n",
      "     Snippet: Library Weeding Log Atlanta Public Schools\n",
      "From: 8/1/2017 To: 6/30/2023\n",
      "6/12/2023 - Copies Removed: 2\n",
      "Tristan Strong punches a hole in the sky (Removed: 1)\n",
      "Author: Mbalia, Kwame. ISBN: 978-1-36803993-...\n"
     ]
    }
   ],
   "source": [
    "# Process and display the results\n",
    "if results:\n",
    "    for i, result in enumerate(results):\n",
    "        print(f\"  {i+1}. PDF: {result['pdf_path']}\")\n",
    "        print(f\"     Page: {result['page_number']} (Score: {result['score']:.4f})\")\n",
    "        # Display a snippet of the content\n",
    "        snippet = result.get('content_snippet', '')\n",
    "        print(f\"     Snippet: {snippet}...\") \n",
    "else:\n",
    "    print(\"  No relevant results found.\")\n",
    "\n",
    "# You can access the full content if needed via the result object, \n",
    "# though 'content_snippet' is usually sufficient for display."
   ]
  },
  {
   "cell_type": "markdown",
   "id": "c992a0c9",
   "metadata": {},
   "source": [
    "Semantic search allows you to efficiently query large sets of documents to find the most relevant information without needing exact keyword matches, leveraging the meaning and context of your query. \n",
    "\n",
    "## TODO\n",
    "\n",
    "* Add example for using `persist=True` and `collection_name` in `init_search` to create a persistent on-disk index.\n",
    "* Show how to override the embedding model (e.g. `embedding_model=\"all-MiniLM-L12-v2\"`).\n",
    "* Mention `top_k` and filtering options available through `SearchOptions` when calling `find_relevant`.\n",
    "* Provide a short snippet on visualising matched pages/elements once highlighting support lands (future feature).\n",
    "* Clarify that installing the AI stack (`natural-pdf[ai]`) also pulls in `sentence-transformers`, which is needed for in-memory NumPy fallback. "
   ]
  }
 ],
 "metadata": {
  "jupytext": {
   "cell_metadata_filter": "-all",
   "main_language": "python",
   "notebook_metadata_filter": "-all",
   "text_representation": {
    "extension": ".md",
    "format_name": "markdown"
   }
  },
  "language_info": {
   "codemirror_mode": {
    "name": "ipython",
    "version": 3
   },
   "file_extension": ".py",
   "mimetype": "text/x-python",
   "name": "python",
   "nbconvert_exporter": "python",
   "pygments_lexer": "ipython3",
   "version": "3.10.13"
  },
  "widgets": {
   "application/vnd.jupyter.widget-state+json": {
    "state": {
     "1d8d15a1d32f453a968464e9d300a8e6": {
      "model_module": "@jupyter-widgets/controls",
      "model_module_version": "2.0.0",
      "model_name": "HBoxModel",
      "state": {
       "_dom_classes": [],
       "_model_module": "@jupyter-widgets/controls",
       "_model_module_version": "2.0.0",
       "_model_name": "HBoxModel",
       "_view_count": null,
       "_view_module": "@jupyter-widgets/controls",
       "_view_module_version": "2.0.0",
       "_view_name": "HBoxView",
       "box_style": "",
       "children": [
        "IPY_MODEL_9d2331dd4b4f453d8ecafaf68c95f45a",
        "IPY_MODEL_cd42a903432d45b4b13636601209f466",
        "IPY_MODEL_c682bf11deb74cf7bad1d426b7573ff9"
       ],
       "layout": "IPY_MODEL_5e4d87600dc0445e992bbd6aa7d8dc65",
       "tabbable": null,
       "tooltip": null
      }
     },
     "29274cd93c5c47be8ba8b952db993ff1": {
      "model_module": "@jupyter-widgets/controls",
      "model_module_version": "2.0.0",
      "model_name": "HTMLStyleModel",
      "state": {
       "_model_module": "@jupyter-widgets/controls",
       "_model_module_version": "2.0.0",
       "_model_name": "HTMLStyleModel",
       "_view_count": null,
       "_view_module": "@jupyter-widgets/base",
       "_view_module_version": "2.0.0",
       "_view_name": "StyleView",
       "background": null,
       "description_width": "",
       "font_size": null,
       "text_color": null
      }
     },
     "5098ba56f67343eb9ce8a543c0738e13": {
      "model_module": "@jupyter-widgets/base",
      "model_module_version": "2.0.0",
      "model_name": "LayoutModel",
      "state": {
       "_model_module": "@jupyter-widgets/base",
       "_model_module_version": "2.0.0",
       "_model_name": "LayoutModel",
       "_view_count": null,
       "_view_module": "@jupyter-widgets/base",
       "_view_module_version": "2.0.0",
       "_view_name": "LayoutView",
       "align_content": null,
       "align_items": null,
       "align_self": null,
       "border_bottom": null,
       "border_left": null,
       "border_right": null,
       "border_top": null,
       "bottom": null,
       "display": null,
       "flex": null,
       "flex_flow": null,
       "grid_area": null,
       "grid_auto_columns": null,
       "grid_auto_flow": null,
       "grid_auto_rows": null,
       "grid_column": null,
       "grid_gap": null,
       "grid_row": null,
       "grid_template_areas": null,
       "grid_template_columns": null,
       "grid_template_rows": null,
       "height": null,
       "justify_content": null,
       "justify_items": null,
       "left": null,
       "margin": null,
       "max_height": null,
       "max_width": null,
       "min_height": null,
       "min_width": null,
       "object_fit": null,
       "object_position": null,
       "order": null,
       "overflow": null,
       "padding": null,
       "right": null,
       "top": null,
       "visibility": null,
       "width": null
      }
     },
     "5e4d87600dc0445e992bbd6aa7d8dc65": {
      "model_module": "@jupyter-widgets/base",
      "model_module_version": "2.0.0",
      "model_name": "LayoutModel",
      "state": {
       "_model_module": "@jupyter-widgets/base",
       "_model_module_version": "2.0.0",
       "_model_name": "LayoutModel",
       "_view_count": null,
       "_view_module": "@jupyter-widgets/base",
       "_view_module_version": "2.0.0",
       "_view_name": "LayoutView",
       "align_content": null,
       "align_items": null,
       "align_self": null,
       "border_bottom": null,
       "border_left": null,
       "border_right": null,
       "border_top": null,
       "bottom": null,
       "display": null,
       "flex": null,
       "flex_flow": null,
       "grid_area": null,
       "grid_auto_columns": null,
       "grid_auto_flow": null,
       "grid_auto_rows": null,
       "grid_column": null,
       "grid_gap": null,
       "grid_row": null,
       "grid_template_areas": null,
       "grid_template_columns": null,
       "grid_template_rows": null,
       "height": null,
       "justify_content": null,
       "justify_items": null,
       "left": null,
       "margin": null,
       "max_height": null,
       "max_width": null,
       "min_height": null,
       "min_width": null,
       "object_fit": null,
       "object_position": null,
       "order": null,
       "overflow": null,
       "padding": null,
       "right": null,
       "top": null,
       "visibility": null,
       "width": null
      }
     },
     "86a2b4b5722147a6a0d5db4e9b0ffcb3": {
      "model_module": "@jupyter-widgets/base",
      "model_module_version": "2.0.0",
      "model_name": "LayoutModel",
      "state": {
       "_model_module": "@jupyter-widgets/base",
       "_model_module_version": "2.0.0",
       "_model_name": "LayoutModel",
       "_view_count": null,
       "_view_module": "@jupyter-widgets/base",
       "_view_module_version": "2.0.0",
       "_view_name": "LayoutView",
       "align_content": null,
       "align_items": null,
       "align_self": null,
       "border_bottom": null,
       "border_left": null,
       "border_right": null,
       "border_top": null,
       "bottom": null,
       "display": null,
       "flex": null,
       "flex_flow": null,
       "grid_area": null,
       "grid_auto_columns": null,
       "grid_auto_flow": null,
       "grid_auto_rows": null,
       "grid_column": null,
       "grid_gap": null,
       "grid_row": null,
       "grid_template_areas": null,
       "grid_template_columns": null,
       "grid_template_rows": null,
       "height": null,
       "justify_content": null,
       "justify_items": null,
       "left": null,
       "margin": null,
       "max_height": null,
       "max_width": null,
       "min_height": null,
       "min_width": null,
       "object_fit": null,
       "object_position": null,
       "order": null,
       "overflow": null,
       "padding": null,
       "right": null,
       "top": null,
       "visibility": null,
       "width": null
      }
     },
     "9d2331dd4b4f453d8ecafaf68c95f45a": {
      "model_module": "@jupyter-widgets/controls",
      "model_module_version": "2.0.0",
      "model_name": "HTMLModel",
      "state": {
       "_dom_classes": [],
       "_model_module": "@jupyter-widgets/controls",
       "_model_module_version": "2.0.0",
       "_model_name": "HTMLModel",
       "_view_count": null,
       "_view_module": "@jupyter-widgets/controls",
       "_view_module_version": "2.0.0",
       "_view_name": "HTMLView",
       "description": "",
       "description_allow_html": false,
       "layout": "IPY_MODEL_86a2b4b5722147a6a0d5db4e9b0ffcb3",
       "placeholder": "​",
       "style": "IPY_MODEL_29274cd93c5c47be8ba8b952db993ff1",
       "tabbable": null,
       "tooltip": null,
       "value": "Loading PDFs: 100%"
      }
     },
     "c682bf11deb74cf7bad1d426b7573ff9": {
      "model_module": "@jupyter-widgets/controls",
      "model_module_version": "2.0.0",
      "model_name": "HTMLModel",
      "state": {
       "_dom_classes": [],
       "_model_module": "@jupyter-widgets/controls",
       "_model_module_version": "2.0.0",
       "_model_name": "HTMLModel",
       "_view_count": null,
       "_view_module": "@jupyter-widgets/controls",
       "_view_module_version": "2.0.0",
       "_view_name": "HTMLView",
       "description": "",
       "description_allow_html": false,
       "layout": "IPY_MODEL_f86fd7e9db724c588e7c1986f0826161",
       "placeholder": "​",
       "style": "IPY_MODEL_ede7ef04df774e298e6bcd88bf287ec5",
       "tabbable": null,
       "tooltip": null,
       "value": " 2/2 [00:00&lt;00:00,  3.10it/s]"
      }
     },
     "cd42a903432d45b4b13636601209f466": {
      "model_module": "@jupyter-widgets/controls",
      "model_module_version": "2.0.0",
      "model_name": "FloatProgressModel",
      "state": {
       "_dom_classes": [],
       "_model_module": "@jupyter-widgets/controls",
       "_model_module_version": "2.0.0",
       "_model_name": "FloatProgressModel",
       "_view_count": null,
       "_view_module": "@jupyter-widgets/controls",
       "_view_module_version": "2.0.0",
       "_view_name": "ProgressView",
       "bar_style": "success",
       "description": "",
       "description_allow_html": false,
       "layout": "IPY_MODEL_5098ba56f67343eb9ce8a543c0738e13",
       "max": 2.0,
       "min": 0.0,
       "orientation": "horizontal",
       "style": "IPY_MODEL_f22068a2cad447daa652803cecb4406f",
       "tabbable": null,
       "tooltip": null,
       "value": 2.0
      }
     },
     "ede7ef04df774e298e6bcd88bf287ec5": {
      "model_module": "@jupyter-widgets/controls",
      "model_module_version": "2.0.0",
      "model_name": "HTMLStyleModel",
      "state": {
       "_model_module": "@jupyter-widgets/controls",
       "_model_module_version": "2.0.0",
       "_model_name": "HTMLStyleModel",
       "_view_count": null,
       "_view_module": "@jupyter-widgets/base",
       "_view_module_version": "2.0.0",
       "_view_name": "StyleView",
       "background": null,
       "description_width": "",
       "font_size": null,
       "text_color": null
      }
     },
     "f22068a2cad447daa652803cecb4406f": {
      "model_module": "@jupyter-widgets/controls",
      "model_module_version": "2.0.0",
      "model_name": "ProgressStyleModel",
      "state": {
       "_model_module": "@jupyter-widgets/controls",
       "_model_module_version": "2.0.0",
       "_model_name": "ProgressStyleModel",
       "_view_count": null,
       "_view_module": "@jupyter-widgets/base",
       "_view_module_version": "2.0.0",
       "_view_name": "StyleView",
       "bar_color": null,
       "description_width": ""
      }
     },
     "f86fd7e9db724c588e7c1986f0826161": {
      "model_module": "@jupyter-widgets/base",
      "model_module_version": "2.0.0",
      "model_name": "LayoutModel",
      "state": {
       "_model_module": "@jupyter-widgets/base",
       "_model_module_version": "2.0.0",
       "_model_name": "LayoutModel",
       "_view_count": null,
       "_view_module": "@jupyter-widgets/base",
       "_view_module_version": "2.0.0",
       "_view_name": "LayoutView",
       "align_content": null,
       "align_items": null,
       "align_self": null,
       "border_bottom": null,
       "border_left": null,
       "border_right": null,
       "border_top": null,
       "bottom": null,
       "display": null,
       "flex": null,
       "flex_flow": null,
       "grid_area": null,
       "grid_auto_columns": null,
       "grid_auto_flow": null,
       "grid_auto_rows": null,
       "grid_column": null,
       "grid_gap": null,
       "grid_row": null,
       "grid_template_areas": null,
       "grid_template_columns": null,
       "grid_template_rows": null,
       "height": null,
       "justify_content": null,
       "justify_items": null,
       "left": null,
       "margin": null,
       "max_height": null,
       "max_width": null,
       "min_height": null,
       "min_width": null,
       "object_fit": null,
       "object_position": null,
       "order": null,
       "overflow": null,
       "padding": null,
       "right": null,
       "top": null,
       "visibility": null,
       "width": null
      }
     }
    },
    "version_major": 2,
    "version_minor": 0
   }
  }
 },
 "nbformat": 4,
 "nbformat_minor": 5
}